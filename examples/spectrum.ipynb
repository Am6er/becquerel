{
 "cells": [
  {
   "cell_type": "markdown",
   "metadata": {},
   "source": [
    "# Various examples with the Spectrum object"
   ]
  },
  {
   "cell_type": "code",
   "execution_count": 45,
   "metadata": {},
   "outputs": [
    {
     "name": "stdout",
     "output_type": "stream",
     "text": [
      "The autoreload extension is already loaded. To reload it, use:\n",
      "  %reload_ext autoreload\n"
     ]
    }
   ],
   "source": [
    "# Reload\n",
    "%load_ext autoreload\n",
    "%autoreload 2\n",
    "\n",
    "from becquerel import Spectrum\n",
    "import numpy as np\n",
    "np.random.seed(0)"
   ]
  },
  {
   "cell_type": "markdown",
   "metadata": {},
   "source": [
    "## Basic properties\n",
    "\n",
    "Let's load a spectrum from a file and look at some of its basic properties."
   ]
  },
  {
   "cell_type": "code",
   "execution_count": 46,
   "metadata": {},
   "outputs": [
    {
     "name": "stdout",
     "output_type": "stream",
     "text": [
      "SpeFile: Reading file ../tests/samples/1110C NAA cave pottery.Spe\n"
     ]
    }
   ],
   "source": [
    "spec = Spectrum.from_file('../tests/samples/1110C NAA cave pottery.Spe')"
   ]
  },
  {
   "cell_type": "markdown",
   "metadata": {},
   "source": [
    "How many channels?"
   ]
  },
  {
   "cell_type": "code",
   "execution_count": 47,
   "metadata": {},
   "outputs": [
    {
     "data": {
      "text/plain": [
       "16384"
      ]
     },
     "execution_count": 47,
     "metadata": {},
     "output_type": "execute_result"
    }
   ],
   "source": [
    "len(spec)"
   ]
  },
  {
   "cell_type": "markdown",
   "metadata": {},
   "source": [
    "Did an energy calibration get loaded from the file?"
   ]
  },
  {
   "cell_type": "code",
   "execution_count": 48,
   "metadata": {},
   "outputs": [
    {
     "data": {
      "text/plain": [
       "True"
      ]
     },
     "execution_count": 48,
     "metadata": {},
     "output_type": "execute_result"
    }
   ],
   "source": [
    "spec.is_calibrated"
   ]
  },
  {
   "cell_type": "markdown",
   "metadata": {},
   "source": [
    "When was this spectrum acquired? How long is it?"
   ]
  },
  {
   "cell_type": "code",
   "execution_count": 49,
   "metadata": {},
   "outputs": [
    {
     "name": "stdout",
     "output_type": "stream",
     "text": [
      "2017-04-25 12:54:27\n",
      "2017-04-25 17:30:24\n",
      "16557.0\n",
      "16543.0\n"
     ]
    }
   ],
   "source": [
    "print(spec.start_time)\n",
    "print(spec.stop_time)\n",
    "print(spec.realtime)\n",
    "print(spec.livetime)"
   ]
  },
  {
   "cell_type": "markdown",
   "metadata": {},
   "source": [
    "Let's take a look at the counts in some of the bins."
   ]
  },
  {
   "cell_type": "code",
   "execution_count": 50,
   "metadata": {},
   "outputs": [
    {
     "data": {
      "text/plain": [
       "array([ 7.,  9.,  3.,  4.,  6.,  8.,  2.,  7.,  8., 12.,  6.,  9., 13.,\n",
       "       28., 22., 19., 14., 20., 13.,  9., 15.,  6.,  5.,  5.,  3.,  1.,\n",
       "        2.,  1.,  0.,  0.])"
      ]
     },
     "execution_count": 50,
     "metadata": {},
     "output_type": "execute_result"
    }
   ],
   "source": [
    "spec.counts_vals[7980:8010]"
   ]
  },
  {
   "cell_type": "markdown",
   "metadata": {},
   "source": [
    "What energy are those bins at?"
   ]
  },
  {
   "cell_type": "code",
   "execution_count": 51,
   "metadata": {},
   "outputs": [
    {
     "data": {
      "text/plain": [
       "array([1458.69631121, 1458.87910415, 1459.06189709, 1459.24469003,\n",
       "       1459.42748296, 1459.6102759 , 1459.79306883, 1459.97586177,\n",
       "       1460.1586547 , 1460.34144763, 1460.52424056, 1460.70703348,\n",
       "       1460.88982641, 1461.07261933, 1461.25541226, 1461.43820518,\n",
       "       1461.6209981 , 1461.80379102, 1461.98658394, 1462.16937685,\n",
       "       1462.35216977, 1462.53496268, 1462.71775559, 1462.9005485 ,\n",
       "       1463.08334141, 1463.26613432, 1463.44892723, 1463.63172013,\n",
       "       1463.81451304, 1463.99730594])"
      ]
     },
     "execution_count": 51,
     "metadata": {},
     "output_type": "execute_result"
    }
   ],
   "source": [
    "spec.energies_kev[7980:8010]"
   ]
  },
  {
   "cell_type": "markdown",
   "metadata": {},
   "source": [
    "## Uncertainties, CPS, coarser binning\n",
    "\n",
    "The counts include uncertainty by default."
   ]
  },
  {
   "cell_type": "code",
   "execution_count": 52,
   "metadata": {},
   "outputs": [
    {
     "name": "stdout",
     "output_type": "stream",
     "text": [
      "counts: [6.0+/-2.449489742783178 9.0+/-3.0 13.0+/-3.605551275463989\n",
      " 28.0+/-5.291502622129181 22.0+/-4.69041575982343 19.0+/-4.358898943540674\n",
      " 14.0+/-3.7416573867739413]\n",
      "counts_vals: [ 6.  9. 13. 28. 22. 19. 14.]\n",
      "counts_uncs: [2.44948974 3.         3.60555128 5.29150262 4.69041576 4.35889894\n",
      " 3.74165739]\n"
     ]
    }
   ],
   "source": [
    "print('counts: {}'.format(spec.counts[7990:7997]))\n",
    "print('counts_vals: {}'.format(spec.counts_vals[7990:7997]))\n",
    "print('counts_uncs: {}'.format(spec.counts_uncs[7990:7997]))"
   ]
  },
  {
   "cell_type": "markdown",
   "metadata": {},
   "source": [
    "We also have access to CPS, and CPS/keV, with their values and uncertainties."
   ]
  },
  {
   "cell_type": "code",
   "execution_count": 53,
   "metadata": {},
   "outputs": [
    {
     "name": "stdout",
     "output_type": "stream",
     "text": [
      "cps:      [0.00036269116847004775+/-0.00014806804949423792\n",
      " 0.0005440367527050716+/-0.00018134558423502388\n",
      " 0.0007858308650184368+/-0.0002179502675127842\n",
      " 0.0016925587861935563+/-0.0003198635448303924\n",
      " 0.0013298676177235084+/-0.00028352872875678106\n",
      " 0.0011485220334884845+/-0.0002634890251792706\n",
      " 0.0008462793930967781+/-0.0002261776816039377]\n",
      "cps_vals: [0.00036269 0.00054404 0.00078583 0.00169256 0.00132987 0.00114852\n",
      " 0.00084628]\n",
      "cps_uncs: [0.00014807 0.00018135 0.00021795 0.00031986 0.00028353 0.00026349\n",
      " 0.00022618]\n",
      "\n",
      "cpskev:   [0.001984164117225736+/-0.0008100316088571466\n",
      " 0.002976246198195663+/-0.000992082066065221\n",
      " 0.004299022318581503+/-0.0011923342618468994\n",
      " 0.00925943275574236+/-0.001749868310944269\n",
      " 0.0072752686484572095+/-0.0015510924875305908\n",
      " 0.006283186607229465+/-0.001441461866543233\n",
      " 0.004629716482204129+/-0.001237343776736296]\n"
     ]
    }
   ],
   "source": [
    "print('cps:      {}'.format(spec.cps[7990:7997]))\n",
    "print('cps_vals: {}'.format(spec.cps_vals[7990:7997]))\n",
    "print('cps_uncs: {}'.format(spec.cps_uncs[7990:7997]))\n",
    "print()\n",
    "print('cpskev:   {}'.format(spec.cpskev[7990:7997]))"
   ]
  },
  {
   "cell_type": "markdown",
   "metadata": {},
   "source": [
    "For some analyses, 16k bins might be too fine."
   ]
  },
  {
   "cell_type": "code",
   "execution_count": 54,
   "metadata": {},
   "outputs": [
    {
     "name": "stdout",
     "output_type": "stream",
     "text": [
      "Current bin width: 0.18279265121922095\n",
      "New number of channels: 4096\n",
      "New bin width: 0.7311706048768838\n",
      "[23. 23. 35. 82. 56. 31.  7.  1.  3.  2.]\n"
     ]
    }
   ],
   "source": [
    "print('Current bin width: {}'.format(np.mean(spec.bin_widths)))\n",
    "\n",
    "spec2 = spec.combine_bins(4)\n",
    "print('New number of channels: {}'.format(len(spec2)))\n",
    "print('New bin width: {}'.format(np.mean(spec2.bin_widths)))\n",
    "print(spec2.counts_vals[1995:2005])"
   ]
  },
  {
   "cell_type": "markdown",
   "metadata": {},
   "source": [
    "Where exactly are these bins?"
   ]
  },
  {
   "cell_type": "code",
   "execution_count": 55,
   "metadata": {},
   "outputs": [
    {
     "name": "stdout",
     "output_type": "stream",
     "text": [
      "[1458.60491474 1458.78770768 1458.97050062 1459.15329356 1459.3360865\n",
      " 1459.51887943 1459.70167237 1459.8844653  1460.06725823 1460.25005116\n",
      " 1460.43284409 1460.61563702 1460.79842995 1460.98122287 1461.1640158\n",
      " 1461.34680872 1461.52960164 1461.71239456 1461.89518748 1462.0779804\n",
      " 1462.26077331 1462.44356622 1462.62635914 1462.80915205 1462.99194496\n",
      " 1463.17473787 1463.35753078 1463.54032368 1463.72311659 1463.90590949]\n",
      "[1458.60491474 1459.3360865  1460.06725823 1460.79842995 1461.52960164\n",
      " 1462.26077331 1462.99194496 1463.72311659 1464.45428819 1465.18545977]\n"
     ]
    }
   ],
   "source": [
    "print(spec.bin_edges_kev[7980:8010])\n",
    "print(spec2.bin_edges_kev[1995:2005])"
   ]
  },
  {
   "cell_type": "markdown",
   "metadata": {},
   "source": [
    "## Spectrum arithmetic, downsampling\n",
    "\n",
    "Let's introduce a second spectrum, a long background measurement."
   ]
  },
  {
   "cell_type": "code",
   "execution_count": 56,
   "metadata": {},
   "outputs": [
    {
     "name": "stdout",
     "output_type": "stream",
     "text": [
      "SpeFile: Reading file ../tests/samples/1110C NAA cave background May 2017.spe\n",
      "Start time: 2017-04-26 11:05:11\n",
      "Stop time:  2017-05-01 12:43:34\n"
     ]
    }
   ],
   "source": [
    "bg = Spectrum.from_file('../tests/samples/1110C NAA cave background May 2017.spe')\n",
    "print('Start time: {}'.format(bg.start_time))\n",
    "print('Stop time:  {}'.format(bg.stop_time))"
   ]
  },
  {
   "cell_type": "markdown",
   "metadata": {},
   "source": [
    "Since `spec` and `bg` have the same binning, we can add them together."
   ]
  },
  {
   "cell_type": "code",
   "execution_count": 57,
   "metadata": {},
   "outputs": [
    {
     "name": "stdout",
     "output_type": "stream",
     "text": [
      "Pottery spectrum:     304706 counts in  16543 s livetime\n",
      "Background spectrum: 1052900 counts in 437817 s livetime\n"
     ]
    },
    {
     "ename": "TypeError",
     "evalue": "Spectrum addition/subtraction must involve a Spectrum object",
     "output_type": "error",
     "traceback": [
      "\u001b[0;31m---------------------------------------------------------------------------\u001b[0m",
      "\u001b[0;31mTypeError\u001b[0m                                 Traceback (most recent call last)",
      "\u001b[0;32m<ipython-input-57-cdb8c9dcbaff>\u001b[0m in \u001b[0;36m<module>\u001b[0;34m\u001b[0m\n\u001b[1;32m      4\u001b[0m     np.sum(bg.counts_vals), bg.livetime))\n\u001b[1;32m      5\u001b[0m \u001b[0;34m\u001b[0m\u001b[0m\n\u001b[0;32m----> 6\u001b[0;31m \u001b[0mspec_and_bg\u001b[0m \u001b[0;34m=\u001b[0m \u001b[0mspec\u001b[0m \u001b[0;34m+\u001b[0m \u001b[0mbg\u001b[0m\u001b[0;34m\u001b[0m\u001b[0;34m\u001b[0m\u001b[0m\n\u001b[0m\u001b[1;32m      7\u001b[0m print('Combined spectrum:   {:7.0f} counts in {:6.0f} s livetime'.format(\n\u001b[1;32m      8\u001b[0m     np.sum(spec_and_bg.counts_vals), spec_and_bg.livetime))\n",
      "\u001b[0;32m~/becquerel/becquerel/core/spectrum.py\u001b[0m in \u001b[0;36m__add__\u001b[0;34m(self, other)\u001b[0m\n\u001b[1;32m    557\u001b[0m         \"\"\"\n\u001b[1;32m    558\u001b[0m \u001b[0;34m\u001b[0m\u001b[0m\n\u001b[0;32m--> 559\u001b[0;31m         \u001b[0mself\u001b[0m\u001b[0;34m.\u001b[0m\u001b[0m_add_sub_error_checking\u001b[0m\u001b[0;34m(\u001b[0m\u001b[0mother\u001b[0m\u001b[0;34m)\u001b[0m\u001b[0;34m\u001b[0m\u001b[0;34m\u001b[0m\u001b[0m\n\u001b[0m\u001b[1;32m    560\u001b[0m         \u001b[0;32mif\u001b[0m \u001b[0;34m(\u001b[0m\u001b[0mself\u001b[0m\u001b[0;34m.\u001b[0m\u001b[0m_counts\u001b[0m \u001b[0;32mis\u001b[0m \u001b[0;32mNone\u001b[0m\u001b[0;34m)\u001b[0m \u001b[0;34m^\u001b[0m \u001b[0;34m(\u001b[0m\u001b[0mother\u001b[0m\u001b[0;34m.\u001b[0m\u001b[0m_counts\u001b[0m \u001b[0;32mis\u001b[0m \u001b[0;32mNone\u001b[0m\u001b[0;34m)\u001b[0m\u001b[0;34m:\u001b[0m\u001b[0;34m\u001b[0m\u001b[0;34m\u001b[0m\u001b[0m\n\u001b[1;32m    561\u001b[0m             raise SpectrumError(\n",
      "\u001b[0;32m~/becquerel/becquerel/core/spectrum.py\u001b[0m in \u001b[0;36m_add_sub_error_checking\u001b[0;34m(self, other)\u001b[0m\n\u001b[1;32m    638\u001b[0m         \u001b[0;32mif\u001b[0m \u001b[0;32mnot\u001b[0m \u001b[0misinstance\u001b[0m\u001b[0;34m(\u001b[0m\u001b[0mother\u001b[0m\u001b[0;34m,\u001b[0m \u001b[0mSpectrum\u001b[0m\u001b[0;34m)\u001b[0m\u001b[0;34m:\u001b[0m\u001b[0;34m\u001b[0m\u001b[0;34m\u001b[0m\u001b[0m\n\u001b[1;32m    639\u001b[0m             raise TypeError(\n\u001b[0;32m--> 640\u001b[0;31m                 'Spectrum addition/subtraction must involve a Spectrum object')\n\u001b[0m\u001b[1;32m    641\u001b[0m         \u001b[0;32mif\u001b[0m \u001b[0mlen\u001b[0m\u001b[0;34m(\u001b[0m\u001b[0mself\u001b[0m\u001b[0;34m)\u001b[0m \u001b[0;34m!=\u001b[0m \u001b[0mlen\u001b[0m\u001b[0;34m(\u001b[0m\u001b[0mother\u001b[0m\u001b[0;34m)\u001b[0m\u001b[0;34m:\u001b[0m\u001b[0;34m\u001b[0m\u001b[0;34m\u001b[0m\u001b[0m\n\u001b[1;32m    642\u001b[0m             raise SpectrumError(\n",
      "\u001b[0;31mTypeError\u001b[0m: Spectrum addition/subtraction must involve a Spectrum object"
     ]
    }
   ],
   "source": [
    "print('Pottery spectrum:    {:7.0f} counts in {:6.0f} s livetime'.format(\n",
    "    np.sum(spec.counts_vals), spec.livetime))\n",
    "print('Background spectrum: {:7.0f} counts in {:6.0f} s livetime'.format(\n",
    "    np.sum(bg.counts_vals), bg.livetime))\n",
    "\n",
    "spec_and_bg = spec + bg\n",
    "print('Combined spectrum:   {:7.0f} counts in {:6.0f} s livetime'.format(\n",
    "    np.sum(spec_and_bg.counts_vals), spec_and_bg.livetime))"
   ]
  },
  {
   "cell_type": "markdown",
   "metadata": {},
   "source": [
    "Subtraction works differently. Subtracting counts from counts is not meaningful, but subtracting countrates is essential for background subtraction. So the subtraction operation calculates with countrates only."
   ]
  },
  {
   "cell_type": "code",
   "execution_count": 58,
   "metadata": {},
   "outputs": [
    {
     "name": "stdout",
     "output_type": "stream",
     "text": [
      "Total pottery countrate:    18.419+/- 0.034\n",
      "Total background countrate:  2.405+/- 0.002\n"
     ]
    },
    {
     "ename": "TypeError",
     "evalue": "Spectrum addition/subtraction must involve a Spectrum object",
     "output_type": "error",
     "traceback": [
      "\u001b[0;31m---------------------------------------------------------------------------\u001b[0m",
      "\u001b[0;31mTypeError\u001b[0m                                 Traceback (most recent call last)",
      "\u001b[0;32m<ipython-input-58-4c517de75d6f>\u001b[0m in \u001b[0;36m<module>\u001b[0;34m\u001b[0m\n\u001b[1;32m      2\u001b[0m \u001b[0mprint\u001b[0m\u001b[0;34m(\u001b[0m\u001b[0;34m'Total background countrate: {:6.3f}'\u001b[0m\u001b[0;34m.\u001b[0m\u001b[0mformat\u001b[0m\u001b[0;34m(\u001b[0m\u001b[0mnp\u001b[0m\u001b[0;34m.\u001b[0m\u001b[0msum\u001b[0m\u001b[0;34m(\u001b[0m\u001b[0mbg\u001b[0m\u001b[0;34m.\u001b[0m\u001b[0mcps\u001b[0m\u001b[0;34m)\u001b[0m\u001b[0;34m)\u001b[0m\u001b[0;34m)\u001b[0m\u001b[0;34m\u001b[0m\u001b[0;34m\u001b[0m\u001b[0m\n\u001b[1;32m      3\u001b[0m \u001b[0;34m\u001b[0m\u001b[0m\n\u001b[0;32m----> 4\u001b[0;31m \u001b[0mbgsub\u001b[0m \u001b[0;34m=\u001b[0m \u001b[0mspec\u001b[0m \u001b[0;34m-\u001b[0m \u001b[0mbg\u001b[0m\u001b[0;34m\u001b[0m\u001b[0;34m\u001b[0m\u001b[0m\n\u001b[0m\u001b[1;32m      5\u001b[0m \u001b[0mprint\u001b[0m\u001b[0;34m(\u001b[0m\u001b[0;34m'Total subtracted countrate: {:6.3f}'\u001b[0m\u001b[0;34m.\u001b[0m\u001b[0mformat\u001b[0m\u001b[0;34m(\u001b[0m\u001b[0mnp\u001b[0m\u001b[0;34m.\u001b[0m\u001b[0msum\u001b[0m\u001b[0;34m(\u001b[0m\u001b[0mbgsub\u001b[0m\u001b[0;34m.\u001b[0m\u001b[0mcps\u001b[0m\u001b[0;34m)\u001b[0m\u001b[0;34m)\u001b[0m\u001b[0;34m)\u001b[0m\u001b[0;34m\u001b[0m\u001b[0;34m\u001b[0m\u001b[0m\n\u001b[1;32m      6\u001b[0m \u001b[0mprint\u001b[0m\u001b[0;34m(\u001b[0m\u001b[0;34m''\u001b[0m\u001b[0;34m)\u001b[0m\u001b[0;34m\u001b[0m\u001b[0;34m\u001b[0m\u001b[0m\n",
      "\u001b[0;32m~/becquerel/becquerel/core/spectrum.py\u001b[0m in \u001b[0;36m__sub__\u001b[0;34m(self, other)\u001b[0m\n\u001b[1;32m    603\u001b[0m         \"\"\"\n\u001b[1;32m    604\u001b[0m \u001b[0;34m\u001b[0m\u001b[0m\n\u001b[0;32m--> 605\u001b[0;31m         \u001b[0mself\u001b[0m\u001b[0;34m.\u001b[0m\u001b[0m_add_sub_error_checking\u001b[0m\u001b[0;34m(\u001b[0m\u001b[0mother\u001b[0m\u001b[0;34m)\u001b[0m\u001b[0;34m\u001b[0m\u001b[0;34m\u001b[0m\u001b[0m\n\u001b[0m\u001b[1;32m    606\u001b[0m         \u001b[0;32mtry\u001b[0m\u001b[0;34m:\u001b[0m\u001b[0;34m\u001b[0m\u001b[0;34m\u001b[0m\u001b[0m\n\u001b[1;32m    607\u001b[0m             \u001b[0mkwargs\u001b[0m \u001b[0;34m=\u001b[0m \u001b[0;34m{\u001b[0m\u001b[0;34m'cps'\u001b[0m\u001b[0;34m:\u001b[0m \u001b[0mself\u001b[0m\u001b[0;34m.\u001b[0m\u001b[0mcps\u001b[0m \u001b[0;34m-\u001b[0m \u001b[0mother\u001b[0m\u001b[0;34m.\u001b[0m\u001b[0mcps\u001b[0m\u001b[0;34m}\u001b[0m\u001b[0;34m\u001b[0m\u001b[0;34m\u001b[0m\u001b[0m\n",
      "\u001b[0;32m~/becquerel/becquerel/core/spectrum.py\u001b[0m in \u001b[0;36m_add_sub_error_checking\u001b[0;34m(self, other)\u001b[0m\n\u001b[1;32m    638\u001b[0m         \u001b[0;32mif\u001b[0m \u001b[0;32mnot\u001b[0m \u001b[0misinstance\u001b[0m\u001b[0;34m(\u001b[0m\u001b[0mother\u001b[0m\u001b[0;34m,\u001b[0m \u001b[0mSpectrum\u001b[0m\u001b[0;34m)\u001b[0m\u001b[0;34m:\u001b[0m\u001b[0;34m\u001b[0m\u001b[0;34m\u001b[0m\u001b[0m\n\u001b[1;32m    639\u001b[0m             raise TypeError(\n\u001b[0;32m--> 640\u001b[0;31m                 'Spectrum addition/subtraction must involve a Spectrum object')\n\u001b[0m\u001b[1;32m    641\u001b[0m         \u001b[0;32mif\u001b[0m \u001b[0mlen\u001b[0m\u001b[0;34m(\u001b[0m\u001b[0mself\u001b[0m\u001b[0;34m)\u001b[0m \u001b[0;34m!=\u001b[0m \u001b[0mlen\u001b[0m\u001b[0;34m(\u001b[0m\u001b[0mother\u001b[0m\u001b[0;34m)\u001b[0m\u001b[0;34m:\u001b[0m\u001b[0;34m\u001b[0m\u001b[0;34m\u001b[0m\u001b[0m\n\u001b[1;32m    642\u001b[0m             raise SpectrumError(\n",
      "\u001b[0;31mTypeError\u001b[0m: Spectrum addition/subtraction must involve a Spectrum object"
     ]
    }
   ],
   "source": [
    "print('Total pottery countrate:    {:6.3f}'.format(np.sum(spec.cps)))\n",
    "print('Total background countrate: {:6.3f}'.format(np.sum(bg.cps)))\n",
    "\n",
    "bgsub = spec - bg\n",
    "print('Total subtracted countrate: {:6.3f}'.format(np.sum(bgsub.cps)))\n",
    "print('')\n",
    "print('In the K-40 peak:')\n",
    "print('Pottery counts: {}'.format(spec.counts_vals[7990:7997]))\n",
    "print('Pottery cps: {}'.format(spec.cps_vals[7990:7997]))\n",
    "print('Background counts: {}'.format(bg.counts_vals[7990:7997]))\n",
    "print('Background cps: {}'.format(bg.cps_vals[7990:7997]))\n",
    "print('Subtracted cps: {}'.format(bgsub.cps[7990:7997]))"
   ]
  },
  {
   "cell_type": "markdown",
   "metadata": {},
   "source": [
    "Looks like there's no sign of K-40 in that pottery.\n",
    "\n",
    "Counts and livetime are not meaningful in a subtracted spectrum."
   ]
  },
  {
   "cell_type": "markdown",
   "metadata": {},
   "source": [
    "We can also scale a spectrum up or down manually."
   ]
  },
  {
   "cell_type": "code",
   "execution_count": 59,
   "metadata": {},
   "outputs": [
    {
     "name": "stdout",
     "output_type": "stream",
     "text": [
      "[ 6.  9. 13. 28. 22. 19. 14.]\n",
      "[154.2 231.3 334.1 719.6 565.4 488.3 359.8]\n",
      "[ 2.60869565  3.91304348  5.65217391 12.17391304  9.56521739  8.26086957\n",
      "  6.08695652]\n"
     ]
    }
   ],
   "source": [
    "print(spec.counts_vals[7990:7997])\n",
    "spec3 = spec * 25.7\n",
    "print(spec3.counts_vals[7990:7997])\n",
    "spec4 = spec / 2.3\n",
    "print(spec4.counts_vals[7990:7997])"
   ]
  },
  {
   "cell_type": "markdown",
   "metadata": {},
   "source": [
    "But if we want to simulate a shorter or weaker spectrum, downsampling will give us realistic statistics."
   ]
  },
  {
   "cell_type": "code",
   "execution_count": 60,
   "metadata": {},
   "outputs": [
    {
     "name": "stdout",
     "output_type": "stream",
     "text": [
      "[ 2.  5.  6. 13. 14.  5.  6.]\n"
     ]
    }
   ],
   "source": [
    "spec5 = spec.downsample(2.3)\n",
    "print(spec5.counts_vals[7990:7997])"
   ]
  },
  {
   "cell_type": "markdown",
   "metadata": {},
   "source": [
    "## List mode data from an ADC"
   ]
  },
  {
   "cell_type": "markdown",
   "metadata": {},
   "source": [
    "First, let's create some synthetic list-mode data of a Gaussian peak"
   ]
  },
  {
   "cell_type": "code",
   "execution_count": 126,
   "metadata": {},
   "outputs": [],
   "source": [
    "import matplotlib.pyplot as plt\n",
    "\n",
    "nsamples = 10000\n",
    "lmd = np.random.normal(5000, 250, nsamples)"
   ]
  },
  {
   "cell_type": "markdown",
   "metadata": {},
   "source": [
    "We can create a Spectrum object from the data using default settings"
   ]
  },
  {
   "cell_type": "code",
   "execution_count": 127,
   "metadata": {},
   "outputs": [
    {
     "name": "stdout",
     "output_type": "stream",
     "text": [
      "nbins = 5951\n",
      "Uniform bins? True\n"
     ]
    },
    {
     "data": {
      "image/png": "[encoded data removed]",
      "text/plain": [
       "<Figure size 432x288 with 1 Axes>"
      ]
     },
     "metadata": {
      "needs_background": "light"
     },
     "output_type": "display_data"
    }
   ],
   "source": [
    "spec6 = Spectrum.from_listmode(lmd)\n",
    "print('nbins =', spec6.get_nbins())\n",
    "print('Uniform bins?', spec6.has_uniform_bins())\n",
    "plt.plot(spec6.counts_vals)\n",
    "plt.show()"
   ]
  },
  {
   "cell_type": "markdown",
   "metadata": {},
   "source": [
    "Or specify bins and ranges ourselves"
   ]
  },
  {
   "cell_type": "code",
   "execution_count": 128,
   "metadata": {},
   "outputs": [
    {
     "name": "stdout",
     "output_type": "stream",
     "text": [
      "nbins = 1000\n",
      "Uniform bins? True\n"
     ]
    },
    {
     "data": {
      "image/png": "[encoded data removed]",
      "text/plain": [
       "<Figure size 432x288 with 1 Axes>"
      ]
     },
     "metadata": {
      "needs_background": "light"
     },
     "output_type": "display_data"
    }
   ],
   "source": [
    "spec7 = Spectrum.from_listmode(lmd, bins=1000, xmin=0, xmax=10000)\n",
    "print('nbins =', spec7.get_nbins())\n",
    "print('Uniform bins?', spec7.has_uniform_bins())\n",
    "plt.plot(spec7.bin_edges_kev[:-1], spec7.counts_vals)\n",
    "plt.show()\n",
    "# Note that the Spectrum.plot() method fails here because it works in bin mode.\n",
    "# There might be a kwargs solution to that problem, but it should be fixed later.\n",
    "# Note also that we still call bin_edges_kev, because bin_edges_adc has not yet been implemented."
   ]
  },
  {
   "cell_type": "markdown",
   "metadata": {},
   "source": [
    "We can even specify an array of (possibly non-uniform) bins"
   ]
  },
  {
   "cell_type": "code",
   "execution_count": 129,
   "metadata": {},
   "outputs": [
    {
     "name": "stdout",
     "output_type": "stream",
     "text": [
      "nbins = 119\n",
      "Uniform bins? False\n",
      "[15.43616208 15.49601408 15.55609815 15.61641519 15.6769661  15.73775179\n",
      " 15.79877317 15.86003115 15.92152666 15.9832606  16.04523391 16.10744752\n",
      " 16.16990235 16.23259935 16.29553945 16.35872358 16.42215271 16.48582778\n",
      " 16.54974974 16.61391955 16.67833818 16.74300657 16.80792572 16.87309658\n",
      " 16.93852013 17.00419735 17.07012924 17.13631676 17.20276092 17.26946271\n",
      " 17.33642313 17.40364318 17.47112386 17.5388662  17.6068712  17.67513988\n",
      " 17.74367327 17.81247238 17.88153826 17.95087194 18.02047444 18.09034682\n",
      " 18.16049013 18.23090541 18.30159371 18.3725561  18.44379364 18.5153074\n",
      " 18.58709844 18.65916784 18.73151669 18.80414606 18.87705704 18.95025072\n",
      " 19.02372821 19.0974906  19.17153899 19.2458745  19.32049823 19.39541131\n",
      " 19.47061486 19.54611    19.62189786 19.69797959 19.77435631 19.85102917\n",
      " 19.92799933 20.00526792 20.08283612 20.16070508 20.23887597 20.31734996\n",
      " 20.39612822 20.47521193 20.55460229 20.63430047 20.71430767 20.79462509\n",
      " 20.87525393 20.9561954  21.03745072 21.11902109 21.20090774 21.2831119\n",
      " 21.3656348  21.44847766 21.53164175 21.61512829 21.69893854 21.78307376\n",
      " 21.8675352  21.95232413 22.03744182 22.12288955 22.20866859 22.29478023\n",
      " 22.38122576 22.46800647 22.55512366 22.64257864 22.73037271 22.8185072\n",
      " 22.90698342 22.9958027  23.08496636 23.17447575 23.2643322  23.35453705\n",
      " 23.44509167 23.5359974  23.62725561 23.71886766 23.81083493 23.90315879\n",
      " 23.99584062 24.08888182 24.18228378 24.27604789 24.37017556]\n"
     ]
    },
    {
     "data": {
      "image/png": "[encoded data removed]",
      "text/plain": [
       "<Figure size 432x288 with 1 Axes>"
      ]
     },
     "metadata": {
      "needs_background": "light"
     },
     "output_type": "display_data"
    }
   ],
   "source": [
    "logbins = np.logspace(3.6, 3.8, num=120)\n",
    "spec8 = Spectrum.from_listmode(lmd, bins=logbins)\n",
    "print('nbins =', spec8.get_nbins())\n",
    "print('Uniform bins?', spec8.has_uniform_bins())\n",
    "print(spec8.bin_widths)\n",
    "plt.plot(spec8.bin_edges_kev[:-1], spec8.counts_vals)\n",
    "plt.show()"
   ]
  },
  {
   "cell_type": "markdown",
   "metadata": {},
   "source": [
    "Find the bins corresponding to a particular channel"
   ]
  },
  {
   "cell_type": "code",
   "execution_count": 130,
   "metadata": {},
   "outputs": [
    {
     "name": "stdout",
     "output_type": "stream",
     "text": [
      "399\n",
      "0\n",
      "1000\n"
     ]
    }
   ],
   "source": [
    "print(spec7.find_bin(3996))\n",
    "print(spec7.find_bin(0))\n",
    "print(spec7.find_bin(10000))"
   ]
  },
  {
   "cell_type": "code",
   "execution_count": 131,
   "metadata": {},
   "outputs": [
    {
     "name": "stdout",
     "output_type": "stream",
     "text": [
      "Failed successfully!\n"
     ]
    }
   ],
   "source": [
    "# test an out-of-range error\n",
    "try:\n",
    "    print(spec7.find_bin(10001))\n",
    "except AssertionError:\n",
    "    print(\"Failed successfully!\")"
   ]
  },
  {
   "cell_type": "code",
   "execution_count": 132,
   "metadata": {},
   "outputs": [
    {
     "name": "stdout",
     "output_type": "stream",
     "text": [
      "0\n",
      "3981.0717055349733\n",
      "3996.5078676179\n"
     ]
    }
   ],
   "source": [
    "print(spec8.find_bin(3996))\n",
    "print(spec8.bin_edges_kev[0])\n",
    "print(spec8.bin_edges_kev[1])"
   ]
  },
  {
   "cell_type": "markdown",
   "metadata": {},
   "source": [
    "Read in from a list-mode h5"
   ]
  },
  {
   "cell_type": "code",
   "execution_count": 133,
   "metadata": {},
   "outputs": [],
   "source": [
    "import tables\n",
    "lmd = tables.open_file('../tests/samples/cllbc_listmode.h5', 'r').root.Energy\n",
    "spec9 = Spectrum.from_listmode(lmd, bins=500, xmin=0, xmax=1000000)"
   ]
  },
  {
   "cell_type": "code",
   "execution_count": 134,
   "metadata": {},
   "outputs": [
    {
     "data": {
      "image/png": "[encoded data removed]",
      "text/plain": [
       "<Figure size 432x288 with 1 Axes>"
      ]
     },
     "metadata": {
      "needs_background": "light"
     },
     "output_type": "display_data"
    }
   ],
   "source": [
    "plt.figure()\n",
    "plt.plot(spec9.bin_edges_kev[:-1], spec9.counts_vals)\n",
    "plt.yscale('log')\n",
    "plt.show()"
   ]
  },
  {
   "cell_type": "code",
   "execution_count": null,
   "metadata": {},
   "outputs": [],
   "source": []
  }
 ],
 "metadata": {
  "kernelspec": {
   "display_name": "Python 3",
   "language": "python",
   "name": "python3"
  },
  "language_info": {
   "codemirror_mode": {
    "name": "ipython",
    "version": 3
   },
   "file_extension": ".py",
   "mimetype": "text/x-python",
   "name": "python",
   "nbconvert_exporter": "python",
   "pygments_lexer": "ipython3",
   "version": "3.7.3"
  }
 },
 "nbformat": 4,
 "nbformat_minor": 1
}
