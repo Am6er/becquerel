{
 "cells": [
  {
   "cell_type": "markdown",
   "metadata": {},
   "source": [
    "# Various examples with the Spectrum object"
   ]
  },
  {
   "cell_type": "code",
   "execution_count": 1,
   "metadata": {},
   "outputs": [],
   "source": [
    "from becquerel import Spectrum\n",
    "import numpy as np\n",
    "np.random.seed(0)"
   ]
  },
  {
   "cell_type": "markdown",
   "metadata": {},
   "source": [
    "## Basic properties\n",
    "\n",
    "Let's load a spectrum from a file and look at some of its basic properties."
   ]
  },
  {
   "cell_type": "code",
   "execution_count": 2,
   "metadata": {},
   "outputs": [
    {
     "name": "stdout",
     "output_type": "stream",
     "text": [
      "SpeFile: Reading file ../tests/samples/1110C NAA cave pottery.Spe\n"
     ]
    },
    {
     "name": "stderr",
     "output_type": "stream",
     "text": [
      "becquerel/parsers/spe_file.py:148: SpectrumFileParsingWarning: SpeFile has $PRESETS field, skipping 3 lines\n",
      "  SpectrumFileParsingWarning)\n"
     ]
    }
   ],
   "source": [
    "spec = Spectrum.from_file('../tests/samples/1110C NAA cave pottery.Spe')"
   ]
  },
  {
   "cell_type": "markdown",
   "metadata": {},
   "source": [
    "How many channels?"
   ]
  },
  {
   "cell_type": "code",
   "execution_count": 3,
   "metadata": {},
   "outputs": [
    {
     "data": {
      "text/plain": [
       "16384"
      ]
     },
     "execution_count": 3,
     "metadata": {},
     "output_type": "execute_result"
    }
   ],
   "source": [
    "len(spec)"
   ]
  },
  {
   "cell_type": "markdown",
   "metadata": {},
   "source": [
    "Did an energy calibration get loaded from the file?"
   ]
  },
  {
   "cell_type": "code",
   "execution_count": 4,
   "metadata": {},
   "outputs": [
    {
     "data": {
      "text/plain": [
       "True"
      ]
     },
     "execution_count": 4,
     "metadata": {},
     "output_type": "execute_result"
    }
   ],
   "source": [
    "spec.is_calibrated"
   ]
  },
  {
   "cell_type": "markdown",
   "metadata": {},
   "source": [
    "When was this spectrum acquired? How long is it?"
   ]
  },
  {
   "cell_type": "code",
   "execution_count": 5,
   "metadata": {},
   "outputs": [
    {
     "name": "stdout",
     "output_type": "stream",
     "text": [
      "2017-04-25 12:54:27\n",
      "2017-04-25 17:30:24\n",
      "16557.0\n",
      "16543.0\n"
     ]
    }
   ],
   "source": [
    "print(spec.start_time)\n",
    "print(spec.stop_time)\n",
    "print(spec.realtime)\n",
    "print(spec.livetime)"
   ]
  },
  {
   "cell_type": "markdown",
   "metadata": {},
   "source": [
    "Let's take a look at the counts in some of the bins."
   ]
  },
  {
   "cell_type": "code",
   "execution_count": 6,
   "metadata": {},
   "outputs": [
    {
     "data": {
      "text/plain": [
       "array([ 7.,  9.,  3.,  4.,  6.,  8.,  2.,  7.,  8., 12.,  6.,  9., 13.,\n",
       "       28., 22., 19., 14., 20., 13.,  9., 15.,  6.,  5.,  5.,  3.,  1.,\n",
       "        2.,  1.,  0.,  0.])"
      ]
     },
     "execution_count": 6,
     "metadata": {},
     "output_type": "execute_result"
    }
   ],
   "source": [
    "spec.counts_vals[7980:8010]"
   ]
  },
  {
   "cell_type": "markdown",
   "metadata": {},
   "source": [
    "What energy are those bins at?"
   ]
  },
  {
   "cell_type": "code",
   "execution_count": 7,
   "metadata": {},
   "outputs": [
    {
     "data": {
      "text/plain": [
       "array([1458.69631121, 1458.87910415, 1459.06189709, 1459.24469003,\n",
       "       1459.42748296, 1459.6102759 , 1459.79306883, 1459.97586177,\n",
       "       1460.1586547 , 1460.34144763, 1460.52424056, 1460.70703348,\n",
       "       1460.88982641, 1461.07261933, 1461.25541226, 1461.43820518,\n",
       "       1461.6209981 , 1461.80379102, 1461.98658394, 1462.16937685,\n",
       "       1462.35216977, 1462.53496268, 1462.71775559, 1462.9005485 ,\n",
       "       1463.08334141, 1463.26613432, 1463.44892723, 1463.63172013,\n",
       "       1463.81451304, 1463.99730594])"
      ]
     },
     "execution_count": 7,
     "metadata": {},
     "output_type": "execute_result"
    }
   ],
   "source": [
    "spec.energies_kev[7980:8010]"
   ]
  },
  {
   "cell_type": "markdown",
   "metadata": {},
   "source": [
    "## Uncertainties, CPS, coarser binning\n",
    "\n",
    "The counts include uncertainty by default."
   ]
  },
  {
   "cell_type": "code",
   "execution_count": 8,
   "metadata": {},
   "outputs": [
    {
     "name": "stdout",
     "output_type": "stream",
     "text": [
      "counts: [6.0+/-2.449489742783178 9.0+/-3.0 13.0+/-3.605551275463989\n",
      " 28.0+/-5.291502622129181 22.0+/-4.69041575982343 19.0+/-4.358898943540674\n",
      " 14.0+/-3.7416573867739413]\n",
      "counts_vals: [ 6.  9. 13. 28. 22. 19. 14.]\n",
      "counts_uncs: [2.44948974 3.         3.60555128 5.29150262 4.69041576 4.35889894\n",
      " 3.74165739]\n"
     ]
    }
   ],
   "source": [
    "print('counts: {}'.format(spec.counts[7990:7997]))\n",
    "print('counts_vals: {}'.format(spec.counts_vals[7990:7997]))\n",
    "print('counts_uncs: {}'.format(spec.counts_uncs[7990:7997]))"
   ]
  },
  {
   "cell_type": "markdown",
   "metadata": {},
   "source": [
    "We also have access to CPS, and CPS/keV, with their values and uncertainties."
   ]
  },
  {
   "cell_type": "code",
   "execution_count": 9,
   "metadata": {},
   "outputs": [
    {
     "name": "stdout",
     "output_type": "stream",
     "text": [
      "cps:      [0.00036269116847004775+/-0.00014806804949423792\n",
      " 0.0005440367527050716+/-0.00018134558423502388\n",
      " 0.0007858308650184368+/-0.0002179502675127842\n",
      " 0.0016925587861935563+/-0.0003198635448303924\n",
      " 0.0013298676177235084+/-0.00028352872875678106\n",
      " 0.0011485220334884845+/-0.0002634890251792706\n",
      " 0.0008462793930967781+/-0.0002261776816039377]\n",
      "cps_vals: [0.00036269 0.00054404 0.00078583 0.00169256 0.00132987 0.00114852\n",
      " 0.00084628]\n",
      "cps_uncs: [0.00014807 0.00018135 0.00021795 0.00031986 0.00028353 0.00026349\n",
      " 0.00022618]\n",
      "\n",
      "cpskev:   [0.001984164117225736+/-0.0008100316088571466\n",
      " 0.002976246198195663+/-0.000992082066065221\n",
      " 0.004299022318581503+/-0.0011923342618468994\n",
      " 0.00925943275574236+/-0.001749868310944269\n",
      " 0.0072752686484572095+/-0.0015510924875305908\n",
      " 0.006283186607229465+/-0.001441461866543233\n",
      " 0.004629716482204129+/-0.001237343776736296]\n"
     ]
    }
   ],
   "source": [
    "print('cps:      {}'.format(spec.cps[7990:7997]))\n",
    "print('cps_vals: {}'.format(spec.cps_vals[7990:7997]))\n",
    "print('cps_uncs: {}'.format(spec.cps_uncs[7990:7997]))\n",
    "print()\n",
    "print('cpskev:   {}'.format(spec.cpskev[7990:7997]))"
   ]
  },
  {
   "cell_type": "markdown",
   "metadata": {},
   "source": [
    "For some analyses, 16k bins might be too fine."
   ]
  },
  {
   "cell_type": "code",
   "execution_count": 10,
   "metadata": {},
   "outputs": [
    {
     "name": "stdout",
     "output_type": "stream",
     "text": [
      "Current bin width: 0.18279265121922095\n",
      "New number of channels: 4096\n",
      "New bin width: 0.7311706048768838\n",
      "[23. 23. 35. 82. 56. 31.  7.  1.  3.  2.]\n"
     ]
    }
   ],
   "source": [
    "print('Current bin width: {}'.format(np.mean(spec.bin_widths)))\n",
    "\n",
    "spec2 = spec.combine_bins(4)\n",
    "print('New number of channels: {}'.format(len(spec2)))\n",
    "print('New bin width: {}'.format(np.mean(spec2.bin_widths)))\n",
    "print(spec2.counts_vals[1995:2005])"
   ]
  },
  {
   "cell_type": "markdown",
   "metadata": {},
   "source": [
    "Where exactly are these bins?"
   ]
  },
  {
   "cell_type": "code",
   "execution_count": 11,
   "metadata": {},
   "outputs": [
    {
     "name": "stdout",
     "output_type": "stream",
     "text": [
      "[1458.60491474 1458.78770768 1458.97050062 1459.15329356 1459.3360865\n",
      " 1459.51887943 1459.70167237 1459.8844653  1460.06725823 1460.25005116\n",
      " 1460.43284409 1460.61563702 1460.79842995 1460.98122287 1461.1640158\n",
      " 1461.34680872 1461.52960164 1461.71239456 1461.89518748 1462.0779804\n",
      " 1462.26077331 1462.44356622 1462.62635914 1462.80915205 1462.99194496\n",
      " 1463.17473787 1463.35753078 1463.54032368 1463.72311659 1463.90590949]\n",
      "[1458.60491474 1459.3360865  1460.06725823 1460.79842995 1461.52960164\n",
      " 1462.26077331 1462.99194496 1463.72311659 1464.45428819 1465.18545977]\n"
     ]
    }
   ],
   "source": [
    "print(spec.bin_edges_kev[7980:8010])\n",
    "print(spec2.bin_edges_kev[1995:2005])"
   ]
  },
  {
   "cell_type": "markdown",
   "metadata": {},
   "source": [
    "## Spectrum arithmetic, downsampling\n",
    "\n",
    "Let's introduce a second spectrum, a long background measurement."
   ]
  },
  {
   "cell_type": "code",
   "execution_count": 12,
   "metadata": {},
   "outputs": [
    {
     "name": "stdout",
     "output_type": "stream",
     "text": [
      "SpeFile: Reading file ../tests/samples/1110C NAA cave background May 2017.spe\n",
      "Start time: 2017-04-26 11:05:11\n",
      "Stop time:  2017-05-01 12:43:34\n"
     ]
    }
   ],
   "source": [
    "bg = Spectrum.from_file('../tests/samples/1110C NAA cave background May 2017.spe')\n",
    "print('Start time: {}'.format(bg.start_time))\n",
    "print('Stop time:  {}'.format(bg.stop_time))"
   ]
  },
  {
   "cell_type": "markdown",
   "metadata": {},
   "source": [
    "Since `spec` and `bg` have the same binning, we can add them together."
   ]
  },
  {
   "cell_type": "code",
   "execution_count": 13,
   "metadata": {},
   "outputs": [
    {
     "name": "stdout",
     "output_type": "stream",
     "text": [
      "Pottery spectrum:     304706 counts in  16543 s livetime\n",
      "Background spectrum: 1052900 counts in 437817 s livetime\n",
      "Combined spectrum:   1357606 counts in 454360 s livetime\n"
     ]
    }
   ],
   "source": [
    "print('Pottery spectrum:    {:7.0f} counts in {:6.0f} s livetime'.format(\n",
    "    np.sum(spec.counts_vals), spec.livetime))\n",
    "print('Background spectrum: {:7.0f} counts in {:6.0f} s livetime'.format(\n",
    "    np.sum(bg.counts_vals), bg.livetime))\n",
    "\n",
    "spec_and_bg = spec + bg\n",
    "print('Combined spectrum:   {:7.0f} counts in {:6.0f} s livetime'.format(\n",
    "    np.sum(spec_and_bg.counts_vals), spec_and_bg.livetime))"
   ]
  },
  {
   "cell_type": "markdown",
   "metadata": {},
   "source": [
    "Subtraction works differently. Subtracting counts from counts is not meaningful, but subtracting countrates is essential for background subtraction. So the subtraction operation calculates with countrates only."
   ]
  },
  {
   "cell_type": "code",
   "execution_count": 14,
   "metadata": {},
   "outputs": [
    {
     "name": "stdout",
     "output_type": "stream",
     "text": [
      "Total pottery countrate:    18.419+/- 0.034\n",
      "Total background countrate:  2.405+/- 0.002\n"
     ]
    },
    {
     "name": "stderr",
     "output_type": "stream",
     "text": [
      "becquerel/core/spectrum.py:556: SpectrumWarning: Subtraction of counts-based specta, spectra have been converted to CPS\n",
      "  'have been converted to CPS', SpectrumWarning)\n"
     ]
    },
    {
     "name": "stdout",
     "output_type": "stream",
     "text": [
      "Total subtracted countrate: 16.014+/- 0.034\n",
      "\n",
      "In the K-40 peak:\n",
      "Pottery counts: [ 6.  9. 13. 28. 22. 19. 14.]\n",
      "Pottery cps: [0.00036269 0.00054404 0.00078583 0.00169256 0.00132987 0.00114852\n",
      " 0.00084628]\n",
      "Background counts: [251. 324. 385. 425. 444. 430. 447.]\n",
      "Background cps: [0.0005733  0.00074004 0.00087936 0.00097073 0.00101412 0.00098215\n",
      " 0.00102097]\n",
      "Subtracted cps: [-0.00021060772124871605+/-0.00015242570634294822\n",
      " -0.00019599846748966727+/-0.00018594758741250687\n",
      " -9.353197379321284e-05+/-0.0002225103053746964\n",
      " 0.0007218335745183586+/-0.00032331081219144576\n",
      " 0.0003157452789381255+/-0.00028758451907495025\n",
      " 0.0001663765252053434+/-0.000267712056122381\n",
      " -0.00017469512365337085+/-0.00023127539864373797]\n"
     ]
    }
   ],
   "source": [
    "print('Total pottery countrate:    {:6.3f}'.format(np.sum(spec.cps)))\n",
    "print('Total background countrate: {:6.3f}'.format(np.sum(bg.cps)))\n",
    "\n",
    "bgsub = spec - bg\n",
    "print('Total subtracted countrate: {:6.3f}'.format(np.sum(bgsub.cps)))\n",
    "print('')\n",
    "print('In the K-40 peak:')\n",
    "print('Pottery counts: {}'.format(spec.counts_vals[7990:7997]))\n",
    "print('Pottery cps: {}'.format(spec.cps_vals[7990:7997]))\n",
    "print('Background counts: {}'.format(bg.counts_vals[7990:7997]))\n",
    "print('Background cps: {}'.format(bg.cps_vals[7990:7997]))\n",
    "print('Subtracted cps: {}'.format(bgsub.cps[7990:7997]))"
   ]
  },
  {
   "cell_type": "markdown",
   "metadata": {},
   "source": [
    "Looks like there's no sign of K-40 in that pottery.\n",
    "\n",
    "Counts and livetime are not meaningful in a subtracted spectrum."
   ]
  },
  {
   "cell_type": "markdown",
   "metadata": {},
   "source": [
    "We can also scale a spectrum up or down manually."
   ]
  },
  {
   "cell_type": "code",
   "execution_count": 15,
   "metadata": {},
   "outputs": [
    {
     "name": "stdout",
     "output_type": "stream",
     "text": [
      "[ 6.  9. 13. 28. 22. 19. 14.]\n",
      "[154.2 231.3 334.1 719.6 565.4 488.3 359.8]\n",
      "[ 2.60869565  3.91304348  5.65217391 12.17391304  9.56521739  8.26086957\n",
      "  6.08695652]\n"
     ]
    }
   ],
   "source": [
    "print(spec.counts_vals[7990:7997])\n",
    "spec3 = spec * 25.7\n",
    "print(spec3.counts_vals[7990:7997])\n",
    "spec4 = spec / 2.3\n",
    "print(spec4.counts_vals[7990:7997])"
   ]
  },
  {
   "cell_type": "markdown",
   "metadata": {},
   "source": [
    "But if we want to simulate a shorter or weaker spectrum, downsampling will give us realistic statistics."
   ]
  },
  {
   "cell_type": "code",
   "execution_count": 16,
   "metadata": {},
   "outputs": [
    {
     "name": "stdout",
     "output_type": "stream",
     "text": [
      "[ 2.  5.  6. 13. 14.  5.  6.]\n"
     ]
    }
   ],
   "source": [
    "spec5 = spec.downsample(2.3)\n",
    "print(spec5.counts_vals[7990:7997])"
   ]
  }
 ],
 "metadata": {
  "kernelspec": {
   "display_name": "Python 3",
   "language": "python",
   "name": "python3"
  },
  "language_info": {
   "codemirror_mode": {
    "name": "ipython",
    "version": 3
   },
   "file_extension": ".py",
   "mimetype": "text/x-python",
   "name": "python",
   "nbconvert_exporter": "python",
   "pygments_lexer": "ipython3",
   "version": "3.6.6"
  }
 },
 "nbformat": 4,
 "nbformat_minor": 1
}
