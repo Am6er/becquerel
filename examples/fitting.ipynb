{
 "cells": [
  {
   "cell_type": "markdown",
   "metadata": {},
   "source": [
    "# becquerel fitting example"
   ]
  },
  {
   "cell_type": "code",
   "execution_count": null,
   "metadata": {
    "ExecuteTime": {
     "start_time": "2021-03-21T20:08:55.108Z"
    }
   },
   "outputs": [],
   "source": [
    "import becquerel as bq\n",
    "import numpy as np\n",
    "import matplotlib.pyplot as plt\n",
    "%matplotlib inline\n",
    "plt.rcParams['figure.facecolor'] = 'white'\n",
    "\n",
    "%load_ext autoreload\n",
    "%autoreload 2\n",
    "\n",
    "np.random.seed(0)"
   ]
  },
  {
   "cell_type": "markdown",
   "metadata": {},
   "source": [
    "Read an example spectrum into a Spectrum object"
   ]
  },
  {
   "cell_type": "code",
   "execution_count": null,
   "metadata": {
    "ExecuteTime": {
     "start_time": "2021-03-21T20:08:55.109Z"
    }
   },
   "outputs": [],
   "source": [
    "spec1 = bq.Spectrum.from_file('../tests/samples/digibase_5min_30_1.spe')"
   ]
  },
  {
   "cell_type": "markdown",
   "metadata": {},
   "source": [
    "Plot the entire spectrum and the ROI we want to fit"
   ]
  },
  {
   "cell_type": "code",
   "execution_count": null,
   "metadata": {
    "ExecuteTime": {
     "start_time": "2021-03-21T20:08:55.110Z"
    }
   },
   "outputs": [],
   "source": [
    "spec1.plot(yscale='log')\n",
    "plt.show()\n",
    "\n",
    "spec1.plot(yscale='log', xlim=(350, 450))\n",
    "plt.show()"
   ]
  },
  {
   "cell_type": "markdown",
   "metadata": {},
   "source": [
    "Let's first try a Gaussian peak shape and a simple linear background"
   ]
  },
  {
   "cell_type": "code",
   "execution_count": null,
   "metadata": {
    "ExecuteTime": {
     "start_time": "2021-03-21T20:08:55.111Z"
    }
   },
   "outputs": [],
   "source": [
    "model = (bq.fitting.GaussModel(prefix='gauss0_') + bq.fitting.LineModel(prefix='linear_'))"
   ]
  },
  {
   "cell_type": "markdown",
   "metadata": {},
   "source": [
    "Pass our model and data to a Fitter object, then perform the fit"
   ]
  },
  {
   "cell_type": "code",
   "execution_count": null,
   "metadata": {
    "ExecuteTime": {
     "start_time": "2021-03-21T20:08:55.112Z"
    }
   },
   "outputs": [],
   "source": [
    "fitter = bq.Fitter(\n",
    "    model,\n",
    "    x=spec1.bin_indices,\n",
    "    y=spec1.counts_vals,\n",
    "    y_unc=spec1.counts_uncs,\n",
    "    roi=(350, 450)\n",
    ")\n",
    "\n",
    "fitter.fit()"
   ]
  },
  {
   "cell_type": "markdown",
   "metadata": {},
   "source": [
    "`custom_plot()` lets us see the fit result and diagnostics simultaneously"
   ]
  },
  {
   "cell_type": "code",
   "execution_count": null,
   "metadata": {
    "ExecuteTime": {
     "start_time": "2021-03-21T20:08:55.113Z"
    }
   },
   "outputs": [],
   "source": [
    "fitter.custom_plot()\n",
    "plt.show()"
   ]
  },
  {
   "cell_type": "markdown",
   "metadata": {},
   "source": [
    "It looks like there's still a trend in the residuals. Let's try an exponential background model instead of linear.\n",
    "Note we can pass a list of string model names to the Fitter."
   ]
  },
  {
   "cell_type": "code",
   "execution_count": null,
   "metadata": {
    "ExecuteTime": {
     "start_time": "2021-03-21T20:08:55.114Z"
    }
   },
   "outputs": [],
   "source": [
    "fitter = bq.Fitter(\n",
    "    ['gauss', 'exp'],\n",
    "    x=spec1.bin_indices,\n",
    "    y=spec1.counts_vals,\n",
    "    y_unc=spec1.counts_uncs,\n",
    "    roi=(350, 450)\n",
    ")\n",
    "fitter.fit(backend='lmfit')"
   ]
  },
  {
   "cell_type": "markdown",
   "metadata": {},
   "source": [
    "We can also specify that we want to plot residuals relative to the bin error (`residual_type=sigma`) or relative to the model (`residual_type=rel`) instead of absolute residuals (`residual_type=abs`, default)."
   ]
  },
  {
   "cell_type": "code",
   "execution_count": null,
   "metadata": {
    "ExecuteTime": {
     "start_time": "2021-03-21T20:08:55.115Z"
    }
   },
   "outputs": [],
   "source": [
    "fitter.custom_plot(residual_type='sigma')\n",
    "plt.show()"
   ]
  },
  {
   "cell_type": "markdown",
   "metadata": {
    "ExecuteTime": {
     "end_time": "2020-12-22T22:42:37.940415Z",
     "start_time": "2020-12-22T22:42:37.938133Z"
    }
   },
   "source": [
    "The normalized residuals help show that the exponential model fits fairly well---nearly all residuals are within $\\pm2\\sigma$, and there is no obvious trend."
   ]
  },
  {
   "cell_type": "markdown",
   "metadata": {},
   "source": [
    "We can also use the `iminuit` package to perform Poisson-loss fitting and also get uncertainties, a feature `lmfit` currently does not support."
   ]
  },
  {
   "cell_type": "code",
   "execution_count": null,
   "metadata": {
    "ExecuteTime": {
     "start_time": "2021-03-21T20:08:55.117Z"
    }
   },
   "outputs": [],
   "source": [
    "fitter.fit(\n",
    "    backend='minuit',\n",
    "    guess={'gauss_amp': 1000, 'gauss_mu': 400, 'gauss_sigma': 6, 'exp_amp': 7e7, 'exp_lam': -24},\n",
    "    limits={'gauss_amp': (0, 1e10), 'gauss_mu': (0, 1000), 'gauss_sigma': (0, 1000), 'exp_amp': (0, None), 'exp_lam': (None, 0)}\n",
    ")"
   ]
  },
  {
   "cell_type": "code",
   "execution_count": null,
   "metadata": {
    "ExecuteTime": {
     "start_time": "2021-03-21T20:08:55.118Z"
    }
   },
   "outputs": [],
   "source": [
    "fitter.custom_plot(residual_type='sigma')\n",
    "plt.show()"
   ]
  },
  {
   "cell_type": "markdown",
   "metadata": {},
   "source": [
    "A better way to look at the `minuit` stats is with `fitter.result`. We can see that the fit parameters are valid, as are the error estimates."
   ]
  },
  {
   "cell_type": "code",
   "execution_count": null,
   "metadata": {
    "ExecuteTime": {
     "start_time": "2021-03-21T20:08:55.119Z"
    }
   },
   "outputs": [],
   "source": [
    "fitter.result"
   ]
  }
 ],
 "metadata": {
  "kernelspec": {
   "display_name": "Python 3",
   "language": "python",
   "name": "python3"
  },
  "language_info": {
   "codemirror_mode": {
    "name": "ipython",
    "version": 3
   },
   "file_extension": ".py",
   "mimetype": "text/x-python",
   "name": "python",
   "nbconvert_exporter": "python",
   "pygments_lexer": "ipython3",
   "version": "3.7.8"
  }
 },
 "nbformat": 4,
 "nbformat_minor": 2
}
