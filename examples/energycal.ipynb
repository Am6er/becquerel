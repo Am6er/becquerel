{
 "cells": [
  {
   "cell_type": "markdown",
   "metadata": {},
   "source": [
    "# Energy calibration examples"
   ]
  },
  {
   "cell_type": "code",
   "execution_count": 1,
   "metadata": {},
   "outputs": [],
   "source": [
    "%matplotlib inline\n",
    "import matplotlib.pyplot as plt\n",
    "import becquerel as bq"
   ]
  },
  {
   "cell_type": "markdown",
   "metadata": {},
   "source": [
    "Let's load an HPGe spectrum from a file and apply a calibration. This file will generate a warning because its calibration is invalid."
   ]
  },
  {
   "cell_type": "code",
   "execution_count": 2,
   "metadata": {},
   "outputs": [
    {
     "name": "stdout",
     "output_type": "stream",
     "text": [
      "SpeFile: Reading file ../tests/samples/digibase_5min_30_1.spe\n"
     ]
    },
    {
     "name": "stderr",
     "output_type": "stream",
     "text": [
      "becquerel/parsers/spectrum_file.py:135: SpectrumFileParsingWarning: Spectrum will be initated without an energy calibration;invalid calibration, energies not monotonically increasing.\n",
      "  SpectrumFileParsingWarning)\n"
     ]
    }
   ],
   "source": [
    "spec = bq.Spectrum.from_file('../tests/samples/digibase_5min_30_1.spe')"
   ]
  },
  {
   "cell_type": "markdown",
   "metadata": {},
   "source": [
    "Did an energy calibration get loaded from the file?"
   ]
  },
  {
   "cell_type": "code",
   "execution_count": 3,
   "metadata": {},
   "outputs": [
    {
     "data": {
      "text/plain": [
       "False"
      ]
     },
     "execution_count": 3,
     "metadata": {},
     "output_type": "execute_result"
    }
   ],
   "source": [
    "spec.is_calibrated"
   ]
  },
  {
   "cell_type": "markdown",
   "metadata": {},
   "source": [
    "Let's take a look at the spectrum. We happen to know that this spectrum contains background, Cesium-137, and Cobalt-60."
   ]
  },
  {
   "cell_type": "code",
   "execution_count": 4,
   "metadata": {},
   "outputs": [
    {
     "data": {
      "image/png": "[encoded data removed]",
      "text/plain": [
       "<Figure size 432x288 with 1 Axes>"
      ]
     },
     "metadata": {
      "needs_background": "light"
     },
     "output_type": "display_data"
    }
   ],
   "source": [
    "spec.plot(xmode='channel', yscale='log')\n",
    "plt.xlim(0, 450);"
   ]
  },
  {
   "cell_type": "markdown",
   "metadata": {},
   "source": [
    "For any calibration, we will need to determine the centroids of peaks of known energies. In this spectrum, the 662 keV line is around channel 110, the 1460 keV line is around channel 230, and the 2614 keV line is around channel 400. Here is a simple way of finding those peaks by finding the maximum channel in those regions, although better practice would be to fit a function to the line regions."
   ]
  },
  {
   "cell_type": "code",
   "execution_count": 5,
   "metadata": {},
   "outputs": [
    {
     "name": "stderr",
     "output_type": "stream",
     "text": [
      "becquerel/core/spectrum.py:379: UserWarning: channels is deprecated terminology and will be removed in a future release. Use the property `bins` instead.\n",
      "  warnings.warn('channels is deprecated terminology and will be removed '\n"
     ]
    },
    {
     "name": "stdout",
     "output_type": "stream",
     "text": [
      "[108, 227, 401]\n"
     ]
    },
    {
     "data": {
      "image/png": "[encoded data removed]",
      "text/plain": [
       "<Figure size 432x288 with 1 Axes>"
      ]
     },
     "metadata": {
      "needs_background": "light"
     },
     "output_type": "display_data"
    }
   ],
   "source": [
    "energies = [661.7, 1460.8, 2614.5]\n",
    "channels = []\n",
    "ch_ranges = [(100, 120), (220, 240), (380, 420)]\n",
    "for ch_min, ch_max in ch_ranges:\n",
    "    ch_range = (ch_min <= spec.channels) & (spec.channels <= ch_max)\n",
    "    chans = spec.channels[ch_range]\n",
    "    counts = spec.counts[ch_range]\n",
    "    ch_peak = chans[counts == counts.max()][0]\n",
    "    channels.append(ch_peak)\n",
    "print(channels)\n",
    "\n",
    "spec.plot(xmode='channel', yscale='log')\n",
    "plt.xlim(0, 450)\n",
    "plt.vlines(channels, *plt.gca().get_ylim(), color='red', label='Calibration lines')\n",
    "plt.legend();"
   ]
  },
  {
   "cell_type": "markdown",
   "metadata": {},
   "source": [
    "## `LinearEnergyCal` example\n",
    "\n",
    "One can instantiate a `LinearEnergyCal` or any other calibration in two ways:\n",
    "1. `from_coeffs(dict)` class method where the dictionary is a dictionary of calibration coefficients (e.g., `{'slope': 1.0, 'offset': 0.0}`)\n",
    "2. `from_points(chlist, kevlist)` class method with channels and energies of calibration points. A fit is automatically performed to generate the best coefficients.\n",
    "\n",
    "Let's create a calibration from points:"
   ]
  },
  {
   "cell_type": "code",
   "execution_count": 6,
   "metadata": {},
   "outputs": [],
   "source": [
    "cal = bq.LinearEnergyCal.from_points(channels, energies)"
   ]
  },
  {
   "cell_type": "markdown",
   "metadata": {},
   "source": [
    "The coefficents are automatically fit to those points:"
   ]
  },
  {
   "cell_type": "code",
   "execution_count": 7,
   "metadata": {},
   "outputs": [
    {
     "data": {
      "text/plain": [
       "{'b': 6.662320587016257, 'c': -55.48931734798846}"
      ]
     },
     "execution_count": 7,
     "metadata": {},
     "output_type": "execute_result"
    }
   ],
   "source": [
    "cal.coeffs"
   ]
  },
  {
   "cell_type": "markdown",
   "metadata": {},
   "source": [
    "Sometimes one may want to include the point (0, 0) in the calibration to make the calibration pass closer to the origin:"
   ]
  },
  {
   "cell_type": "code",
   "execution_count": 8,
   "metadata": {},
   "outputs": [
    {
     "data": {
      "text/plain": [
       "{'b': 6.54704414587332, 'c': -20.40612284069107}"
      ]
     },
     "execution_count": 8,
     "metadata": {},
     "output_type": "execute_result"
    }
   ],
   "source": [
    "cal = bq.LinearEnergyCal.from_points([0, *channels], [0, *energies])\n",
    "cal.coeffs"
   ]
  },
  {
   "cell_type": "markdown",
   "metadata": {},
   "source": [
    "This case is automatically handled using the `include_origin` kwarg:"
   ]
  },
  {
   "cell_type": "code",
   "execution_count": 9,
   "metadata": {},
   "outputs": [
    {
     "data": {
      "text/plain": [
       "{'b': 6.54704414587332, 'c': -20.40612284069107}"
      ]
     },
     "execution_count": 9,
     "metadata": {},
     "output_type": "execute_result"
    }
   ],
   "source": [
    "cal = bq.LinearEnergyCal.from_points(channels, energies, include_origin=True)\n",
    "cal.coeffs"
   ]
  },
  {
   "cell_type": "markdown",
   "metadata": {},
   "source": [
    "Here is a calibration instantiated using coefficients:"
   ]
  },
  {
   "cell_type": "code",
   "execution_count": 10,
   "metadata": {},
   "outputs": [
    {
     "data": {
      "text/plain": [
       "{'b': 6.6612, 'c': -55.489}"
      ]
     },
     "execution_count": 10,
     "metadata": {},
     "output_type": "execute_result"
    }
   ],
   "source": [
    "cal = bq.LinearEnergyCal.from_coeffs({'b': 6.6612, 'c': -55.489})\n",
    "cal.coeffs"
   ]
  },
  {
   "cell_type": "markdown",
   "metadata": {},
   "source": [
    "The calibration can be applied to our `Spectrum` to generate energies from channels:"
   ]
  },
  {
   "cell_type": "code",
   "execution_count": 11,
   "metadata": {},
   "outputs": [
    {
     "data": {
      "text/plain": [
       "True"
      ]
     },
     "execution_count": 11,
     "metadata": {},
     "output_type": "execute_result"
    }
   ],
   "source": [
    "spec.apply_calibration(cal)\n",
    "spec.is_calibrated"
   ]
  },
  {
   "cell_type": "markdown",
   "metadata": {},
   "source": [
    "Now we should be able to plot the spectrum and see that the Co-60 lines are at the correct energies:"
   ]
  },
  {
   "cell_type": "code",
   "execution_count": 12,
   "metadata": {},
   "outputs": [
    {
     "data": {
      "image/png": "[encoded data removed]",
      "text/plain": [
       "<Figure size 432x288 with 1 Axes>"
      ]
     },
     "metadata": {
      "needs_background": "light"
     },
     "output_type": "display_data"
    }
   ],
   "source": [
    "spec.plot(xmode='energy', yscale='log')\n",
    "plt.vlines(energies, *plt.gca().get_ylim(), color='red', label='Calibration lines')\n",
    "plt.vlines([1173, 1333], *plt.gca().get_ylim(), color='green', label='Other lines')\n",
    "plt.xlim(0, 2800)\n",
    "plt.legend();"
   ]
  },
  {
   "cell_type": "code",
   "execution_count": null,
   "metadata": {},
   "outputs": [],
   "source": []
  }
 ],
 "metadata": {
  "kernelspec": {
   "display_name": "Python 3",
   "language": "python",
   "name": "python3"
  },
  "language_info": {
   "codemirror_mode": {
    "name": "ipython",
    "version": 3
   },
   "file_extension": ".py",
   "mimetype": "text/x-python",
   "name": "python",
   "nbconvert_exporter": "python",
   "pygments_lexer": "ipython3",
   "version": "3.7.3"
  }
 },
 "nbformat": 4,
 "nbformat_minor": 1
}
