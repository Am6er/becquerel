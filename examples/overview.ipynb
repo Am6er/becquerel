{
 "cells": [
  {
   "cell_type": "markdown",
   "metadata": {},
   "source": [
    "# Becquerel Overview\n",
    "\n",
    "This notebook demonstrates some of the main features and functionalities of `becquerel`. For more details on particular features please see the other notebooks in this directory."
   ]
  },
  {
   "cell_type": "code",
   "execution_count": 1,
   "metadata": {},
   "outputs": [
    {
     "name": "stdout",
     "output_type": "stream",
     "text": [
      "Populating the interactive namespace from numpy and matplotlib\n"
     ]
    }
   ],
   "source": [
    "%pylab inline\n",
    "import pandas as pd\n",
    "import becquerel as bq\n",
    "from pprint import pprint\n",
    "np.random.seed(0)"
   ]
  },
  {
   "cell_type": "markdown",
   "metadata": {},
   "source": [
    "# 1. `bq.Spectrum`\n",
    "\n",
    "The core class in `bq` is `Spectrum`. This contains a variety of tools for handling **single spectrum** data."
   ]
  },
  {
   "cell_type": "code",
   "execution_count": 2,
   "metadata": {},
   "outputs": [],
   "source": [
    "# print(bq.Spectrum.__doc__)"
   ]
  },
  {
   "cell_type": "code",
   "execution_count": 3,
   "metadata": {},
   "outputs": [],
   "source": [
    "# print(bq.Spectrum.__init__.__doc__)"
   ]
  },
  {
   "cell_type": "markdown",
   "metadata": {},
   "source": [
    "## 1.1 From scratch"
   ]
  },
  {
   "cell_type": "code",
   "execution_count": 4,
   "metadata": {},
   "outputs": [
    {
     "data": {
      "text/plain": [
       "becquerel.Spectrum\n",
       "    start_time:     None\n",
       "    stop_time:      None\n",
       "    realtime:       None\n",
       "    livetime:       60.0\n",
       "    is_calibrated:  False\n",
       "    num_channels:   100\n",
       "    gross_counts:   1000+/-33\n",
       "    gross_cps:      16.7+/-0.5\n",
       "    filename:       None"
      ]
     },
     "execution_count": 4,
     "metadata": {},
     "output_type": "execute_result"
    }
   ],
   "source": [
    "c, _ = np.histogram(np.random.poisson(50, 1000), bins=np.arange(101))\n",
    "spec = bq.Spectrum(counts=c, livetime=60.)\n",
    "spec"
   ]
  },
  {
   "cell_type": "code",
   "execution_count": 5,
   "metadata": {},
   "outputs": [
    {
     "data": {
      "image/png": "[encoded data removed]",
      "text/plain": [
       "<Figure size 432x288 with 1 Axes>"
      ]
     },
     "metadata": {
      "needs_background": "light"
     },
     "output_type": "display_data"
    }
   ],
   "source": [
    "spec.plot(xmode='channels');"
   ]
  },
  {
   "cell_type": "code",
   "execution_count": 6,
   "metadata": {},
   "outputs": [
    {
     "name": "stdout",
     "output_type": "stream",
     "text": [
      "ERROR: Spectrum is not calibrated, however x axis was requested as energy\n"
     ]
    }
   ],
   "source": [
    "try:\n",
    "    spec.plot(xmode='energy')\n",
    "except bq.PlottingError as e:\n",
    "    print('ERROR:', e)\n",
    "    plt.close('all')"
   ]
  },
  {
   "cell_type": "markdown",
   "metadata": {},
   "source": [
    "## 1.2 Energy Calibration Models\n",
    "\n",
    "Base class for energy calibration models: `EnergyCalBase`. Currently implmented:\n",
    "\n",
    "- `LinearEnergyCal`"
   ]
  },
  {
   "cell_type": "code",
   "execution_count": 7,
   "metadata": {},
   "outputs": [
    {
     "name": "stdout",
     "output_type": "stream",
     "text": [
      "becquerel.Spectrum\n",
      "    start_time:     None\n",
      "    stop_time:      None\n",
      "    realtime:       None\n",
      "    livetime:       60.0\n",
      "    is_calibrated:  True\n",
      "    num_channels:   100\n",
      "    gross_counts:   1000+/-33\n",
      "    gross_cps:      16.7+/-0.5\n",
      "    filename:       None\n"
     ]
    },
    {
     "data": {
      "image/png": "[encoded data removed]",
      "text/plain": [
       "<Figure size 432x288 with 1 Axes>"
      ]
     },
     "metadata": {
      "needs_background": "light"
     },
     "output_type": "display_data"
    }
   ],
   "source": [
    "chlist = (40, 80)\n",
    "kevlist = (661.7, 1460.83)\n",
    "cal = bq.LinearEnergyCal.from_points(chlist=chlist, kevlist=kevlist)\n",
    "cal.update_fit()\n",
    "spec.apply_calibration(cal)\n",
    "print(spec)\n",
    "spec.plot(xmode='keV');"
   ]
  },
  {
   "cell_type": "code",
   "execution_count": 8,
   "metadata": {},
   "outputs": [
    {
     "data": {
      "text/plain": [
       "becquerel.Spectrum\n",
       "    start_time:     None\n",
       "    stop_time:      None\n",
       "    realtime:       None\n",
       "    livetime:       60.0\n",
       "    is_calibrated:  False\n",
       "    num_channels:   100\n",
       "    gross_counts:   1000+/-32\n",
       "    gross_cps:      16.7+/-0.5\n",
       "    filename:       None"
      ]
     },
     "execution_count": 8,
     "metadata": {},
     "output_type": "execute_result"
    }
   ],
   "source": [
    "# New spec\n",
    "c, _ = np.histogram(np.random.poisson(50, 1000), bins=np.arange(101))\n",
    "spec2 = bq.Spectrum(counts=c, livetime=60.)\n",
    "spec2"
   ]
  },
  {
   "cell_type": "code",
   "execution_count": 9,
   "metadata": {},
   "outputs": [
    {
     "data": {
      "text/plain": [
       "becquerel.Spectrum\n",
       "    start_time:     None\n",
       "    stop_time:      None\n",
       "    realtime:       None\n",
       "    livetime:       60.0\n",
       "    is_calibrated:  True\n",
       "    num_channels:   100\n",
       "    gross_counts:   1000+/-32\n",
       "    gross_cps:      16.7+/-0.5\n",
       "    filename:       None"
      ]
     },
     "execution_count": 9,
     "metadata": {},
     "output_type": "execute_result"
    }
   ],
   "source": [
    "spec2.calibrate_like(spec)\n",
    "spec2"
   ]
  },
  {
   "cell_type": "markdown",
   "metadata": {},
   "source": [
    "## 1.3 From File\n",
    "\n",
    "`becquerel` currently provides parsers for:\n",
    "\n",
    "- `SPE`\n",
    "- `SPC`\n",
    "- `CNF`"
   ]
  },
  {
   "cell_type": "code",
   "execution_count": 10,
   "metadata": {},
   "outputs": [
    {
     "name": "stdout",
     "output_type": "stream",
     "text": [
      "SpeFile: Reading file ../tests/samples/1110C NAA cave pottery.Spe\n"
     ]
    },
    {
     "name": "stderr",
     "output_type": "stream",
     "text": [
      "becquerel/parsers/spe_file.py:148: SpectrumFileParsingWarning: SpeFile has $PRESETS field, skipping 3 lines\n",
      "  SpectrumFileParsingWarning)\n"
     ]
    },
    {
     "data": {
      "text/plain": [
       "becquerel.Spectrum\n",
       "    start_time:     2017-04-25 12:54:27\n",
       "    stop_time:      2017-04-25 17:30:24\n",
       "    realtime:       16557.0\n",
       "    livetime:       16543.0\n",
       "    is_calibrated:  True\n",
       "    num_channels:   16384\n",
       "    gross_counts:   (3.047+/-0.006)e+05\n",
       "    gross_cps:      18.419+/-0.034\n",
       "    filename:       ../tests/samples/1110C NAA cave pottery.Spe"
      ]
     },
     "execution_count": 10,
     "metadata": {},
     "output_type": "execute_result"
    }
   ],
   "source": [
    "spec = bq.Spectrum.from_file('../tests/samples/1110C NAA cave pottery.Spe')\n",
    "spec"
   ]
  },
  {
   "cell_type": "code",
   "execution_count": 11,
   "metadata": {},
   "outputs": [
    {
     "data": {
      "text/plain": [
       "True"
      ]
     },
     "execution_count": 11,
     "metadata": {},
     "output_type": "execute_result"
    }
   ],
   "source": [
    "spec.is_calibrated"
   ]
  },
  {
   "cell_type": "code",
   "execution_count": 12,
   "metadata": {},
   "outputs": [
    {
     "data": {
      "image/png": "[encoded data removed]",
      "text/plain": [
       "<Figure size 432x288 with 1 Axes>"
      ]
     },
     "metadata": {
      "needs_background": "light"
     },
     "output_type": "display_data"
    }
   ],
   "source": [
    "spec.plot(yscale='log', linewidth=0.5, ymode='counts');"
   ]
  },
  {
   "cell_type": "code",
   "execution_count": 13,
   "metadata": {},
   "outputs": [],
   "source": [
    "%%capture\n",
    "spec = bq.Spectrum.from_file('../tests/samples/01122014152731-GT01122014182338-GA37.4963000N-GO122.4633000W.cnf')"
   ]
  },
  {
   "cell_type": "code",
   "execution_count": 14,
   "metadata": {},
   "outputs": [
    {
     "data": {
      "text/plain": [
       "becquerel.Spectrum\n",
       "    start_time:     2014-01-12 15:12:28.125000\n",
       "    stop_time:      2014-01-12 15:26:37.635000\n",
       "    realtime:       849.5099998999999\n",
       "    livetime:       841.4199999\n",
       "    is_calibrated:  True\n",
       "    num_channels:   4096\n",
       "    gross_counts:   (6.837+/-0.008)e+05\n",
       "    gross_cps:      812.5+/-1.0\n",
       "    filename:       ../tests/samples/01122014152731-GT01122014182338-GA37.4963000N-GO122.4633000W.cnf"
      ]
     },
     "execution_count": 14,
     "metadata": {},
     "output_type": "execute_result"
    }
   ],
   "source": [
    "spec"
   ]
  },
  {
   "cell_type": "code",
   "execution_count": 15,
   "metadata": {},
   "outputs": [],
   "source": [
    "%%capture\n",
    "spec = bq.Spectrum.from_file('../tests/samples/Alcatraz14.Spc')"
   ]
  },
  {
   "cell_type": "code",
   "execution_count": 16,
   "metadata": {},
   "outputs": [
    {
     "data": {
      "text/plain": [
       "becquerel.Spectrum\n",
       "    start_time:     2012-09-17 13:41:07\n",
       "    stop_time:      2012-09-17 13:41:07\n",
       "    realtime:       905.0\n",
       "    livetime:       900.0\n",
       "    is_calibrated:  True\n",
       "    num_channels:   8192\n",
       "    gross_counts:   (1.330+/-0.004)e+05\n",
       "    gross_cps:      147.8+/-0.4\n",
       "    filename:       ../tests/samples/Alcatraz14.Spc"
      ]
     },
     "execution_count": 16,
     "metadata": {},
     "output_type": "execute_result"
    }
   ],
   "source": [
    "spec"
   ]
  },
  {
   "cell_type": "markdown",
   "metadata": {},
   "source": [
    "## 1.4 Background Subtraction"
   ]
  },
  {
   "cell_type": "code",
   "execution_count": 17,
   "metadata": {},
   "outputs": [
    {
     "name": "stdout",
     "output_type": "stream",
     "text": [
      "SpeFile: Reading file ../tests/samples/1110C NAA cave pottery.Spe\n",
      "becquerel.Spectrum\n",
      "    start_time:     2017-04-25 12:54:27\n",
      "    stop_time:      2017-04-25 17:30:24\n",
      "    realtime:       16557.0\n",
      "    livetime:       16543.0\n",
      "    is_calibrated:  True\n",
      "    num_channels:   16384\n",
      "    gross_counts:   (3.047+/-0.006)e+05\n",
      "    gross_cps:      18.419+/-0.034\n",
      "    filename:       ../tests/samples/1110C NAA cave pottery.Spe\n",
      "SpeFile: Reading file ../tests/samples/1110C NAA cave background May 2017.spe\n",
      "becquerel.Spectrum\n",
      "    start_time:     2017-04-26 11:05:11\n",
      "    stop_time:      2017-05-01 12:43:34\n",
      "    realtime:       437903.0\n",
      "    livetime:       437817.0\n",
      "    is_calibrated:  True\n",
      "    num_channels:   16384\n",
      "    gross_counts:   (1.0529+/-0.0010)e+06\n",
      "    gross_cps:      2.4049+/-0.0023\n",
      "    filename:       ../tests/samples/1110C NAA cave background May 2017.spe\n"
     ]
    }
   ],
   "source": [
    "spec = bq.Spectrum.from_file('../tests/samples/1110C NAA cave pottery.Spe')\n",
    "print(spec)\n",
    "bkg = bq.Spectrum.from_file('../tests/samples/1110C NAA cave background May 2017.spe')\n",
    "print(bkg)"
   ]
  },
  {
   "cell_type": "code",
   "execution_count": 18,
   "metadata": {},
   "outputs": [
    {
     "name": "stderr",
     "output_type": "stream",
     "text": [
      "becquerel/core/spectrum.py:556: SpectrumWarning: Subtraction of counts-based specta, spectra have been converted to CPS\n",
      "  'have been converted to CPS', SpectrumWarning)\n"
     ]
    },
    {
     "name": "stdout",
     "output_type": "stream",
     "text": [
      "Total pottery countrate:    18.419+/- 0.034\n",
      "Total background countrate:  2.405+/- 0.002\n",
      "Total subtracted countrate: 16.014+/- 0.034\n"
     ]
    }
   ],
   "source": [
    "bkgsub = spec - bkg\n",
    "print('Total pottery countrate:    {:6.3f}'.format(np.sum(spec.cps)))\n",
    "print('Total background countrate: {:6.3f}'.format(np.sum(bkg.cps)))\n",
    "print('Total subtracted countrate: {:6.3f}'.format(np.sum(bkgsub.cps)))"
   ]
  },
  {
   "cell_type": "code",
   "execution_count": 19,
   "metadata": {},
   "outputs": [
    {
     "data": {
      "image/png": "[encoded data removed]",
      "text/plain": [
       "<Figure size 864x432 with 1 Axes>"
      ]
     },
     "metadata": {
      "needs_background": "light"
     },
     "output_type": "display_data"
    }
   ],
   "source": [
    "fig, ax = plt.subplots(1, figsize=(12, 6))\n",
    "ax = spec.plot(color='firebrick', linewidth=0.5, yscale='log', ax=ax, label='Measurement')\n",
    "bkg.plot(ax=ax, color='olive', linewidth=0.5, label='Background')\n",
    "bkgsub.plot(ax=ax, color='dodgerblue', linewidth=0.5, label='Measurement - Background')\n",
    "ax.set_ylim(bottom=1e-5)\n",
    "ax.set_title('Background Subtraction')\n",
    "ax.legend();"
   ]
  },
  {
   "cell_type": "code",
   "execution_count": 20,
   "metadata": {},
   "outputs": [
    {
     "data": {
      "image/png": "[encoded data removed]",
      "text/plain": [
       "<Figure size 864x432 with 1 Axes>"
      ]
     },
     "metadata": {
      "needs_background": "light"
     },
     "output_type": "display_data"
    }
   ],
   "source": [
    "# Is there any Tl-208 in the background-subtracted spectrum?\n",
    "fig, ax = plt.subplots(1, figsize=(12, 6))\n",
    "ax = spec.plot(color='firebrick', linewidth=1, yscale='linear', ax=ax, label='Measurement')\n",
    "bkg.plot(ax=ax, color='olive', linewidth=1, label='Background')\n",
    "bkgsub.plot(ax=ax, color='dodgerblue', linewidth=1, label='Measurement - Background')\n",
    "ax.set_ylim(bottom=1e-5)\n",
    "ax.set_title('Background Subtraction')\n",
    "ax.legend()\n",
    "plt.xlim(2600, 2630)\n",
    "plt.ylim(0, 0.001);"
   ]
  },
  {
   "cell_type": "markdown",
   "metadata": {},
   "source": [
    "## 1.5 Rebinning\n",
    "\n",
    "- deterministic (interpolation): `interpolation`\n",
    "- stochastic (convert to listmode): `listmode`"
   ]
  },
  {
   "cell_type": "code",
   "execution_count": 21,
   "metadata": {},
   "outputs": [
    {
     "name": "stdout",
     "output_type": "stream",
     "text": [
      "SpeFile: Reading file ../tests/samples/1110C NAA cave pottery.Spe\n",
      "SpeFile: Reading file ../tests/samples/1110C NAA cave background May 2017.spe\n"
     ]
    },
    {
     "name": "stderr",
     "output_type": "stream",
     "text": [
      "becquerel/core/rebin.py:82: RebinWarning: The last input edge is smaller than the last output edge, zeros will padded on the right side of the new spectrum\n",
      "  RebinWarning)\n"
     ]
    }
   ],
   "source": [
    "spec = bq.Spectrum.from_file('../tests/samples/1110C NAA cave pottery.Spe')\n",
    "bkg = bq.Spectrum.from_file('../tests/samples/1110C NAA cave background May 2017.spe')\n",
    "bkg_rebin = bkg.rebin(np.linspace(0., 3000., 16000))"
   ]
  },
  {
   "cell_type": "code",
   "execution_count": 22,
   "metadata": {},
   "outputs": [
    {
     "name": "stdout",
     "output_type": "stream",
     "text": [
      "ERROR: Cannot add/subtract spectra of different lengths\n"
     ]
    }
   ],
   "source": [
    "try:\n",
    "    bkgsub = spec - bkg_rebin\n",
    "except bq.SpectrumError as e:\n",
    "    print('ERROR:', e)"
   ]
  },
  {
   "cell_type": "code",
   "execution_count": 23,
   "metadata": {},
   "outputs": [],
   "source": [
    "spec_rebin = spec.rebin_like(bkg_rebin)"
   ]
  },
  {
   "cell_type": "code",
   "execution_count": 24,
   "metadata": {},
   "outputs": [
    {
     "data": {
      "text/plain": [
       "becquerel.Spectrum\n",
       "    start_time:     None\n",
       "    stop_time:      None\n",
       "    realtime:       None\n",
       "    livetime:       None\n",
       "    is_calibrated:  True\n",
       "    num_channels:   15999\n",
       "    gross_counts:   None\n",
       "    gross_cps:      16.014+/-0.033\n",
       "    filename:       None"
      ]
     },
     "execution_count": 24,
     "metadata": {},
     "output_type": "execute_result"
    }
   ],
   "source": [
    "spec_rebin - bkg_rebin"
   ]
  },
  {
   "cell_type": "markdown",
   "metadata": {},
   "source": [
    "## 1.6 Scaling\n",
    "\n",
    "Multiplication or division will be applied to the data of the spectrum. The following decimates a spectrum by dividing by 10:"
   ]
  },
  {
   "cell_type": "code",
   "execution_count": 25,
   "metadata": {},
   "outputs": [
    {
     "name": "stdout",
     "output_type": "stream",
     "text": [
      "SpeFile: Reading file ../tests/samples/1110C NAA cave background May 2017.spe\n",
      "becquerel.Spectrum\n",
      "    start_time:     None\n",
      "    stop_time:      None\n",
      "    realtime:       None\n",
      "    livetime:       None\n",
      "    is_calibrated:  True\n",
      "    num_channels:   16384\n",
      "    gross_counts:   (1.0529+/-0.0010)e+05\n",
      "    gross_cps:      None\n",
      "    filename:       None\n"
     ]
    }
   ],
   "source": [
    "spec = bq.Spectrum.from_file('../tests/samples/1110C NAA cave background May 2017.spe')\n",
    "spec_div  = spec / 10\n",
    "print(spec_div)"
   ]
  },
  {
   "cell_type": "markdown",
   "metadata": {},
   "source": [
    "One might however want to decimate a spectrum in a way consistent with Poisson statistics. For that there is the `downsample` method:"
   ]
  },
  {
   "cell_type": "code",
   "execution_count": 26,
   "metadata": {
    "scrolled": false
   },
   "outputs": [
    {
     "name": "stdout",
     "output_type": "stream",
     "text": [
      "becquerel.Spectrum\n",
      "    start_time:     None\n",
      "    stop_time:      None\n",
      "    realtime:       None\n",
      "    livetime:       43781.7\n",
      "    is_calibrated:  True\n",
      "    num_channels:   16384\n",
      "    gross_counts:   (1.0484+/-0.0033)e+05\n",
      "    gross_cps:      2.395+/-0.008\n",
      "    filename:       None\n"
     ]
    },
    {
     "data": {
      "text/plain": [
       "(1.3, 50.0)"
      ]
     },
     "execution_count": 26,
     "metadata": {},
     "output_type": "execute_result"
    },
    {
     "data": {
      "image/png": "[encoded data removed]",
      "text/plain": [
       "<Figure size 432x288 with 1 Axes>"
      ]
     },
     "metadata": {
      "needs_background": "light"
     },
     "output_type": "display_data"
    }
   ],
   "source": [
    "spec_downsample = spec.downsample(10, handle_livetime='reduce')\n",
    "print(spec_downsample)\n",
    "\n",
    "ax = spec_div.plot(label='div', ymode='counts', yscale='log')\n",
    "spec_downsample.plot(ax=ax, label='downsample', ymode='counts')\n",
    "ax.legend()\n",
    "ax.set_xlim(600, 620)\n",
    "ax.set_ylim(1.3, 5e1)"
   ]
  },
  {
   "cell_type": "markdown",
   "metadata": {},
   "source": [
    "## 1.7 Automatic Calibration\n",
    "\n",
    "There are utilities in Becquerel for automatically finding peaks in a raw spectrum and matching them to a list of energies as a first pass at a full calibration.\n",
    "\n",
    "Let's load an uncalibrated sodium iodide spectrum that has Cobalt-60 and background lines:"
   ]
  },
  {
   "cell_type": "code",
   "execution_count": 27,
   "metadata": {},
   "outputs": [
    {
     "name": "stdout",
     "output_type": "stream",
     "text": [
      "SpeFile: Reading file ../tests/samples/digibase_5min_30_1.spe\n"
     ]
    },
    {
     "name": "stderr",
     "output_type": "stream",
     "text": [
      "becquerel/parsers/spectrum_file.py:122: UserWarning: Ignoring calibration; energies not monotonically increasing\n",
      "  'Ignoring calibration; energies not monotonically increasing')\n"
     ]
    },
    {
     "data": {
      "text/plain": [
       "(0, 1024)"
      ]
     },
     "execution_count": 27,
     "metadata": {},
     "output_type": "execute_result"
    },
    {
     "data": {
      "image/png": "[encoded data removed]",
      "text/plain": [
       "<Figure size 864x432 with 1 Axes>"
      ]
     },
     "metadata": {
      "needs_background": "light"
     },
     "output_type": "display_data"
    }
   ],
   "source": [
    "spec = bq.Spectrum.from_file('../tests/samples/digibase_5min_30_1.spe')\n",
    "fig, ax = plt.subplots(1, figsize=(12, 6))\n",
    "spec.plot(ax=ax, linewidth=0.5, xmode='channels', yscale='log')\n",
    "plt.xlim(0, len(spec))"
   ]
  },
  {
   "cell_type": "code",
   "execution_count": 28,
   "metadata": {},
   "outputs": [
    {
     "data": {
      "image/png": "[encoded data removed]",
      "text/plain": [
       "<Figure size 720x360 with 1 Axes>"
      ]
     },
     "metadata": {
      "needs_background": "light"
     },
     "output_type": "display_data"
    }
   ],
   "source": [
    "# filter the spectrum\n",
    "kernel = bq.GaussianPeakFilter(400, 20, 3)\n",
    "finder = bq.PeakFinder(spec, kernel)\n",
    "finder.find_peaks(min_snr=10, min_chan=50)\n",
    "cal = bq.AutoCalibrator(finder)\n",
    "\n",
    "plt.figure(figsize=(10, 5))\n",
    "plt.title('Signal-to-noise ratio of spectral lines after filter')\n",
    "cal.peakfinder.plot()\n",
    "plt.tight_layout()"
   ]
  },
  {
   "cell_type": "code",
   "execution_count": 29,
   "metadata": {},
   "outputs": [
    {
     "data": {
      "text/plain": [
       "(0, 3000)"
      ]
     },
     "execution_count": 29,
     "metadata": {},
     "output_type": "execute_result"
    },
    {
     "data": {
      "image/png": "[encoded data removed]",
      "text/plain": [
       "<Figure size 864x432 with 1 Axes>"
      ]
     },
     "metadata": {
      "needs_background": "light"
     },
     "output_type": "display_data"
    }
   ],
   "source": [
    "# perform calibration\n",
    "cal.fit(\n",
    "    [1173.2, 1332.5, 1460.8, 2614.5],\n",
    "    gain_range=[5., 7.],\n",
    "    de_max=100.,\n",
    ")\n",
    "spec.apply_calibration(cal.cal)\n",
    "\n",
    "fig, ax = plt.subplots(1, figsize=(12, 6))\n",
    "spec.plot(ax=ax, linewidth=0.5, xmode='energy', yscale='log')\n",
    "for erg in cal.fit_energies:\n",
    "    plt.plot([erg, erg], [1e-1, 1e4], 'r-', alpha=0.5)\n",
    "    plt.text(erg, 1e4, '{:.1f} keV'.format(erg), rotation=90)\n",
    "plt.xlim(0, 3000)"
   ]
  },
  {
   "cell_type": "markdown",
   "metadata": {},
   "source": [
    "# 2. Nuclear Data"
   ]
  },
  {
   "cell_type": "markdown",
   "metadata": {},
   "source": [
    "## 2.1 `bq.Element`"
   ]
  },
  {
   "cell_type": "code",
   "execution_count": 30,
   "metadata": {},
   "outputs": [
    {
     "name": "stdout",
     "output_type": "stream",
     "text": [
      "Cesium(Cs) Z=55 Cesium(Cs) Z=55 Cesium(Cs) Z=55\n",
      "True\n",
      "Cesium(Cs) Z=55\n",
      "{'Z': 55,\n",
      " 'atomic_mass': 132.91,\n",
      " 'name': 'Cesium',\n",
      " 'symbol': 'Cs'}\n"
     ]
    }
   ],
   "source": [
    "e1 = bq.Element('Cs')\n",
    "e2 = bq.Element(55)\n",
    "e3 = bq.Element('55')\n",
    "print(e1, e2, e3)\n",
    "print(e1 == e2 == e3)\n",
    "print('{:%n(%s) Z=%z}'.format(e1))\n",
    "pprint(e1.__dict__, width=10)"
   ]
  },
  {
   "cell_type": "markdown",
   "metadata": {},
   "source": [
    "## 2.2 `bq.Isotope`"
   ]
  },
  {
   "cell_type": "code",
   "execution_count": 31,
   "metadata": {},
   "outputs": [
    {
     "name": "stdout",
     "output_type": "stream",
     "text": [
      "Cs-137 Cs-137 Cs-137 Cs-137 Cs-137\n",
      "True\n"
     ]
    }
   ],
   "source": [
    "i1 = bq.Isotope('Cs-137')\n",
    "i2 = bq.Isotope('137CS')\n",
    "i3 = bq.Isotope('Cs', 137)\n",
    "i4 = bq.Isotope('Cesium-137')\n",
    "i5 = bq.Isotope('137CAESIUM')\n",
    "print(i1, i2, i3, i4, i5)\n",
    "print(i1 == i2 == i3 == i4 == i5)"
   ]
  },
  {
   "cell_type": "markdown",
   "metadata": {},
   "source": [
    "Isotope names and properties"
   ]
  },
  {
   "cell_type": "code",
   "execution_count": 32,
   "metadata": {
    "scrolled": false
   },
   "outputs": [
    {
     "name": "stdout",
     "output_type": "stream",
     "text": [
      "Tc-99m\n",
      "Technetium(Tc)-99m Z=43\n",
      "{'A': 99,\n",
      " 'M': 1,\n",
      " 'N': 56,\n",
      " 'Z': 43,\n",
      " 'atomic_mass': 98,\n",
      " 'm': 'm',\n",
      " 'name': 'Technetium',\n",
      " 'symbol': 'Tc'}\n",
      "half-life: 6.01 hr\n"
     ]
    }
   ],
   "source": [
    "iso = bq.Isotope('Tc-99m')\n",
    "print(iso)\n",
    "print('{:%n(%s)-%a%m Z=%z}'.format(iso))\n",
    "pprint(iso.__dict__)\n",
    "print('half-life: {:.2f} hr'.format(iso.half_life / 3600))"
   ]
  },
  {
   "cell_type": "markdown",
   "metadata": {},
   "source": [
    "More isotope properties such as half-life, stability, and natural abundance are available:"
   ]
  },
  {
   "cell_type": "code",
   "execution_count": 33,
   "metadata": {},
   "outputs": [
    {
     "name": "stdout",
     "output_type": "stream",
     "text": [
      "\n",
      "Isotope: K-39\n",
      "    Spin-parity: 3/2+\n",
      "    Abundance:   93.26+/-0.00%\n",
      "    Stable?      True\n",
      "\n",
      "Isotope: K-40\n",
      "    Spin-parity: 4-\n",
      "    Abundance:   0.01+/-0.00%\n",
      "    Stable?      False\n",
      "    Half-life:   1.248e+09 years\n",
      "    Decay modes: (['B-', 'EC'], [89.28, 10.72])\n",
      "\n",
      "Isotope: K-41\n",
      "    Spin-parity: 3/2+\n",
      "    Abundance:   6.73+/-0.00%\n",
      "    Stable?      True\n"
     ]
    }
   ],
   "source": [
    "for a in range(39, 42):\n",
    "    iso = bq.Isotope('Potassium', a)\n",
    "    print('')\n",
    "    print('Isotope: {}'.format(iso))\n",
    "    print('    Spin-parity: {}'.format(iso.j_pi))\n",
    "    if iso.abundance is not None:\n",
    "        print('    Abundance:   {:.2f}%'.format(iso.abundance))\n",
    "    print('    Stable?      {}'.format(iso.is_stable))\n",
    "    if not iso.is_stable:\n",
    "        print('    Half-life:   {:.3e} years'.format(iso.half_life / 365.25 / 24 / 3600))\n",
    "        print('    Decay modes: {}'.format(iso.decay_modes))"
   ]
  },
  {
   "cell_type": "markdown",
   "metadata": {},
   "source": [
    "## 2.3 `bq.IsotopeQuantity`"
   ]
  },
  {
   "cell_type": "markdown",
   "metadata": {},
   "source": [
    "Source activity on a given date\n",
    "\n",
    "Here's a check source activity on today's date:"
   ]
  },
  {
   "cell_type": "code",
   "execution_count": 34,
   "metadata": {
    "scrolled": true
   },
   "outputs": [
    {
     "data": {
      "text/plain": [
       "6.944734312396123"
      ]
     },
     "execution_count": 34,
     "metadata": {},
     "output_type": "execute_result"
    }
   ],
   "source": [
    "ba133_chk = bq.IsotopeQuantity('ba133', date='2013-05-01', uci=10.02)\n",
    "ba133_chk.uci_now()"
   ]
  },
  {
   "cell_type": "markdown",
   "metadata": {},
   "source": [
    "Or for another date:"
   ]
  },
  {
   "cell_type": "code",
   "execution_count": 35,
   "metadata": {
    "scrolled": false
   },
   "outputs": [
    {
     "data": {
      "text/plain": [
       "7.311855859452171"
      ]
     },
     "execution_count": 35,
     "metadata": {},
     "output_type": "execute_result"
    }
   ],
   "source": [
    "ba133_chk.uci_at('2018-02-16')"
   ]
  },
  {
   "cell_type": "markdown",
   "metadata": {},
   "source": [
    "## 2.4 `bq.materials`\n",
    "\n",
    "Access the [NIST X-ray mass attenuation coefficients database](https://www.nist.gov/pml/x-ray-mass-attenuation-coefficients) for [elements](https://physics.nist.gov/PhysRefData/XrayMassCoef/tab1.html) and [compounds](https://physics.nist.gov/PhysRefData/XrayMassCoef/tab2.html)."
   ]
  },
  {
   "cell_type": "code",
   "execution_count": 36,
   "metadata": {},
   "outputs": [
    {
     "data": {
      "text/html": [
       "<div>\n",
       "<style scoped>\n",
       "    .dataframe tbody tr th:only-of-type {\n",
       "        vertical-align: middle;\n",
       "    }\n",
       "\n",
       "    .dataframe tbody tr th {\n",
       "        vertical-align: top;\n",
       "    }\n",
       "\n",
       "    .dataframe thead th {\n",
       "        text-align: right;\n",
       "    }\n",
       "</style>\n",
       "<table border=\"1\" class=\"dataframe\">\n",
       "  <thead>\n",
       "    <tr style=\"text-align: right;\">\n",
       "      <th></th>\n",
       "      <th>Z</th>\n",
       "      <th>Symbol</th>\n",
       "      <th>Element</th>\n",
       "      <th>Z_over_A</th>\n",
       "      <th>I_eV</th>\n",
       "      <th>Density</th>\n",
       "    </tr>\n",
       "  </thead>\n",
       "  <tbody>\n",
       "    <tr>\n",
       "      <th>0</th>\n",
       "      <td>1</td>\n",
       "      <td>H</td>\n",
       "      <td>Hydrogen</td>\n",
       "      <td>0.99212</td>\n",
       "      <td>19.2</td>\n",
       "      <td>0.000084</td>\n",
       "    </tr>\n",
       "    <tr>\n",
       "      <th>1</th>\n",
       "      <td>2</td>\n",
       "      <td>He</td>\n",
       "      <td>Helium</td>\n",
       "      <td>0.49968</td>\n",
       "      <td>41.8</td>\n",
       "      <td>0.000166</td>\n",
       "    </tr>\n",
       "    <tr>\n",
       "      <th>2</th>\n",
       "      <td>3</td>\n",
       "      <td>Li</td>\n",
       "      <td>Lithium</td>\n",
       "      <td>0.43221</td>\n",
       "      <td>40.0</td>\n",
       "      <td>0.534000</td>\n",
       "    </tr>\n",
       "    <tr>\n",
       "      <th>3</th>\n",
       "      <td>4</td>\n",
       "      <td>Be</td>\n",
       "      <td>Beryllium</td>\n",
       "      <td>0.44384</td>\n",
       "      <td>63.7</td>\n",
       "      <td>1.848000</td>\n",
       "    </tr>\n",
       "    <tr>\n",
       "      <th>4</th>\n",
       "      <td>5</td>\n",
       "      <td>B</td>\n",
       "      <td>Boron</td>\n",
       "      <td>0.46245</td>\n",
       "      <td>76.0</td>\n",
       "      <td>2.370000</td>\n",
       "    </tr>\n",
       "  </tbody>\n",
       "</table>\n",
       "</div>"
      ],
      "text/plain": [
       "   Z Symbol    Element  Z_over_A  I_eV   Density\n",
       "0  1      H   Hydrogen   0.99212  19.2  0.000084\n",
       "1  2     He     Helium   0.49968  41.8  0.000166\n",
       "2  3     Li    Lithium   0.43221  40.0  0.534000\n",
       "3  4     Be  Beryllium   0.44384  63.7  1.848000\n",
       "4  5      B      Boron   0.46245  76.0  2.370000"
      ]
     },
     "execution_count": 36,
     "metadata": {},
     "output_type": "execute_result"
    }
   ],
   "source": [
    "elem_dat = bq.materials.fetch_element_data()\n",
    "elem_dat.head()"
   ]
  },
  {
   "cell_type": "code",
   "execution_count": 37,
   "metadata": {},
   "outputs": [
    {
     "data": {
      "text/html": [
       "<div>\n",
       "<style scoped>\n",
       "    .dataframe tbody tr th:only-of-type {\n",
       "        vertical-align: middle;\n",
       "    }\n",
       "\n",
       "    .dataframe tbody tr th {\n",
       "        vertical-align: top;\n",
       "    }\n",
       "\n",
       "    .dataframe thead th {\n",
       "        text-align: right;\n",
       "    }\n",
       "</style>\n",
       "<table border=\"1\" class=\"dataframe\">\n",
       "  <thead>\n",
       "    <tr style=\"text-align: right;\">\n",
       "      <th></th>\n",
       "      <th>Material</th>\n",
       "      <th>Z_over_A</th>\n",
       "      <th>I_eV</th>\n",
       "      <th>Density</th>\n",
       "      <th>Composition_Z</th>\n",
       "      <th>Composition_symbol</th>\n",
       "    </tr>\n",
       "  </thead>\n",
       "  <tbody>\n",
       "    <tr>\n",
       "      <th>0</th>\n",
       "      <td>A-150 Tissue-Equivalent Plastic</td>\n",
       "      <td>0.54903</td>\n",
       "      <td>65.1</td>\n",
       "      <td>1.127000</td>\n",
       "      <td>[1: 0.101330, 6: 0.775498, 7: 0.035057, 8: 0.0...</td>\n",
       "      <td>[H 0.101330, C 0.775498, N 0.035057, O 0.05231...</td>\n",
       "    </tr>\n",
       "    <tr>\n",
       "      <th>1</th>\n",
       "      <td>Adipose Tissue (ICRU-44)</td>\n",
       "      <td>0.55579</td>\n",
       "      <td>64.8</td>\n",
       "      <td>0.950000</td>\n",
       "      <td>[1: 0.114000, 6: 0.598000, 7: 0.007000, 8: 0.2...</td>\n",
       "      <td>[H 0.114000, C 0.598000, N 0.007000, O 0.27800...</td>\n",
       "    </tr>\n",
       "    <tr>\n",
       "      <th>2</th>\n",
       "      <td>Air, Dry (near sea level)</td>\n",
       "      <td>0.49919</td>\n",
       "      <td>85.7</td>\n",
       "      <td>0.001205</td>\n",
       "      <td>[6: 0.000124, 7: 0.755268, 8: 0.231781, 18: 0....</td>\n",
       "      <td>[C 0.000124, N 0.755268, O 0.231781, Ar 0.012827]</td>\n",
       "    </tr>\n",
       "    <tr>\n",
       "      <th>3</th>\n",
       "      <td>Alanine</td>\n",
       "      <td>0.53876</td>\n",
       "      <td>71.9</td>\n",
       "      <td>1.424000</td>\n",
       "      <td>[1: 0.079192, 6: 0.404437, 7: 0.157213, 8: 0.3...</td>\n",
       "      <td>[H 0.079192, C 0.404437, N 0.157213, O 0.359157]</td>\n",
       "    </tr>\n",
       "    <tr>\n",
       "      <th>4</th>\n",
       "      <td>B-100 Bone-Equivalent Plastic</td>\n",
       "      <td>0.52740</td>\n",
       "      <td>85.9</td>\n",
       "      <td>1.450000</td>\n",
       "      <td>[1: 0.065473, 6: 0.536942, 7: 0.021500, 8: 0.0...</td>\n",
       "      <td>[H 0.065473, C 0.536942, N 0.021500, O 0.03208...</td>\n",
       "    </tr>\n",
       "  </tbody>\n",
       "</table>\n",
       "</div>"
      ],
      "text/plain": [
       "                          Material  Z_over_A  I_eV   Density  \\\n",
       "0  A-150 Tissue-Equivalent Plastic   0.54903  65.1  1.127000   \n",
       "1         Adipose Tissue (ICRU-44)   0.55579  64.8  0.950000   \n",
       "2        Air, Dry (near sea level)   0.49919  85.7  0.001205   \n",
       "3                          Alanine   0.53876  71.9  1.424000   \n",
       "4    B-100 Bone-Equivalent Plastic   0.52740  85.9  1.450000   \n",
       "\n",
       "                                       Composition_Z  \\\n",
       "0  [1: 0.101330, 6: 0.775498, 7: 0.035057, 8: 0.0...   \n",
       "1  [1: 0.114000, 6: 0.598000, 7: 0.007000, 8: 0.2...   \n",
       "2  [6: 0.000124, 7: 0.755268, 8: 0.231781, 18: 0....   \n",
       "3  [1: 0.079192, 6: 0.404437, 7: 0.157213, 8: 0.3...   \n",
       "4  [1: 0.065473, 6: 0.536942, 7: 0.021500, 8: 0.0...   \n",
       "\n",
       "                                  Composition_symbol  \n",
       "0  [H 0.101330, C 0.775498, N 0.035057, O 0.05231...  \n",
       "1  [H 0.114000, C 0.598000, N 0.007000, O 0.27800...  \n",
       "2  [C 0.000124, N 0.755268, O 0.231781, Ar 0.012827]  \n",
       "3   [H 0.079192, C 0.404437, N 0.157213, O 0.359157]  \n",
       "4  [H 0.065473, C 0.536942, N 0.021500, O 0.03208...  "
      ]
     },
     "execution_count": 37,
     "metadata": {},
     "output_type": "execute_result"
    }
   ],
   "source": [
    "comp_dat = bq.materials.fetch_compound_data()\n",
    "comp_dat.head()"
   ]
  },
  {
   "cell_type": "markdown",
   "metadata": {},
   "source": [
    "## 2.5 `bq.nndc`\n",
    "\n",
    "Tools to query the [National Nuclear Data Center databases](https://www.nndc.bnl.gov/nudat2/) to obtain decay radiation, branching ratios, and many other types of nuclear data.\n",
    "\n",
    "Here are the gamma-ray lines above 5% branching ratio from Co-60:"
   ]
  },
  {
   "cell_type": "code",
   "execution_count": 38,
   "metadata": {},
   "outputs": [
    {
     "data": {
      "text/html": [
       "<div>\n",
       "<style scoped>\n",
       "    .dataframe tbody tr th:only-of-type {\n",
       "        vertical-align: middle;\n",
       "    }\n",
       "\n",
       "    .dataframe tbody tr th {\n",
       "        vertical-align: top;\n",
       "    }\n",
       "\n",
       "    .dataframe thead th {\n",
       "        text-align: right;\n",
       "    }\n",
       "</style>\n",
       "<table border=\"1\" class=\"dataframe\">\n",
       "  <thead>\n",
       "    <tr style=\"text-align: right;\">\n",
       "      <th></th>\n",
       "      <th>Z</th>\n",
       "      <th>Element</th>\n",
       "      <th>A</th>\n",
       "      <th>Decay Mode</th>\n",
       "      <th>Radiation</th>\n",
       "      <th>Radiation Energy (keV)</th>\n",
       "      <th>Radiation Intensity (%)</th>\n",
       "      <th>Energy Level (MeV)</th>\n",
       "    </tr>\n",
       "  </thead>\n",
       "  <tbody>\n",
       "    <tr>\n",
       "      <th>0</th>\n",
       "      <td>27</td>\n",
       "      <td>CO</td>\n",
       "      <td>60</td>\n",
       "      <td>IT</td>\n",
       "      <td>G</td>\n",
       "      <td>6.915</td>\n",
       "      <td>9.1+/-0.4</td>\n",
       "      <td>0.058603+/-0.000007</td>\n",
       "    </tr>\n",
       "    <tr>\n",
       "      <th>1</th>\n",
       "      <td>27</td>\n",
       "      <td>CO</td>\n",
       "      <td>60</td>\n",
       "      <td>IT</td>\n",
       "      <td>G</td>\n",
       "      <td>6.93</td>\n",
       "      <td>18.0+/-0.8</td>\n",
       "      <td>0.058603+/-0.000007</td>\n",
       "    </tr>\n",
       "    <tr>\n",
       "      <th>2</th>\n",
       "      <td>27</td>\n",
       "      <td>CO</td>\n",
       "      <td>60</td>\n",
       "      <td>B-</td>\n",
       "      <td>G</td>\n",
       "      <td>1173.2280+/-0.0030</td>\n",
       "      <td>99.850+/-0.030</td>\n",
       "      <td>0</td>\n",
       "    </tr>\n",
       "    <tr>\n",
       "      <th>3</th>\n",
       "      <td>27</td>\n",
       "      <td>CO</td>\n",
       "      <td>60</td>\n",
       "      <td>B-</td>\n",
       "      <td>G</td>\n",
       "      <td>1332.492+/-0.004</td>\n",
       "      <td>99.9826+/-0.0006</td>\n",
       "      <td>0</td>\n",
       "    </tr>\n",
       "  </tbody>\n",
       "</table>\n",
       "</div>"
      ],
      "text/plain": [
       "    Z Element   A Decay Mode Radiation Radiation Energy (keV)  \\\n",
       "0  27      CO  60         IT         G                  6.915   \n",
       "1  27      CO  60         IT         G                   6.93   \n",
       "2  27      CO  60         B-         G     1173.2280+/-0.0030   \n",
       "3  27      CO  60         B-         G       1332.492+/-0.004   \n",
       "\n",
       "  Radiation Intensity (%)   Energy Level (MeV)  \n",
       "0               9.1+/-0.4  0.058603+/-0.000007  \n",
       "1              18.0+/-0.8  0.058603+/-0.000007  \n",
       "2          99.850+/-0.030                    0  \n",
       "3        99.9826+/-0.0006                    0  "
      ]
     },
     "metadata": {},
     "output_type": "display_data"
    }
   ],
   "source": [
    "rad = bq.nndc.fetch_decay_radiation(nuc='Co-60', type='Gamma', i_range=(5, None))\n",
    "cols = ['Z', 'Element', 'A', 'Decay Mode', 'Radiation', 'Radiation Energy (keV)',\n",
    "        'Radiation Intensity (%)', 'Energy Level (MeV)']\n",
    "display(rad[cols])"
   ]
  },
  {
   "cell_type": "code",
   "execution_count": 39,
   "metadata": {},
   "outputs": [
    {
     "data": {
      "text/html": [
       "<div>\n",
       "<style scoped>\n",
       "    .dataframe tbody tr th:only-of-type {\n",
       "        vertical-align: middle;\n",
       "    }\n",
       "\n",
       "    .dataframe tbody tr th {\n",
       "        vertical-align: top;\n",
       "    }\n",
       "\n",
       "    .dataframe thead th {\n",
       "        text-align: right;\n",
       "    }\n",
       "</style>\n",
       "<table border=\"1\" class=\"dataframe\">\n",
       "  <thead>\n",
       "    <tr style=\"text-align: right;\">\n",
       "      <th></th>\n",
       "      <th>Z</th>\n",
       "      <th>Element</th>\n",
       "      <th>A</th>\n",
       "      <th>m</th>\n",
       "      <th>M</th>\n",
       "      <th>N</th>\n",
       "      <th>JPi</th>\n",
       "      <th>Energy Level (MeV)</th>\n",
       "      <th>Decay Mode</th>\n",
       "      <th>Branching (%)</th>\n",
       "      <th>Mass Excess (MeV)</th>\n",
       "      <th>T1/2 (txt)</th>\n",
       "      <th>T1/2 (s)</th>\n",
       "      <th>Abundance (%)</th>\n",
       "    </tr>\n",
       "  </thead>\n",
       "  <tbody>\n",
       "    <tr>\n",
       "      <th>0</th>\n",
       "      <td>19</td>\n",
       "      <td>K</td>\n",
       "      <td>37</td>\n",
       "      <td></td>\n",
       "      <td>0</td>\n",
       "      <td>18</td>\n",
       "      <td>3/2+</td>\n",
       "      <td>0.0</td>\n",
       "      <td>EC</td>\n",
       "      <td>100.00</td>\n",
       "      <td>-24.80020+/-0.00009</td>\n",
       "      <td>1.226 S 0.007</td>\n",
       "      <td>1.226000e+00</td>\n",
       "      <td>None</td>\n",
       "    </tr>\n",
       "    <tr>\n",
       "      <th>1</th>\n",
       "      <td>19</td>\n",
       "      <td>K</td>\n",
       "      <td>38</td>\n",
       "      <td></td>\n",
       "      <td>0</td>\n",
       "      <td>19</td>\n",
       "      <td>3+</td>\n",
       "      <td>0.0</td>\n",
       "      <td>EC</td>\n",
       "      <td>100.00</td>\n",
       "      <td>-28.80076+/-0.00019</td>\n",
       "      <td>7.636 M 0.018</td>\n",
       "      <td>4.581600e+02</td>\n",
       "      <td>None</td>\n",
       "    </tr>\n",
       "    <tr>\n",
       "      <th>2</th>\n",
       "      <td>19</td>\n",
       "      <td>K</td>\n",
       "      <td>39</td>\n",
       "      <td></td>\n",
       "      <td>0</td>\n",
       "      <td>20</td>\n",
       "      <td>3/2+</td>\n",
       "      <td>0.0</td>\n",
       "      <td></td>\n",
       "      <td>NaN</td>\n",
       "      <td>-33.807191+/-0.000005</td>\n",
       "      <td>STABLE</td>\n",
       "      <td>inf</td>\n",
       "      <td>93.258+/-0.004</td>\n",
       "    </tr>\n",
       "    <tr>\n",
       "      <th>3</th>\n",
       "      <td>19</td>\n",
       "      <td>K</td>\n",
       "      <td>40</td>\n",
       "      <td></td>\n",
       "      <td>0</td>\n",
       "      <td>21</td>\n",
       "      <td>4-</td>\n",
       "      <td>0.0</td>\n",
       "      <td>B-</td>\n",
       "      <td>89.28</td>\n",
       "      <td>-33.53549+/-0.00006</td>\n",
       "      <td>1.248E+9 Y 0.003E+9</td>\n",
       "      <td>3.938000e+16</td>\n",
       "      <td>0.01170+/-0.00010</td>\n",
       "    </tr>\n",
       "    <tr>\n",
       "      <th>4</th>\n",
       "      <td>19</td>\n",
       "      <td>K</td>\n",
       "      <td>40</td>\n",
       "      <td></td>\n",
       "      <td>0</td>\n",
       "      <td>21</td>\n",
       "      <td>4-</td>\n",
       "      <td>0.0</td>\n",
       "      <td>EC</td>\n",
       "      <td>10.72</td>\n",
       "      <td>-33.53549+/-0.00006</td>\n",
       "      <td>1.248E+9 Y 0.003E+9</td>\n",
       "      <td>3.938000e+16</td>\n",
       "      <td>0.01170+/-0.00010</td>\n",
       "    </tr>\n",
       "    <tr>\n",
       "      <th>5</th>\n",
       "      <td>19</td>\n",
       "      <td>K</td>\n",
       "      <td>41</td>\n",
       "      <td></td>\n",
       "      <td>0</td>\n",
       "      <td>22</td>\n",
       "      <td>3/2+</td>\n",
       "      <td>0.0</td>\n",
       "      <td></td>\n",
       "      <td>NaN</td>\n",
       "      <td>-35.559543+/-0.000004</td>\n",
       "      <td>STABLE</td>\n",
       "      <td>inf</td>\n",
       "      <td>6.730+/-0.004</td>\n",
       "    </tr>\n",
       "    <tr>\n",
       "      <th>6</th>\n",
       "      <td>19</td>\n",
       "      <td>K</td>\n",
       "      <td>42</td>\n",
       "      <td></td>\n",
       "      <td>0</td>\n",
       "      <td>23</td>\n",
       "      <td>2-</td>\n",
       "      <td>0.0</td>\n",
       "      <td>B-</td>\n",
       "      <td>100.00</td>\n",
       "      <td>-35.02203+/-0.00011</td>\n",
       "      <td>12.355 H 0.007</td>\n",
       "      <td>4.447800e+04</td>\n",
       "      <td>None</td>\n",
       "    </tr>\n",
       "    <tr>\n",
       "      <th>7</th>\n",
       "      <td>19</td>\n",
       "      <td>K</td>\n",
       "      <td>43</td>\n",
       "      <td></td>\n",
       "      <td>0</td>\n",
       "      <td>24</td>\n",
       "      <td>3/2+</td>\n",
       "      <td>0.0</td>\n",
       "      <td>B-</td>\n",
       "      <td>100.00</td>\n",
       "      <td>-36.5754+/-0.0004</td>\n",
       "      <td>22.3 H 0.1</td>\n",
       "      <td>8.028000e+04</td>\n",
       "      <td>None</td>\n",
       "    </tr>\n",
       "    <tr>\n",
       "      <th>8</th>\n",
       "      <td>19</td>\n",
       "      <td>K</td>\n",
       "      <td>44</td>\n",
       "      <td></td>\n",
       "      <td>0</td>\n",
       "      <td>25</td>\n",
       "      <td>2-</td>\n",
       "      <td>0.0</td>\n",
       "      <td>B-</td>\n",
       "      <td>100.00</td>\n",
       "      <td>-35.7815+/-0.0004</td>\n",
       "      <td>22.13 M 0.19</td>\n",
       "      <td>1.327800e+03</td>\n",
       "      <td>None</td>\n",
       "    </tr>\n",
       "  </tbody>\n",
       "</table>\n",
       "</div>"
      ],
      "text/plain": [
       "    Z Element   A m  M   N   JPi  Energy Level (MeV) Decay Mode  \\\n",
       "0  19       K  37    0  18  3/2+                 0.0         EC   \n",
       "1  19       K  38    0  19    3+                 0.0         EC   \n",
       "2  19       K  39    0  20  3/2+                 0.0              \n",
       "3  19       K  40    0  21    4-                 0.0         B-   \n",
       "4  19       K  40    0  21    4-                 0.0         EC   \n",
       "5  19       K  41    0  22  3/2+                 0.0              \n",
       "6  19       K  42    0  23    2-                 0.0         B-   \n",
       "7  19       K  43    0  24  3/2+                 0.0         B-   \n",
       "8  19       K  44    0  25    2-                 0.0         B-   \n",
       "\n",
       "   Branching (%)      Mass Excess (MeV)           T1/2 (txt)      T1/2 (s)  \\\n",
       "0         100.00    -24.80020+/-0.00009        1.226 S 0.007  1.226000e+00   \n",
       "1         100.00    -28.80076+/-0.00019        7.636 M 0.018  4.581600e+02   \n",
       "2            NaN  -33.807191+/-0.000005               STABLE           inf   \n",
       "3          89.28    -33.53549+/-0.00006  1.248E+9 Y 0.003E+9  3.938000e+16   \n",
       "4          10.72    -33.53549+/-0.00006  1.248E+9 Y 0.003E+9  3.938000e+16   \n",
       "5            NaN  -35.559543+/-0.000004               STABLE           inf   \n",
       "6         100.00    -35.02203+/-0.00011       12.355 H 0.007  4.447800e+04   \n",
       "7         100.00      -36.5754+/-0.0004           22.3 H 0.1  8.028000e+04   \n",
       "8         100.00      -35.7815+/-0.0004         22.13 M 0.19  1.327800e+03   \n",
       "\n",
       "       Abundance (%)  \n",
       "0               None  \n",
       "1               None  \n",
       "2     93.258+/-0.004  \n",
       "3  0.01170+/-0.00010  \n",
       "4  0.01170+/-0.00010  \n",
       "5      6.730+/-0.004  \n",
       "6               None  \n",
       "7               None  \n",
       "8               None  "
      ]
     },
     "metadata": {},
     "output_type": "display_data"
    }
   ],
   "source": [
    "# NNDC nuclear wallet cards are used by bq.Isotope but can be accessed directly like this:\n",
    "data = bq.nndc.fetch_wallet_card(\n",
    "    z_range=(19, 19),\n",
    "    a_range=(37, 44),\n",
    "    elevel_range=(0, 0),  # ground states only\n",
    ")\n",
    "display(data)"
   ]
  },
  {
   "cell_type": "markdown",
   "metadata": {},
   "source": [
    "## 2.6 `bq.xcom`\n",
    "\n",
    "The [NIST XCOM photon cross sections database](https://www.nist.gov/pml/xcom-photon-cross-sections-database) can be [queried](https://physics.nist.gov/PhysRefData/Xcom/html/xcom1.html) in `becquerel`.\n",
    "\n",
    "For example, here is how to access the cross section data for an element (Pb)"
   ]
  },
  {
   "cell_type": "code",
   "execution_count": 40,
   "metadata": {},
   "outputs": [
    {
     "data": {
      "image/png": "[encoded data removed]",
      "text/plain": [
       "<Figure size 432x288 with 1 Axes>"
      ]
     },
     "metadata": {
      "needs_background": "light"
     },
     "output_type": "display_data"
    }
   ],
   "source": [
    "# query XCOM by element symbol\n",
    "data = bq.xcom.fetch_xcom_data('Pb', e_range_kev=[10., 3000.])\n",
    "\n",
    "plt.figure()\n",
    "for field in ['total_w_coh', 'total_wo_coh', 'coherent', 'incoherent',\n",
    "              'photoelec', 'pair_nuc', 'pair_elec']:\n",
    "    plt.semilogy(data.energy, data[field], label=field)\n",
    "plt.xlim(0, 3000)\n",
    "plt.xlabel('Energy (keV)')\n",
    "plt.ylabel(r'Attenuation coefficient [cm$^2$/g]')\n",
    "plt.legend()\n",
    "plt.show()"
   ]
  },
  {
   "cell_type": "code",
   "execution_count": null,
   "metadata": {},
   "outputs": [],
   "source": []
  }
 ],
 "metadata": {
  "kernelspec": {
   "display_name": "Python 3",
   "language": "python",
   "name": "python3"
  },
  "language_info": {
   "codemirror_mode": {
    "name": "ipython",
    "version": 3
   },
   "file_extension": ".py",
   "mimetype": "text/x-python",
   "name": "python",
   "nbconvert_exporter": "python",
   "pygments_lexer": "ipython3",
   "version": "3.6.6"
  }
 },
 "nbformat": 4,
 "nbformat_minor": 1
}
