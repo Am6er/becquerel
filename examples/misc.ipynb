{
 "cells": [
  {
   "cell_type": "markdown",
   "metadata": {},
   "source": [
    "# Miscellaneous Becquerel Examples"
   ]
  },
  {
   "cell_type": "code",
   "execution_count": 1,
   "metadata": {},
   "outputs": [
    {
     "name": "stdout",
     "output_type": "stream",
     "text": [
      "Populating the interactive namespace from numpy and matplotlib\n"
     ]
    }
   ],
   "source": [
    "%pylab inline\n",
    "import becquerel as bq\n",
    "from pprint import pprint"
   ]
  },
  {
   "cell_type": "markdown",
   "metadata": {},
   "source": [
    "# 1. Example: Calculate the mean free path of photons"
   ]
  },
  {
   "cell_type": "markdown",
   "metadata": {},
   "source": [
    "## 1.1 Mean free path of photons in lead\n",
    "\n",
    "NIST XCOM data can be queried in `becquerel`, as well as standard properties of elements and materials. Here we query data for lead and use it to calculate the mean free path:"
   ]
  },
  {
   "cell_type": "code",
   "execution_count": 2,
   "metadata": {
    "scrolled": false
   },
   "outputs": [
    {
     "data": {
      "text/html": [
       "<div>\n",
       "<style scoped>\n",
       "    .dataframe tbody tr th:only-of-type {\n",
       "        vertical-align: middle;\n",
       "    }\n",
       "\n",
       "    .dataframe tbody tr th {\n",
       "        vertical-align: top;\n",
       "    }\n",
       "\n",
       "    .dataframe thead th {\n",
       "        text-align: right;\n",
       "    }\n",
       "</style>\n",
       "<table border=\"1\" class=\"dataframe\">\n",
       "  <thead>\n",
       "    <tr style=\"text-align: right;\">\n",
       "      <th></th>\n",
       "      <th>Z</th>\n",
       "      <th>Symbol</th>\n",
       "      <th>Element</th>\n",
       "      <th>Z_over_A</th>\n",
       "      <th>I_eV</th>\n",
       "      <th>Density</th>\n",
       "    </tr>\n",
       "  </thead>\n",
       "  <tbody>\n",
       "    <tr>\n",
       "      <th>0</th>\n",
       "      <td>1</td>\n",
       "      <td>H</td>\n",
       "      <td>Hydrogen</td>\n",
       "      <td>0.99212</td>\n",
       "      <td>19.2</td>\n",
       "      <td>0.000084</td>\n",
       "    </tr>\n",
       "    <tr>\n",
       "      <th>1</th>\n",
       "      <td>2</td>\n",
       "      <td>He</td>\n",
       "      <td>Helium</td>\n",
       "      <td>0.49968</td>\n",
       "      <td>41.8</td>\n",
       "      <td>0.000166</td>\n",
       "    </tr>\n",
       "    <tr>\n",
       "      <th>2</th>\n",
       "      <td>3</td>\n",
       "      <td>Li</td>\n",
       "      <td>Lithium</td>\n",
       "      <td>0.43221</td>\n",
       "      <td>40.0</td>\n",
       "      <td>0.534000</td>\n",
       "    </tr>\n",
       "    <tr>\n",
       "      <th>3</th>\n",
       "      <td>4</td>\n",
       "      <td>Be</td>\n",
       "      <td>Beryllium</td>\n",
       "      <td>0.44384</td>\n",
       "      <td>63.7</td>\n",
       "      <td>1.848000</td>\n",
       "    </tr>\n",
       "    <tr>\n",
       "      <th>4</th>\n",
       "      <td>5</td>\n",
       "      <td>B</td>\n",
       "      <td>Boron</td>\n",
       "      <td>0.46245</td>\n",
       "      <td>76.0</td>\n",
       "      <td>2.370000</td>\n",
       "    </tr>\n",
       "  </tbody>\n",
       "</table>\n",
       "</div>"
      ],
      "text/plain": [
       "   Z Symbol    Element  Z_over_A  I_eV   Density\n",
       "0  1      H   Hydrogen   0.99212  19.2  0.000084\n",
       "1  2     He     Helium   0.49968  41.8  0.000166\n",
       "2  3     Li    Lithium   0.43221  40.0  0.534000\n",
       "3  4     Be  Beryllium   0.44384  63.7  1.848000\n",
       "4  5      B      Boron   0.46245  76.0  2.370000"
      ]
     },
     "metadata": {},
     "output_type": "display_data"
    },
    {
     "name": "stdout",
     "output_type": "stream",
     "text": [
      "density (g/cm^3): 11.35\n"
     ]
    },
    {
     "data": {
      "image/png": "[encoded data removed]",
      "text/plain": [
       "<Figure size 432x288 with 1 Axes>"
      ]
     },
     "metadata": {
      "needs_background": "light"
     },
     "output_type": "display_data"
    }
   ],
   "source": [
    "symbol = 'Pb'\n",
    "\n",
    "# retrieve NIST element data\n",
    "elem_dat = bq.materials.fetch_element_data()\n",
    "display(elem_dat.head())\n",
    "density = elem_dat.Density[elem_dat.Symbol == symbol].values[0]\n",
    "print('density (g/cm^3):', density)\n",
    "\n",
    "# retrieve NIST XCOM cross sections\n",
    "xd = bq.xcom.fetch_xcom_data(symbol, e_range_kev=[50., 3000.])\n",
    "\n",
    "# calculate mean free path\n",
    "mfp_cm = 1 / (density * xd.total_wo_coh.values)\n",
    "\n",
    "plt.figure()\n",
    "plt.title('Mean free path of photons in ' + symbol)\n",
    "plt.semilogy(xd.energy, mfp_cm)\n",
    "plt.xlabel('Energy (keV)')\n",
    "plt.ylabel('Mean free path (cm)')\n",
    "plt.show()"
   ]
  },
  {
   "cell_type": "markdown",
   "metadata": {},
   "source": [
    "## 1.2 Mean free path of photons in air"
   ]
  },
  {
   "cell_type": "code",
   "execution_count": 3,
   "metadata": {
    "scrolled": false
   },
   "outputs": [
    {
     "data": {
      "text/html": [
       "<div>\n",
       "<style scoped>\n",
       "    .dataframe tbody tr th:only-of-type {\n",
       "        vertical-align: middle;\n",
       "    }\n",
       "\n",
       "    .dataframe tbody tr th {\n",
       "        vertical-align: top;\n",
       "    }\n",
       "\n",
       "    .dataframe thead th {\n",
       "        text-align: right;\n",
       "    }\n",
       "</style>\n",
       "<table border=\"1\" class=\"dataframe\">\n",
       "  <thead>\n",
       "    <tr style=\"text-align: right;\">\n",
       "      <th></th>\n",
       "      <th>Material</th>\n",
       "      <th>Z_over_A</th>\n",
       "      <th>I_eV</th>\n",
       "      <th>Density</th>\n",
       "      <th>Composition_Z</th>\n",
       "      <th>Composition_symbol</th>\n",
       "    </tr>\n",
       "  </thead>\n",
       "  <tbody>\n",
       "    <tr>\n",
       "      <th>0</th>\n",
       "      <td>A-150 Tissue-Equivalent Plastic</td>\n",
       "      <td>0.54903</td>\n",
       "      <td>65.1</td>\n",
       "      <td>1.127000</td>\n",
       "      <td>[1: 0.101330, 6: 0.775498, 7: 0.035057, 8: 0.0...</td>\n",
       "      <td>[H 0.101330, C 0.775498, N 0.035057, O 0.05231...</td>\n",
       "    </tr>\n",
       "    <tr>\n",
       "      <th>1</th>\n",
       "      <td>Adipose Tissue (ICRU-44)</td>\n",
       "      <td>0.55579</td>\n",
       "      <td>64.8</td>\n",
       "      <td>0.950000</td>\n",
       "      <td>[1: 0.114000, 6: 0.598000, 7: 0.007000, 8: 0.2...</td>\n",
       "      <td>[H 0.114000, C 0.598000, N 0.007000, O 0.27800...</td>\n",
       "    </tr>\n",
       "    <tr>\n",
       "      <th>2</th>\n",
       "      <td>Air, Dry (near sea level)</td>\n",
       "      <td>0.49919</td>\n",
       "      <td>85.7</td>\n",
       "      <td>0.001205</td>\n",
       "      <td>[6: 0.000124, 7: 0.755268, 8: 0.231781, 18: 0....</td>\n",
       "      <td>[C 0.000124, N 0.755268, O 0.231781, Ar 0.012827]</td>\n",
       "    </tr>\n",
       "    <tr>\n",
       "      <th>3</th>\n",
       "      <td>Alanine</td>\n",
       "      <td>0.53876</td>\n",
       "      <td>71.9</td>\n",
       "      <td>1.424000</td>\n",
       "      <td>[1: 0.079192, 6: 0.404437, 7: 0.157213, 8: 0.3...</td>\n",
       "      <td>[H 0.079192, C 0.404437, N 0.157213, O 0.359157]</td>\n",
       "    </tr>\n",
       "    <tr>\n",
       "      <th>4</th>\n",
       "      <td>B-100 Bone-Equivalent Plastic</td>\n",
       "      <td>0.52740</td>\n",
       "      <td>85.9</td>\n",
       "      <td>1.450000</td>\n",
       "      <td>[1: 0.065473, 6: 0.536942, 7: 0.021500, 8: 0.0...</td>\n",
       "      <td>[H 0.065473, C 0.536942, N 0.021500, O 0.03208...</td>\n",
       "    </tr>\n",
       "  </tbody>\n",
       "</table>\n",
       "</div>"
      ],
      "text/plain": [
       "                          Material  Z_over_A  I_eV   Density  \\\n",
       "0  A-150 Tissue-Equivalent Plastic   0.54903  65.1  1.127000   \n",
       "1         Adipose Tissue (ICRU-44)   0.55579  64.8  0.950000   \n",
       "2        Air, Dry (near sea level)   0.49919  85.7  0.001205   \n",
       "3                          Alanine   0.53876  71.9  1.424000   \n",
       "4    B-100 Bone-Equivalent Plastic   0.52740  85.9  1.450000   \n",
       "\n",
       "                                       Composition_Z  \\\n",
       "0  [1: 0.101330, 6: 0.775498, 7: 0.035057, 8: 0.0...   \n",
       "1  [1: 0.114000, 6: 0.598000, 7: 0.007000, 8: 0.2...   \n",
       "2  [6: 0.000124, 7: 0.755268, 8: 0.231781, 18: 0....   \n",
       "3  [1: 0.079192, 6: 0.404437, 7: 0.157213, 8: 0.3...   \n",
       "4  [1: 0.065473, 6: 0.536942, 7: 0.021500, 8: 0.0...   \n",
       "\n",
       "                                  Composition_symbol  \n",
       "0  [H 0.101330, C 0.775498, N 0.035057, O 0.05231...  \n",
       "1  [H 0.114000, C 0.598000, N 0.007000, O 0.27800...  \n",
       "2  [C 0.000124, N 0.755268, O 0.231781, Ar 0.012827]  \n",
       "3   [H 0.079192, C 0.404437, N 0.157213, O 0.359157]  \n",
       "4  [H 0.065473, C 0.536942, N 0.021500, O 0.03208...  "
      ]
     },
     "metadata": {},
     "output_type": "display_data"
    },
    {
     "name": "stdout",
     "output_type": "stream",
     "text": [
      "density (g/cm^3): 0.0012050000000000001\n",
      "composition: ['C 0.000124', 'N 0.755268', 'O 0.231781', 'Ar 0.012827']\n"
     ]
    },
    {
     "data": {
      "text/html": [
       "<div>\n",
       "<style scoped>\n",
       "    .dataframe tbody tr th:only-of-type {\n",
       "        vertical-align: middle;\n",
       "    }\n",
       "\n",
       "    .dataframe tbody tr th {\n",
       "        vertical-align: top;\n",
       "    }\n",
       "\n",
       "    .dataframe thead th {\n",
       "        text-align: right;\n",
       "    }\n",
       "</style>\n",
       "<table border=\"1\" class=\"dataframe\">\n",
       "  <thead>\n",
       "    <tr style=\"text-align: right;\">\n",
       "      <th></th>\n",
       "      <th>energy</th>\n",
       "      <th>coherent</th>\n",
       "      <th>incoherent</th>\n",
       "      <th>photoelec</th>\n",
       "      <th>pair_nuc</th>\n",
       "      <th>pair_elec</th>\n",
       "      <th>total_w_coh</th>\n",
       "      <th>total_wo_coh</th>\n",
       "    </tr>\n",
       "  </thead>\n",
       "  <tbody>\n",
       "    <tr>\n",
       "      <th>0</th>\n",
       "      <td>50.0</td>\n",
       "      <td>0.019050</td>\n",
       "      <td>0.16140</td>\n",
       "      <td>2.755000e-02</td>\n",
       "      <td>0.000000</td>\n",
       "      <td>0.000000</td>\n",
       "      <td>0.20800</td>\n",
       "      <td>0.18890</td>\n",
       "    </tr>\n",
       "    <tr>\n",
       "      <th>1</th>\n",
       "      <td>60.0</td>\n",
       "      <td>0.013700</td>\n",
       "      <td>0.15860</td>\n",
       "      <td>1.517000e-02</td>\n",
       "      <td>0.000000</td>\n",
       "      <td>0.000000</td>\n",
       "      <td>0.18750</td>\n",
       "      <td>0.17380</td>\n",
       "    </tr>\n",
       "    <tr>\n",
       "      <th>2</th>\n",
       "      <td>80.0</td>\n",
       "      <td>0.008028</td>\n",
       "      <td>0.15230</td>\n",
       "      <td>5.912000e-03</td>\n",
       "      <td>0.000000</td>\n",
       "      <td>0.000000</td>\n",
       "      <td>0.16620</td>\n",
       "      <td>0.15820</td>\n",
       "    </tr>\n",
       "    <tr>\n",
       "      <th>3</th>\n",
       "      <td>100.0</td>\n",
       "      <td>0.005254</td>\n",
       "      <td>0.14600</td>\n",
       "      <td>2.846000e-03</td>\n",
       "      <td>0.000000</td>\n",
       "      <td>0.000000</td>\n",
       "      <td>0.15410</td>\n",
       "      <td>0.14890</td>\n",
       "    </tr>\n",
       "    <tr>\n",
       "      <th>4</th>\n",
       "      <td>150.0</td>\n",
       "      <td>0.002396</td>\n",
       "      <td>0.13240</td>\n",
       "      <td>7.602000e-04</td>\n",
       "      <td>0.000000</td>\n",
       "      <td>0.000000</td>\n",
       "      <td>0.13560</td>\n",
       "      <td>0.13320</td>\n",
       "    </tr>\n",
       "    <tr>\n",
       "      <th>5</th>\n",
       "      <td>200.0</td>\n",
       "      <td>0.001361</td>\n",
       "      <td>0.12170</td>\n",
       "      <td>3.026000e-04</td>\n",
       "      <td>0.000000</td>\n",
       "      <td>0.000000</td>\n",
       "      <td>0.12330</td>\n",
       "      <td>0.12200</td>\n",
       "    </tr>\n",
       "    <tr>\n",
       "      <th>6</th>\n",
       "      <td>300.0</td>\n",
       "      <td>0.000610</td>\n",
       "      <td>0.10610</td>\n",
       "      <td>8.603000e-05</td>\n",
       "      <td>0.000000</td>\n",
       "      <td>0.000000</td>\n",
       "      <td>0.10670</td>\n",
       "      <td>0.10610</td>\n",
       "    </tr>\n",
       "    <tr>\n",
       "      <th>7</th>\n",
       "      <td>400.0</td>\n",
       "      <td>0.000344</td>\n",
       "      <td>0.09511</td>\n",
       "      <td>3.698000e-05</td>\n",
       "      <td>0.000000</td>\n",
       "      <td>0.000000</td>\n",
       "      <td>0.09549</td>\n",
       "      <td>0.09514</td>\n",
       "    </tr>\n",
       "    <tr>\n",
       "      <th>8</th>\n",
       "      <td>500.0</td>\n",
       "      <td>0.000220</td>\n",
       "      <td>0.08688</td>\n",
       "      <td>1.998000e-05</td>\n",
       "      <td>0.000000</td>\n",
       "      <td>0.000000</td>\n",
       "      <td>0.08712</td>\n",
       "      <td>0.08690</td>\n",
       "    </tr>\n",
       "    <tr>\n",
       "      <th>9</th>\n",
       "      <td>600.0</td>\n",
       "      <td>0.000153</td>\n",
       "      <td>0.08039</td>\n",
       "      <td>1.246000e-05</td>\n",
       "      <td>0.000000</td>\n",
       "      <td>0.000000</td>\n",
       "      <td>0.08055</td>\n",
       "      <td>0.08040</td>\n",
       "    </tr>\n",
       "    <tr>\n",
       "      <th>10</th>\n",
       "      <td>800.0</td>\n",
       "      <td>0.000086</td>\n",
       "      <td>0.07064</td>\n",
       "      <td>6.296000e-06</td>\n",
       "      <td>0.000000</td>\n",
       "      <td>0.000000</td>\n",
       "      <td>0.07074</td>\n",
       "      <td>0.07065</td>\n",
       "    </tr>\n",
       "    <tr>\n",
       "      <th>11</th>\n",
       "      <td>1000.0</td>\n",
       "      <td>0.000055</td>\n",
       "      <td>0.06352</td>\n",
       "      <td>3.914000e-06</td>\n",
       "      <td>0.000000</td>\n",
       "      <td>0.000000</td>\n",
       "      <td>0.06358</td>\n",
       "      <td>0.06353</td>\n",
       "    </tr>\n",
       "    <tr>\n",
       "      <th>12</th>\n",
       "      <td>1022.0</td>\n",
       "      <td>0.000053</td>\n",
       "      <td>0.06287</td>\n",
       "      <td>3.656000e-06</td>\n",
       "      <td>0.000000</td>\n",
       "      <td>0.000000</td>\n",
       "      <td>0.06293</td>\n",
       "      <td>0.06287</td>\n",
       "    </tr>\n",
       "    <tr>\n",
       "      <th>13</th>\n",
       "      <td>1250.0</td>\n",
       "      <td>0.000035</td>\n",
       "      <td>0.05682</td>\n",
       "      <td>2.481000e-06</td>\n",
       "      <td>0.000018</td>\n",
       "      <td>0.000000</td>\n",
       "      <td>0.05687</td>\n",
       "      <td>0.05684</td>\n",
       "    </tr>\n",
       "    <tr>\n",
       "      <th>14</th>\n",
       "      <td>1500.0</td>\n",
       "      <td>0.000025</td>\n",
       "      <td>0.05162</td>\n",
       "      <td>1.798000e-06</td>\n",
       "      <td>0.000098</td>\n",
       "      <td>0.000000</td>\n",
       "      <td>0.05175</td>\n",
       "      <td>0.05172</td>\n",
       "    </tr>\n",
       "    <tr>\n",
       "      <th>15</th>\n",
       "      <td>2000.0</td>\n",
       "      <td>0.000014</td>\n",
       "      <td>0.04407</td>\n",
       "      <td>1.128000e-06</td>\n",
       "      <td>0.000392</td>\n",
       "      <td>0.000000</td>\n",
       "      <td>0.04447</td>\n",
       "      <td>0.04446</td>\n",
       "    </tr>\n",
       "    <tr>\n",
       "      <th>16</th>\n",
       "      <td>2044.0</td>\n",
       "      <td>0.000013</td>\n",
       "      <td>0.04351</td>\n",
       "      <td>1.091000e-06</td>\n",
       "      <td>0.000422</td>\n",
       "      <td>0.000000</td>\n",
       "      <td>0.04394</td>\n",
       "      <td>0.04393</td>\n",
       "    </tr>\n",
       "    <tr>\n",
       "      <th>17</th>\n",
       "      <td>3000.0</td>\n",
       "      <td>0.000006</td>\n",
       "      <td>0.03467</td>\n",
       "      <td>6.276000e-07</td>\n",
       "      <td>0.001120</td>\n",
       "      <td>0.000012</td>\n",
       "      <td>0.03581</td>\n",
       "      <td>0.03580</td>\n",
       "    </tr>\n",
       "  </tbody>\n",
       "</table>\n",
       "</div>"
      ],
      "text/plain": [
       "    energy  coherent  incoherent     photoelec  pair_nuc  pair_elec  \\\n",
       "0     50.0  0.019050     0.16140  2.755000e-02  0.000000   0.000000   \n",
       "1     60.0  0.013700     0.15860  1.517000e-02  0.000000   0.000000   \n",
       "2     80.0  0.008028     0.15230  5.912000e-03  0.000000   0.000000   \n",
       "3    100.0  0.005254     0.14600  2.846000e-03  0.000000   0.000000   \n",
       "4    150.0  0.002396     0.13240  7.602000e-04  0.000000   0.000000   \n",
       "5    200.0  0.001361     0.12170  3.026000e-04  0.000000   0.000000   \n",
       "6    300.0  0.000610     0.10610  8.603000e-05  0.000000   0.000000   \n",
       "7    400.0  0.000344     0.09511  3.698000e-05  0.000000   0.000000   \n",
       "8    500.0  0.000220     0.08688  1.998000e-05  0.000000   0.000000   \n",
       "9    600.0  0.000153     0.08039  1.246000e-05  0.000000   0.000000   \n",
       "10   800.0  0.000086     0.07064  6.296000e-06  0.000000   0.000000   \n",
       "11  1000.0  0.000055     0.06352  3.914000e-06  0.000000   0.000000   \n",
       "12  1022.0  0.000053     0.06287  3.656000e-06  0.000000   0.000000   \n",
       "13  1250.0  0.000035     0.05682  2.481000e-06  0.000018   0.000000   \n",
       "14  1500.0  0.000025     0.05162  1.798000e-06  0.000098   0.000000   \n",
       "15  2000.0  0.000014     0.04407  1.128000e-06  0.000392   0.000000   \n",
       "16  2044.0  0.000013     0.04351  1.091000e-06  0.000422   0.000000   \n",
       "17  3000.0  0.000006     0.03467  6.276000e-07  0.001120   0.000012   \n",
       "\n",
       "    total_w_coh  total_wo_coh  \n",
       "0       0.20800       0.18890  \n",
       "1       0.18750       0.17380  \n",
       "2       0.16620       0.15820  \n",
       "3       0.15410       0.14890  \n",
       "4       0.13560       0.13320  \n",
       "5       0.12330       0.12200  \n",
       "6       0.10670       0.10610  \n",
       "7       0.09549       0.09514  \n",
       "8       0.08712       0.08690  \n",
       "9       0.08055       0.08040  \n",
       "10      0.07074       0.07065  \n",
       "11      0.06358       0.06353  \n",
       "12      0.06293       0.06287  \n",
       "13      0.05687       0.05684  \n",
       "14      0.05175       0.05172  \n",
       "15      0.04447       0.04446  \n",
       "16      0.04394       0.04393  \n",
       "17      0.03581       0.03580  "
      ]
     },
     "metadata": {},
     "output_type": "display_data"
    },
    {
     "data": {
      "image/png": "[encoded data removed]",
      "text/plain": [
       "<Figure size 432x288 with 1 Axes>"
      ]
     },
     "metadata": {
      "needs_background": "light"
     },
     "output_type": "display_data"
    }
   ],
   "source": [
    "compound = 'Air, Dry (near sea level)'\n",
    "\n",
    "# retrieve NIST compound data\n",
    "comp_dat = bq.materials.fetch_compound_data()\n",
    "display(comp_dat.head())\n",
    "density = comp_dat.Density[comp_dat.Material == compound].values[0]\n",
    "composition = comp_dat.Composition_symbol[comp_dat.Material == compound].values[0]\n",
    "print('density (g/cm^3):', density)\n",
    "print('composition:', composition)\n",
    "\n",
    "# retrieve NIST XCOM cross sections\n",
    "xd = bq.xcom.fetch_xcom_data(composition, e_range_kev=[50., 3000.])\n",
    "display(xd)\n",
    "\n",
    "# calculate mean free path\n",
    "mfp_cm = 1 / (density * xd.total_wo_coh.values)\n",
    "mfp_m = mfp_cm / 100.\n",
    "\n",
    "plt.figure()\n",
    "plt.title('Mean free path of photons in ' + compound)\n",
    "plt.semilogy(xd.energy, mfp_m)\n",
    "plt.xlabel('Energy (keV)')\n",
    "plt.ylabel('Mean free path (m)')\n",
    "plt.show()"
   ]
  },
  {
   "cell_type": "markdown",
   "metadata": {},
   "source": [
    "# 2. Example: Identifying unknown spectral lines\n",
    "From the previous spectrum, we see a line around 1408 keV that is not in the background."
   ]
  },
  {
   "cell_type": "code",
   "execution_count": 4,
   "metadata": {},
   "outputs": [
    {
     "name": "stdout",
     "output_type": "stream",
     "text": [
      "SpeFile: Reading file ../tests/samples/1110C NAA cave pottery.Spe\n"
     ]
    },
    {
     "name": "stderr",
     "output_type": "stream",
     "text": [
      "becquerel/parsers/spe_file.py:148: SpectrumFileParsingWarning: SpeFile has $PRESETS field, skipping 3 lines\n",
      "  SpectrumFileParsingWarning)\n"
     ]
    },
    {
     "name": "stdout",
     "output_type": "stream",
     "text": [
      "becquerel.Spectrum\n",
      "    start_time:     2017-04-25 12:54:27\n",
      "    stop_time:      2017-04-25 17:30:24\n",
      "    realtime:       16557.0\n",
      "    livetime:       16543.0\n",
      "    is_calibrated:  True\n",
      "    num_channels:   16384\n",
      "    gross_counts:   (3.047+/-0.006)e+05\n",
      "    gross_cps:      18.419+/-0.034\n",
      "    filename:       ../tests/samples/1110C NAA cave pottery.Spe\n",
      "SpeFile: Reading file ../tests/samples/1110C NAA cave background May 2017.spe\n",
      "becquerel.Spectrum\n",
      "    start_time:     2017-04-26 11:05:11\n",
      "    stop_time:      2017-05-01 12:43:34\n",
      "    realtime:       437903.0\n",
      "    livetime:       437817.0\n",
      "    is_calibrated:  True\n",
      "    num_channels:   16384\n",
      "    gross_counts:   (1.0529+/-0.0010)e+06\n",
      "    gross_cps:      2.4049+/-0.0023\n",
      "    filename:       ../tests/samples/1110C NAA cave background May 2017.spe\n"
     ]
    },
    {
     "name": "stderr",
     "output_type": "stream",
     "text": [
      "becquerel/core/spectrum.py:556: SpectrumWarning: Subtraction of counts-based specta, spectra have been converted to CPS\n",
      "  'have been converted to CPS', SpectrumWarning)\n"
     ]
    }
   ],
   "source": [
    "spec = bq.Spectrum.from_file('../tests/samples/1110C NAA cave pottery.Spe')\n",
    "print(spec)\n",
    "bkg = bq.Spectrum.from_file('../tests/samples/1110C NAA cave background May 2017.spe')\n",
    "print(bkg)\n",
    "bkgsub = spec - bkg"
   ]
  },
  {
   "cell_type": "code",
   "execution_count": 5,
   "metadata": {},
   "outputs": [
    {
     "data": {
      "image/png": "[encoded data removed]",
      "text/plain": [
       "<Figure size 432x288 with 1 Axes>"
      ]
     },
     "metadata": {
      "needs_background": "light"
     },
     "output_type": "display_data"
    }
   ],
   "source": [
    "plt.figure()\n",
    "plt.plot(bkgsub.energies_kev, bkgsub.cps_vals, 'r-')\n",
    "plt.xlim(1388, 1428)\n",
    "plt.ylim(0, 0.02)\n",
    "plt.xlabel('Energy (keV)')\n",
    "plt.ylabel('CPS')\n",
    "plt.show()"
   ]
  },
  {
   "cell_type": "markdown",
   "metadata": {},
   "source": [
    "Which isotope in the sample could be producing this line?"
   ]
  },
  {
   "cell_type": "code",
   "execution_count": 6,
   "metadata": {},
   "outputs": [
    {
     "data": {
      "text/html": [
       "<div>\n",
       "<style scoped>\n",
       "    .dataframe tbody tr th:only-of-type {\n",
       "        vertical-align: middle;\n",
       "    }\n",
       "\n",
       "    .dataframe tbody tr th {\n",
       "        vertical-align: top;\n",
       "    }\n",
       "\n",
       "    .dataframe thead th {\n",
       "        text-align: right;\n",
       "    }\n",
       "</style>\n",
       "<table border=\"1\" class=\"dataframe\">\n",
       "  <thead>\n",
       "    <tr style=\"text-align: right;\">\n",
       "      <th></th>\n",
       "      <th>Z</th>\n",
       "      <th>Element</th>\n",
       "      <th>A</th>\n",
       "      <th>Decay Mode</th>\n",
       "      <th>Radiation</th>\n",
       "      <th>Radiation Energy (keV)</th>\n",
       "      <th>Radiation Intensity (%)</th>\n",
       "      <th>Energy Level (MeV)</th>\n",
       "    </tr>\n",
       "  </thead>\n",
       "  <tbody>\n",
       "    <tr>\n",
       "      <th>0</th>\n",
       "      <td>27</td>\n",
       "      <td>CO</td>\n",
       "      <td>55</td>\n",
       "      <td>EC</td>\n",
       "      <td>G</td>\n",
       "      <td>1408.50+/-0.30</td>\n",
       "      <td>16.9+/-0.8</td>\n",
       "      <td>0.0</td>\n",
       "    </tr>\n",
       "    <tr>\n",
       "      <th>1</th>\n",
       "      <td>63</td>\n",
       "      <td>EU</td>\n",
       "      <td>152</td>\n",
       "      <td>EC</td>\n",
       "      <td>G</td>\n",
       "      <td>1408.0130+/-0.0030</td>\n",
       "      <td>20.87+/-0.09</td>\n",
       "      <td>0.0</td>\n",
       "    </tr>\n",
       "  </tbody>\n",
       "</table>\n",
       "</div>"
      ],
      "text/plain": [
       "    Z Element    A Decay Mode Radiation Radiation Energy (keV)  \\\n",
       "0  27      CO   55         EC         G         1408.50+/-0.30   \n",
       "1  63      EU  152         EC         G     1408.0130+/-0.0030   \n",
       "\n",
       "  Radiation Intensity (%)  Energy Level (MeV)  \n",
       "0              16.9+/-0.8                 0.0  \n",
       "1            20.87+/-0.09                 0.0  "
      ]
     },
     "metadata": {},
     "output_type": "display_data"
    }
   ],
   "source": [
    "rad = bq.nndc.fetch_decay_radiation(\n",
    "    type='Gamma',\n",
    "    e_range=[1405, 1410],\n",
    "    i_range=[5, None],  # at least 5% branching\n",
    "    t_range=[3600, None],  # half-life >= 1 hour\n",
    "    elevel_range=(0, 0),  # ground states only\n",
    ")\n",
    "cols = ['Z', 'Element', 'A', 'Decay Mode', 'Radiation', 'Radiation Energy (keV)',\n",
    "        'Radiation Intensity (%)', 'Energy Level (MeV)']\n",
    "display(rad[cols])"
   ]
  },
  {
   "cell_type": "markdown",
   "metadata": {},
   "source": [
    "Let's first consider Co-55. Are there other lines from that isotope present in the spectrum?"
   ]
  },
  {
   "cell_type": "code",
   "execution_count": 7,
   "metadata": {},
   "outputs": [
    {
     "data": {
      "text/html": [
       "<div>\n",
       "<style scoped>\n",
       "    .dataframe tbody tr th:only-of-type {\n",
       "        vertical-align: middle;\n",
       "    }\n",
       "\n",
       "    .dataframe tbody tr th {\n",
       "        vertical-align: top;\n",
       "    }\n",
       "\n",
       "    .dataframe thead th {\n",
       "        text-align: right;\n",
       "    }\n",
       "</style>\n",
       "<table border=\"1\" class=\"dataframe\">\n",
       "  <thead>\n",
       "    <tr style=\"text-align: right;\">\n",
       "      <th></th>\n",
       "      <th>Z</th>\n",
       "      <th>Element</th>\n",
       "      <th>A</th>\n",
       "      <th>Decay Mode</th>\n",
       "      <th>Radiation</th>\n",
       "      <th>Radiation Energy (keV)</th>\n",
       "      <th>Radiation Intensity (%)</th>\n",
       "      <th>Energy Level (MeV)</th>\n",
       "    </tr>\n",
       "  </thead>\n",
       "  <tbody>\n",
       "    <tr>\n",
       "      <th>0</th>\n",
       "      <td>27</td>\n",
       "      <td>CO</td>\n",
       "      <td>55</td>\n",
       "      <td>EC</td>\n",
       "      <td>G</td>\n",
       "      <td>411.50+/-0.30</td>\n",
       "      <td>1.07+/-0.08</td>\n",
       "      <td>0.0</td>\n",
       "    </tr>\n",
       "    <tr>\n",
       "      <th>1</th>\n",
       "      <td>27</td>\n",
       "      <td>CO</td>\n",
       "      <td>55</td>\n",
       "      <td>EC</td>\n",
       "      <td>G</td>\n",
       "      <td>477.20+/-0.20</td>\n",
       "      <td>20.2+/-1.7</td>\n",
       "      <td>0.0</td>\n",
       "    </tr>\n",
       "    <tr>\n",
       "      <th>2</th>\n",
       "      <td>27</td>\n",
       "      <td>CO</td>\n",
       "      <td>55</td>\n",
       "      <td>EC</td>\n",
       "      <td>G</td>\n",
       "      <td>511</td>\n",
       "      <td>152+/-7</td>\n",
       "      <td>0.0</td>\n",
       "    </tr>\n",
       "    <tr>\n",
       "      <th>3</th>\n",
       "      <td>27</td>\n",
       "      <td>CO</td>\n",
       "      <td>55</td>\n",
       "      <td>EC</td>\n",
       "      <td>G</td>\n",
       "      <td>803.70+/-0.20</td>\n",
       "      <td>1.87+/-0.15</td>\n",
       "      <td>0.0</td>\n",
       "    </tr>\n",
       "    <tr>\n",
       "      <th>4</th>\n",
       "      <td>27</td>\n",
       "      <td>CO</td>\n",
       "      <td>55</td>\n",
       "      <td>EC</td>\n",
       "      <td>G</td>\n",
       "      <td>931.10+/-0.30</td>\n",
       "      <td>75</td>\n",
       "      <td>0.0</td>\n",
       "    </tr>\n",
       "    <tr>\n",
       "      <th>5</th>\n",
       "      <td>27</td>\n",
       "      <td>CO</td>\n",
       "      <td>55</td>\n",
       "      <td>EC</td>\n",
       "      <td>G</td>\n",
       "      <td>1316.60+/-0.30</td>\n",
       "      <td>7.10+/-0.30</td>\n",
       "      <td>0.0</td>\n",
       "    </tr>\n",
       "    <tr>\n",
       "      <th>6</th>\n",
       "      <td>27</td>\n",
       "      <td>CO</td>\n",
       "      <td>55</td>\n",
       "      <td>EC</td>\n",
       "      <td>G</td>\n",
       "      <td>1370.00+/-0.30</td>\n",
       "      <td>2.90+/-0.30</td>\n",
       "      <td>0.0</td>\n",
       "    </tr>\n",
       "    <tr>\n",
       "      <th>7</th>\n",
       "      <td>27</td>\n",
       "      <td>CO</td>\n",
       "      <td>55</td>\n",
       "      <td>EC</td>\n",
       "      <td>G</td>\n",
       "      <td>1408.50+/-0.30</td>\n",
       "      <td>16.9+/-0.8</td>\n",
       "      <td>0.0</td>\n",
       "    </tr>\n",
       "  </tbody>\n",
       "</table>\n",
       "</div>"
      ],
      "text/plain": [
       "    Z Element   A Decay Mode Radiation Radiation Energy (keV)  \\\n",
       "0  27      CO  55         EC         G          411.50+/-0.30   \n",
       "1  27      CO  55         EC         G          477.20+/-0.20   \n",
       "2  27      CO  55         EC         G                    511   \n",
       "3  27      CO  55         EC         G          803.70+/-0.20   \n",
       "4  27      CO  55         EC         G          931.10+/-0.30   \n",
       "5  27      CO  55         EC         G         1316.60+/-0.30   \n",
       "6  27      CO  55         EC         G         1370.00+/-0.30   \n",
       "7  27      CO  55         EC         G         1408.50+/-0.30   \n",
       "\n",
       "  Radiation Intensity (%)  Energy Level (MeV)  \n",
       "0             1.07+/-0.08                 0.0  \n",
       "1              20.2+/-1.7                 0.0  \n",
       "2                 152+/-7                 0.0  \n",
       "3             1.87+/-0.15                 0.0  \n",
       "4                      75                 0.0  \n",
       "5             7.10+/-0.30                 0.0  \n",
       "6             2.90+/-0.30                 0.0  \n",
       "7              16.9+/-0.8                 0.0  "
      ]
     },
     "metadata": {},
     "output_type": "display_data"
    }
   ],
   "source": [
    "rad = bq.nndc.fetch_decay_radiation(\n",
    "    nuc='Co-55',\n",
    "    type='Gamma',\n",
    "    i_range=(1, None),  # at least 1% branching\n",
    "    e_range=(100, None),  # energy >= 100 keV\n",
    "    elevel_range=(0, 0),  # ground states only\n",
    ")\n",
    "display(rad[cols])"
   ]
  },
  {
   "cell_type": "code",
   "execution_count": 8,
   "metadata": {
    "scrolled": false
   },
   "outputs": [
    {
     "data": {
      "image/png": "[encoded data removed]",
      "text/plain": [
       "<Figure size 432x288 with 1 Axes>"
      ]
     },
     "metadata": {
      "needs_background": "light"
     },
     "output_type": "display_data"
    },
    {
     "data": {
      "image/png": "[encoded data removed]",
      "text/plain": [
       "<Figure size 432x288 with 1 Axes>"
      ]
     },
     "metadata": {
      "needs_background": "light"
     },
     "output_type": "display_data"
    },
    {
     "data": {
      "image/png": "[encoded data removed]",
      "text/plain": [
       "<Figure size 432x288 with 1 Axes>"
      ]
     },
     "metadata": {
      "needs_background": "light"
     },
     "output_type": "display_data"
    },
    {
     "data": {
      "image/png": "[encoded data removed]",
      "text/plain": [
       "<Figure size 432x288 with 1 Axes>"
      ]
     },
     "metadata": {
      "needs_background": "light"
     },
     "output_type": "display_data"
    },
    {
     "data": {
      "image/png": "[encoded data removed]",
      "text/plain": [
       "<Figure size 432x288 with 1 Axes>"
      ]
     },
     "metadata": {
      "needs_background": "light"
     },
     "output_type": "display_data"
    }
   ],
   "source": [
    "energies = rad['Radiation Energy (keV)'][rad['Radiation Intensity (%)'] > 5]\n",
    "for en in energies:\n",
    "    try:\n",
    "        en = en.nominal_value\n",
    "    except:\n",
    "        pass\n",
    "    plt.figure()\n",
    "    plt.title('Co-55 line candidate: {:.1f} keV'.format(en))\n",
    "    plt.plot(bkgsub.energies_kev, bkgsub.cps_vals, 'r-')\n",
    "    plt.xlim(en - 10, en + 10)\n",
    "    plt.ylim(0, 0.02)\n",
    "    plt.xlabel('Energy (keV)')\n",
    "    plt.ylabel('CPS')"
   ]
  },
  {
   "cell_type": "markdown",
   "metadata": {},
   "source": [
    "Those lines are not present. Let's examine Eu-152:"
   ]
  },
  {
   "cell_type": "code",
   "execution_count": 9,
   "metadata": {},
   "outputs": [
    {
     "data": {
      "text/html": [
       "<div>\n",
       "<style scoped>\n",
       "    .dataframe tbody tr th:only-of-type {\n",
       "        vertical-align: middle;\n",
       "    }\n",
       "\n",
       "    .dataframe tbody tr th {\n",
       "        vertical-align: top;\n",
       "    }\n",
       "\n",
       "    .dataframe thead th {\n",
       "        text-align: right;\n",
       "    }\n",
       "</style>\n",
       "<table border=\"1\" class=\"dataframe\">\n",
       "  <thead>\n",
       "    <tr style=\"text-align: right;\">\n",
       "      <th></th>\n",
       "      <th>Z</th>\n",
       "      <th>Element</th>\n",
       "      <th>A</th>\n",
       "      <th>Decay Mode</th>\n",
       "      <th>Radiation</th>\n",
       "      <th>Radiation Energy (keV)</th>\n",
       "      <th>Radiation Intensity (%)</th>\n",
       "      <th>Energy Level (MeV)</th>\n",
       "    </tr>\n",
       "  </thead>\n",
       "  <tbody>\n",
       "    <tr>\n",
       "      <th>4</th>\n",
       "      <td>63</td>\n",
       "      <td>EU</td>\n",
       "      <td>152</td>\n",
       "      <td>EC</td>\n",
       "      <td>G</td>\n",
       "      <td>121.78170+/-0.00030</td>\n",
       "      <td>28.53+/-0.16</td>\n",
       "      <td>0.0</td>\n",
       "    </tr>\n",
       "    <tr>\n",
       "      <th>5</th>\n",
       "      <td>63</td>\n",
       "      <td>EU</td>\n",
       "      <td>152</td>\n",
       "      <td>EC</td>\n",
       "      <td>G</td>\n",
       "      <td>244.6974+/-0.0008</td>\n",
       "      <td>7.55+/-0.04</td>\n",
       "      <td>0.0</td>\n",
       "    </tr>\n",
       "    <tr>\n",
       "      <th>6</th>\n",
       "      <td>63</td>\n",
       "      <td>EU</td>\n",
       "      <td>152</td>\n",
       "      <td>B-</td>\n",
       "      <td>G</td>\n",
       "      <td>344.2785+/-0.0012</td>\n",
       "      <td>26.59+/-0.20</td>\n",
       "      <td>0.0</td>\n",
       "    </tr>\n",
       "    <tr>\n",
       "      <th>7</th>\n",
       "      <td>63</td>\n",
       "      <td>EU</td>\n",
       "      <td>152</td>\n",
       "      <td>B-</td>\n",
       "      <td>G</td>\n",
       "      <td>411.1165+/-0.0012</td>\n",
       "      <td>2.237+/-0.013</td>\n",
       "      <td>0.0</td>\n",
       "    </tr>\n",
       "    <tr>\n",
       "      <th>8</th>\n",
       "      <td>63</td>\n",
       "      <td>EU</td>\n",
       "      <td>152</td>\n",
       "      <td>EC</td>\n",
       "      <td>G</td>\n",
       "      <td>443.9606+/-0.0016</td>\n",
       "      <td>2.827+/-0.014</td>\n",
       "      <td>0.0</td>\n",
       "    </tr>\n",
       "    <tr>\n",
       "      <th>9</th>\n",
       "      <td>63</td>\n",
       "      <td>EU</td>\n",
       "      <td>152</td>\n",
       "      <td>B-</td>\n",
       "      <td>G</td>\n",
       "      <td>778.9045+/-0.0024</td>\n",
       "      <td>12.93+/-0.08</td>\n",
       "      <td>0.0</td>\n",
       "    </tr>\n",
       "    <tr>\n",
       "      <th>10</th>\n",
       "      <td>63</td>\n",
       "      <td>EU</td>\n",
       "      <td>152</td>\n",
       "      <td>EC</td>\n",
       "      <td>G</td>\n",
       "      <td>867.3800+/-0.0030</td>\n",
       "      <td>4.230+/-0.030</td>\n",
       "      <td>0.0</td>\n",
       "    </tr>\n",
       "    <tr>\n",
       "      <th>11</th>\n",
       "      <td>63</td>\n",
       "      <td>EU</td>\n",
       "      <td>152</td>\n",
       "      <td>EC</td>\n",
       "      <td>G</td>\n",
       "      <td>964.057+/-0.005</td>\n",
       "      <td>14.51+/-0.07</td>\n",
       "      <td>0.0</td>\n",
       "    </tr>\n",
       "    <tr>\n",
       "      <th>12</th>\n",
       "      <td>63</td>\n",
       "      <td>EU</td>\n",
       "      <td>152</td>\n",
       "      <td>EC</td>\n",
       "      <td>G</td>\n",
       "      <td>1085.837+/-0.010</td>\n",
       "      <td>10.11+/-0.05</td>\n",
       "      <td>0.0</td>\n",
       "    </tr>\n",
       "    <tr>\n",
       "      <th>13</th>\n",
       "      <td>63</td>\n",
       "      <td>EU</td>\n",
       "      <td>152</td>\n",
       "      <td>B-</td>\n",
       "      <td>G</td>\n",
       "      <td>1089.737+/-0.005</td>\n",
       "      <td>1.734+/-0.011</td>\n",
       "      <td>0.0</td>\n",
       "    </tr>\n",
       "    <tr>\n",
       "      <th>14</th>\n",
       "      <td>63</td>\n",
       "      <td>EU</td>\n",
       "      <td>152</td>\n",
       "      <td>EC</td>\n",
       "      <td>G</td>\n",
       "      <td>1112.0760+/-0.0030</td>\n",
       "      <td>13.67+/-0.08</td>\n",
       "      <td>0.0</td>\n",
       "    </tr>\n",
       "    <tr>\n",
       "      <th>15</th>\n",
       "      <td>63</td>\n",
       "      <td>EU</td>\n",
       "      <td>152</td>\n",
       "      <td>EC</td>\n",
       "      <td>G</td>\n",
       "      <td>1212.948+/-0.011</td>\n",
       "      <td>1.415+/-0.008</td>\n",
       "      <td>0.0</td>\n",
       "    </tr>\n",
       "    <tr>\n",
       "      <th>16</th>\n",
       "      <td>63</td>\n",
       "      <td>EU</td>\n",
       "      <td>152</td>\n",
       "      <td>B-</td>\n",
       "      <td>G</td>\n",
       "      <td>1299.142+/-0.008</td>\n",
       "      <td>1.633+/-0.011</td>\n",
       "      <td>0.0</td>\n",
       "    </tr>\n",
       "    <tr>\n",
       "      <th>17</th>\n",
       "      <td>63</td>\n",
       "      <td>EU</td>\n",
       "      <td>152</td>\n",
       "      <td>EC</td>\n",
       "      <td>G</td>\n",
       "      <td>1408.0130+/-0.0030</td>\n",
       "      <td>20.87+/-0.09</td>\n",
       "      <td>0.0</td>\n",
       "    </tr>\n",
       "  </tbody>\n",
       "</table>\n",
       "</div>"
      ],
      "text/plain": [
       "     Z Element    A Decay Mode Radiation Radiation Energy (keV)  \\\n",
       "4   63      EU  152         EC         G    121.78170+/-0.00030   \n",
       "5   63      EU  152         EC         G      244.6974+/-0.0008   \n",
       "6   63      EU  152         B-         G      344.2785+/-0.0012   \n",
       "7   63      EU  152         B-         G      411.1165+/-0.0012   \n",
       "8   63      EU  152         EC         G      443.9606+/-0.0016   \n",
       "9   63      EU  152         B-         G      778.9045+/-0.0024   \n",
       "10  63      EU  152         EC         G      867.3800+/-0.0030   \n",
       "11  63      EU  152         EC         G        964.057+/-0.005   \n",
       "12  63      EU  152         EC         G       1085.837+/-0.010   \n",
       "13  63      EU  152         B-         G       1089.737+/-0.005   \n",
       "14  63      EU  152         EC         G     1112.0760+/-0.0030   \n",
       "15  63      EU  152         EC         G       1212.948+/-0.011   \n",
       "16  63      EU  152         B-         G       1299.142+/-0.008   \n",
       "17  63      EU  152         EC         G     1408.0130+/-0.0030   \n",
       "\n",
       "   Radiation Intensity (%)  Energy Level (MeV)  \n",
       "4             28.53+/-0.16                 0.0  \n",
       "5              7.55+/-0.04                 0.0  \n",
       "6             26.59+/-0.20                 0.0  \n",
       "7            2.237+/-0.013                 0.0  \n",
       "8            2.827+/-0.014                 0.0  \n",
       "9             12.93+/-0.08                 0.0  \n",
       "10           4.230+/-0.030                 0.0  \n",
       "11            14.51+/-0.07                 0.0  \n",
       "12            10.11+/-0.05                 0.0  \n",
       "13           1.734+/-0.011                 0.0  \n",
       "14            13.67+/-0.08                 0.0  \n",
       "15           1.415+/-0.008                 0.0  \n",
       "16           1.633+/-0.011                 0.0  \n",
       "17            20.87+/-0.09                 0.0  "
      ]
     },
     "metadata": {},
     "output_type": "display_data"
    }
   ],
   "source": [
    "rad = bq.nndc.fetch_decay_radiation(\n",
    "    nuc='Eu-152',\n",
    "    type='Gamma',\n",
    "    i_range=(1, None),\n",
    "    e_range=(100, None),\n",
    "    elevel_range=(0, 0),  # ground states only\n",
    ")\n",
    "display(rad[cols])"
   ]
  },
  {
   "cell_type": "code",
   "execution_count": 10,
   "metadata": {
    "scrolled": false
   },
   "outputs": [
    {
     "data": {
      "image/png": "[encoded data removed]",
      "text/plain": [
       "<Figure size 432x288 with 1 Axes>"
      ]
     },
     "metadata": {
      "needs_background": "light"
     },
     "output_type": "display_data"
    },
    {
     "data": {
      "image/png": "[encoded data removed]",
      "text/plain": [
       "<Figure size 432x288 with 1 Axes>"
      ]
     },
     "metadata": {
      "needs_background": "light"
     },
     "output_type": "display_data"
    },
    {
     "data": {
      "image/png": "[encoded data removed]",
      "text/plain": [
       "<Figure size 432x288 with 1 Axes>"
      ]
     },
     "metadata": {
      "needs_background": "light"
     },
     "output_type": "display_data"
    },
    {
     "data": {
      "image/png": "[encoded data removed]",
      "text/plain": [
       "<Figure size 432x288 with 1 Axes>"
      ]
     },
     "metadata": {
      "needs_background": "light"
     },
     "output_type": "display_data"
    },
    {
     "data": {
      "image/png": "[encoded data removed]",
      "text/plain": [
       "<Figure size 432x288 with 1 Axes>"
      ]
     },
     "metadata": {
      "needs_background": "light"
     },
     "output_type": "display_data"
    },
    {
     "data": {
      "image/png": "[encoded data removed]",
      "text/plain": [
       "<Figure size 432x288 with 1 Axes>"
      ]
     },
     "metadata": {
      "needs_background": "light"
     },
     "output_type": "display_data"
    },
    {
     "data": {
      "image/png": "[encoded data removed]",
      "text/plain": [
       "<Figure size 432x288 with 1 Axes>"
      ]
     },
     "metadata": {
      "needs_background": "light"
     },
     "output_type": "display_data"
    },
    {
     "data": {
      "image/png": "[encoded data removed]",
      "text/plain": [
       "<Figure size 432x288 with 1 Axes>"
      ]
     },
     "metadata": {
      "needs_background": "light"
     },
     "output_type": "display_data"
    }
   ],
   "source": [
    "energies = rad['Radiation Energy (keV)'][rad['Radiation Intensity (%)'] > 5]\n",
    "for en in energies:\n",
    "    try:\n",
    "        en = en.nominal_value\n",
    "    except:\n",
    "        pass\n",
    "    plt.figure()\n",
    "    plt.title('Eu-152 line candidate: {:.1f} keV'.format(en))\n",
    "    plt.plot(bkgsub.energies_kev, bkgsub.cps_vals, 'r-')\n",
    "    plt.xlim(en - 10, en + 10)\n",
    "    plt.ylim(0)\n",
    "    plt.xlabel('Energy (keV)')\n",
    "    plt.ylabel('CPS')"
   ]
  },
  {
   "cell_type": "markdown",
   "metadata": {},
   "source": [
    "Eu-152 looks like a good match."
   ]
  },
  {
   "cell_type": "markdown",
   "metadata": {},
   "source": [
    "# 3. Example: Activity of a 40 lb bag of KCl salt"
   ]
  },
  {
   "cell_type": "code",
   "execution_count": 11,
   "metadata": {},
   "outputs": [
    {
     "name": "stdout",
     "output_type": "stream",
     "text": [
      "total mass: 18.10 kg\n",
      "mass of K:  9.49 kg\n",
      "number of K nuclei: 1.46e+26\n"
     ]
    }
   ],
   "source": [
    "# calculate number of K atoms in the sample\n",
    "from scipy.constants import physical_constants\n",
    "AMU = physical_constants['unified atomic mass unit'][0]\n",
    "\n",
    "K = bq.Element('Potassium')\n",
    "Cl = bq.Element('Cl')\n",
    "\n",
    "mass = 18.1  # kg\n",
    "mass_K = mass * K.atomic_mass / (K.atomic_mass + Cl.atomic_mass)\n",
    "n_K = mass_K / AMU / K.atomic_mass\n",
    "print('total mass: {:.2f} kg'.format(mass))\n",
    "print('mass of K:  {:.2f} kg'.format(mass_K))\n",
    "print('number of K nuclei: {:.2e}'.format(n_K))"
   ]
  },
  {
   "cell_type": "code",
   "execution_count": 12,
   "metadata": {},
   "outputs": [
    {
     "name": "stdout",
     "output_type": "stream",
     "text": [
      "K-40 abundance: 0.0117+/-0.0001%\n",
      "number of K-40 nuclei: 1.71e+22\n"
     ]
    }
   ],
   "source": [
    "# calculate number of K-40 nuclei\n",
    "K40 = bq.Isotope('K-40')\n",
    "print('K-40 abundance: {:.4f}%'.format(K40.abundance))\n",
    "n_K40 = n_K * K40.abundance.nominal_value / 100\n",
    "print('number of K-40 nuclei: {:.2e}'.format(n_K40))"
   ]
  },
  {
   "cell_type": "code",
   "execution_count": 13,
   "metadata": {},
   "outputs": [
    {
     "name": "stdout",
     "output_type": "stream",
     "text": [
      "half-life: 3.938e+16 s\n",
      "half-life: 1.249e+09 y\n",
      "activity: 3.01e+05 Bq\n",
      "activity: 8.14e+00 uCi\n"
     ]
    }
   ],
   "source": [
    "# determine activity of K-40\n",
    "# n(t) = n0 2^(-t / hl) = n0 exp(-t ln(2) / hl)\n",
    "# dn/dt = -n0 ln(2) / hl exp(-t ln(2) / hl)\n",
    "print('half-life: {:.3e} s'.format(K40.half_life))\n",
    "print('half-life: {:.3e} y'.format(K40.half_life / (3600 * 24 * 365)))\n",
    "\n",
    "activity_Bq = n_K40 * np.log(2) / K40.half_life  # could also use n_K40 * K40.decay_constant\n",
    "print('activity: {:.2e} Bq'.format(activity_Bq))\n",
    "activity_uCi = activity_Bq / 3.7e4\n",
    "print('activity: {:.2e} uCi'.format(activity_uCi))"
   ]
  },
  {
   "cell_type": "code",
   "execution_count": null,
   "metadata": {},
   "outputs": [],
   "source": []
  }
 ],
 "metadata": {
  "kernelspec": {
   "display_name": "Python 3",
   "language": "python",
   "name": "python3"
  },
  "language_info": {
   "codemirror_mode": {
    "name": "ipython",
    "version": 3
   },
   "file_extension": ".py",
   "mimetype": "text/x-python",
   "name": "python",
   "nbconvert_exporter": "python",
   "pygments_lexer": "ipython3",
   "version": "3.6.6"
  }
 },
 "nbformat": 4,
 "nbformat_minor": 1
}
