{
 "cells": [
  {
   "cell_type": "markdown",
   "metadata": {},
   "source": [
    "# IsotopeQuantity examples\n",
    "\n",
    "First, imports and isotope definitions to use later."
   ]
  },
  {
   "cell_type": "code",
   "execution_count": 1,
   "metadata": {
    "collapsed": true
   },
   "outputs": [],
   "source": [
    "from becquerel.tools.isotope import Isotope, IsotopeQuantity, NeutronIrradiation\n",
    "import datetime\n",
    "\n",
    "cs137 = Isotope('Cs-137')\n",
    "ba133 = Isotope('Ba-133')\n",
    "cd109 = Isotope('Cd-109')\n",
    "co57 = Isotope('Co-57')\n",
    "co60 = Isotope('Co-60')\n",
    "mn54 = Isotope('Mn-54')\n",
    "na22 = Isotope('Na-22')\n",
    "k40 = Isotope('K-40')\n",
    "u238 = Isotope('U-238')"
   ]
  },
  {
   "cell_type": "markdown",
   "metadata": {
    "collapsed": true
   },
   "source": [
    "## Decay calculations with `IsotopeQuantity`\n",
    "\n",
    "Let's see how we can use the IsotopeQuantity class to work with lab check sources.\n",
    "\n",
    "Let's start with the ubiquitous Cs-137 check source. How strong is it now?"
   ]
  },
  {
   "cell_type": "code",
   "execution_count": 2,
   "metadata": {
    "collapsed": false
   },
   "outputs": [
    {
     "data": {
      "text/plain": [
       "8.9717106122138297"
      ]
     },
     "execution_count": 2,
     "metadata": {},
     "output_type": "execute_result"
    }
   ],
   "source": [
    "cs137_chk = IsotopeQuantity(cs137, date='2008-01-15', uci=11.13)\n",
    "cs137_chk.uci_now()"
   ]
  },
  {
   "cell_type": "markdown",
   "metadata": {},
   "source": [
    "In fact, we can input an inventory of sources and easily see what's still active, without looking up half lives."
   ]
  },
  {
   "cell_type": "code",
   "execution_count": 3,
   "metadata": {
    "collapsed": false
   },
   "outputs": [
    {
     "name": "stdout",
     "output_type": "stream",
     "text": [
      "Ba-133: 5.539 uCi\n",
      "Cd-109: 0.061 uCi\n",
      "Co-57: 0.002 uCi\n",
      "Co-60: 2.740 uCi\n",
      "Mn-54: 0.005 uCi\n",
      "Na-22: 0.845 uCi\n"
     ]
    }
   ],
   "source": [
    "ba133_chk = IsotopeQuantity(ba133, date='2008-01-15', uci=10.24)\n",
    "cd109_chk = IsotopeQuantity(cd109, date='2008-01-15', uci=10.3)\n",
    "co57_chk = IsotopeQuantity(co57, date='2008-01-15', uci=11.21)\n",
    "co60_chk = IsotopeQuantity(co60, date='2008-01-15', uci=9.38)\n",
    "mn54_chk = IsotopeQuantity(mn54, date='2008-01-15', uci=9.03)\n",
    "na22_chk = IsotopeQuantity(na22, date='2008-01-15', uci=10.21)\n",
    "\n",
    "for chk in (ba133_chk, cd109_chk, co57_chk, co60_chk, mn54_chk, na22_chk):\n",
    "    print('{}: {:.3f} uCi'.format(chk.isotope, chk.uci_now()))"
   ]
  },
  {
   "cell_type": "markdown",
   "metadata": {},
   "source": [
    "There are a variety of ways to specify a source activity: Bq, number of atoms, or grams."
   ]
  },
  {
   "cell_type": "code",
   "execution_count": 4,
   "metadata": {
    "collapsed": false
   },
   "outputs": [
    {
     "data": {
      "text/plain": [
       "<becquerel.tools.isotope.IsotopeQuantity at 0x7f63c49e4f10>"
      ]
     },
     "execution_count": 4,
     "metadata": {},
     "output_type": "execute_result"
    }
   ],
   "source": [
    "IsotopeQuantity(co60, date='2017-03-16 14:00:00', bq=3.7e4)\n",
    "IsotopeQuantity(k40, date=datetime.datetime.now(), atoms=4.2e24)\n",
    "IsotopeQuantity(u238, g=0.33)"
   ]
  },
  {
   "cell_type": "markdown",
   "metadata": {},
   "source": [
    "If the `date` argument is not specified, the reference date defaults to `datetime.datetime.now()`.\n",
    "\n",
    "Of course, we can check activities at other times too, and check other quantities."
   ]
  },
  {
   "cell_type": "code",
   "execution_count": 5,
   "metadata": {
    "collapsed": false
   },
   "outputs": [
    {
     "data": {
      "text/plain": [
       "3.8317515981908059"
      ]
     },
     "execution_count": 5,
     "metadata": {},
     "output_type": "execute_result"
    }
   ],
   "source": [
    "co60_chk.uci_at('2014-11-05')"
   ]
  },
  {
   "cell_type": "code",
   "execution_count": 6,
   "metadata": {
    "collapsed": false
   },
   "outputs": [
    {
     "data": {
      "text/plain": [
       "2245.9534800162178"
      ]
     },
     "execution_count": 6,
     "metadata": {},
     "output_type": "execute_result"
    }
   ],
   "source": [
    "cd109_chk.bq_now()"
   ]
  },
  {
   "cell_type": "code",
   "execution_count": 7,
   "metadata": {
    "collapsed": false
   },
   "outputs": [
    {
     "data": {
      "text/plain": [
       "1.2830528795547293e-07"
      ]
     },
     "execution_count": 7,
     "metadata": {},
     "output_type": "execute_result"
    }
   ],
   "source": [
    "cs137_chk.g_at(cs137_chk.ref_date)"
   ]
  },
  {
   "cell_type": "code",
   "execution_count": 8,
   "metadata": {
    "collapsed": false
   },
   "outputs": [
    {
     "data": {
      "text/plain": [
       "2304691219.0364914"
      ]
     },
     "execution_count": 8,
     "metadata": {},
     "output_type": "execute_result"
    }
   ],
   "source": [
    "co57_chk.atoms_now()"
   ]
  },
  {
   "cell_type": "markdown",
   "metadata": {},
   "source": [
    "By default, the reference date we give is the creation date of the quantity. So we can't evaluate an activity before then."
   ]
  },
  {
   "cell_type": "code",
   "execution_count": 9,
   "metadata": {
    "collapsed": false
   },
   "outputs": [
    {
     "ename": "IsotopeError",
     "evalue": "The source represented by this IsotopeQuantity was created at 2008-01-15 00:00:00 and thus did not exist at 1999-01-01",
     "output_type": "error",
     "traceback": [
      "\u001b[0;31m---------------------------------------------------------------------------\u001b[0m",
      "\u001b[0;31mIsotopeError\u001b[0m                              Traceback (most recent call last)",
      "\u001b[0;32m<ipython-input-9-5b20042f3db8>\u001b[0m in \u001b[0;36m<module>\u001b[0;34m()\u001b[0m\n\u001b[0;32m----> 1\u001b[0;31m \u001b[0mcs137_chk\u001b[0m\u001b[0;34m.\u001b[0m\u001b[0mbq_at\u001b[0m\u001b[0;34m(\u001b[0m\u001b[0;34m'1999-01-01'\u001b[0m\u001b[0;34m)\u001b[0m\u001b[0;34m\u001b[0m\u001b[0m\n\u001b[0m",
      "\u001b[0;32m/home/plimley/git/becquerel/becquerel/tools/isotope.py\u001b[0m in \u001b[0;36mbq_at\u001b[0;34m(self, date)\u001b[0m\n\u001b[1;32m    653\u001b[0m         \"\"\"\n\u001b[1;32m    654\u001b[0m \u001b[0;34m\u001b[0m\u001b[0m\n\u001b[0;32m--> 655\u001b[0;31m         \u001b[0;32mreturn\u001b[0m \u001b[0mself\u001b[0m\u001b[0;34m.\u001b[0m\u001b[0matoms_at\u001b[0m\u001b[0;34m(\u001b[0m\u001b[0mdate\u001b[0m\u001b[0;34m)\u001b[0m \u001b[0;34m*\u001b[0m \u001b[0mself\u001b[0m\u001b[0;34m.\u001b[0m\u001b[0mdecay_const\u001b[0m\u001b[0;34m\u001b[0m\u001b[0m\n\u001b[0m\u001b[1;32m    656\u001b[0m \u001b[0;34m\u001b[0m\u001b[0m\n\u001b[1;32m    657\u001b[0m     \u001b[0;32mdef\u001b[0m \u001b[0muci_at\u001b[0m\u001b[0;34m(\u001b[0m\u001b[0mself\u001b[0m\u001b[0;34m,\u001b[0m \u001b[0mdate\u001b[0m\u001b[0;34m)\u001b[0m\u001b[0;34m:\u001b[0m\u001b[0;34m\u001b[0m\u001b[0m\n",
      "\u001b[0;32m/home/plimley/git/becquerel/becquerel/tools/isotope.py\u001b[0m in \u001b[0;36matoms_at\u001b[0;34m(self, date)\u001b[0m\n\u001b[1;32m    644\u001b[0m                 \u001b[0;34m'The source represented by this IsotopeQuantity was created at'\u001b[0m\u001b[0;34m\u001b[0m\u001b[0m\n\u001b[1;32m    645\u001b[0m                 + ' {} and thus did not exist at {}'.format(\n\u001b[0;32m--> 646\u001b[0;31m                     self.ref_date, date))\n\u001b[0m\u001b[1;32m    647\u001b[0m         \u001b[0;32mreturn\u001b[0m \u001b[0mself\u001b[0m\u001b[0;34m.\u001b[0m\u001b[0mref_atoms\u001b[0m \u001b[0;34m*\u001b[0m \u001b[0;36m2\u001b[0m\u001b[0;34m**\u001b[0m\u001b[0;34m(\u001b[0m\u001b[0;34m-\u001b[0m\u001b[0mdt\u001b[0m \u001b[0;34m/\u001b[0m \u001b[0mself\u001b[0m\u001b[0;34m.\u001b[0m\u001b[0mhalf_life\u001b[0m\u001b[0;34m)\u001b[0m\u001b[0;34m\u001b[0m\u001b[0m\n\u001b[1;32m    648\u001b[0m \u001b[0;34m\u001b[0m\u001b[0m\n",
      "\u001b[0;31mIsotopeError\u001b[0m: The source represented by this IsotopeQuantity was created at 2008-01-15 00:00:00 and thus did not exist at 1999-01-01"
     ]
    }
   ],
   "source": [
    "cs137_chk.bq_at('1999-01-01')"
   ]
  },
  {
   "cell_type": "markdown",
   "metadata": {},
   "source": [
    "But we can change this behavior."
   ]
  },
  {
   "cell_type": "code",
   "execution_count": 10,
   "metadata": {
    "collapsed": false
   },
   "outputs": [
    {
     "data": {
      "text/plain": [
       "1.0000000102165703"
      ]
     },
     "execution_count": 10,
     "metadata": {},
     "output_type": "execute_result"
    }
   ],
   "source": [
    "k40_src = IsotopeQuantity(k40, date=datetime.datetime.now(), g=1.0, creation_date=False)\n",
    "k40_src.g_at('1999-01-01')"
   ]
  },
  {
   "cell_type": "markdown",
   "metadata": {},
   "source": [
    "We can also evaluate the number of decays in a specific time interval, or the average activity in the interval.\n",
    "\n",
    "(In the future, this will be useful for interfacing directly with a `Spectrum` object, and calibrating efficiency, for example.)"
   ]
  },
  {
   "cell_type": "code",
   "execution_count": 11,
   "metadata": {
    "collapsed": false
   },
   "outputs": [
    {
     "data": {
      "text/plain": [
       "99595559.0625"
      ]
     },
     "execution_count": 11,
     "metadata": {},
     "output_type": "execute_result"
    }
   ],
   "source": [
    "cs137_chk.decays_from('2017-05-22 12:00:00', '2017-05-22 12:05:00')"
   ]
  },
  {
   "cell_type": "code",
   "execution_count": 12,
   "metadata": {
    "collapsed": false
   },
   "outputs": [
    {
     "data": {
      "text/plain": [
       "8.9725728885135148"
      ]
     },
     "execution_count": 12,
     "metadata": {},
     "output_type": "execute_result"
    }
   ],
   "source": [
    "cs137_chk.uci_from('2017-05-22 12:00:00', '2017-05-22 12:05:00')"
   ]
  },
  {
   "cell_type": "markdown",
   "metadata": {
    "collapsed": true
   },
   "source": [
    "Finally, we can also calculate times when the source will have decayed to a given level:"
   ]
  },
  {
   "cell_type": "code",
   "execution_count": 13,
   "metadata": {
    "collapsed": false
   },
   "outputs": [
    {
     "name": "stdout",
     "output_type": "stream",
     "text": [
      "2112-08-12 22:32:16.007576\n"
     ]
    }
   ],
   "source": [
    "print(cs137_chk.time_when(uci=1))"
   ]
  },
  {
   "cell_type": "markdown",
   "metadata": {},
   "source": [
    "## Calculating activations with `NeutronIrradiation`\n",
    "\n",
    "Currently, capture cross sections are not scraped from the web, so for now they must be input by hand. \n",
    "\n",
    "Still, `NeutronIrradiation` can make our life easier."
   ]
  },
  {
   "cell_type": "code",
   "execution_count": 14,
   "metadata": {
    "collapsed": false
   },
   "outputs": [
    {
     "name": "stdout",
     "output_type": "stream",
     "text": [
      "3.1e+11 n/cm2/s from 2017-04-30 10:32:00 to 2017-04-30 11:32:00\n"
     ]
    }
   ],
   "source": [
    "irradiation_start = '2017-04-30 10:32:00'\n",
    "irradiation_stop = '2017-04-30 11:32:00'\n",
    "flux = 3.1e11\n",
    "ni = NeutronIrradiation(irradiation_start, irradiation_stop, n_cm2_s=flux)\n",
    "print(ni)"
   ]
  },
  {
   "cell_type": "markdown",
   "metadata": {},
   "source": [
    "We can calculate how much of a sample will be activated:"
   ]
  },
  {
   "cell_type": "code",
   "execution_count": 15,
   "metadata": {
    "collapsed": false
   },
   "outputs": [
    {
     "name": "stdout",
     "output_type": "stream",
     "text": [
      "11804946779.6 Bq of Na-24 (at 2017-04-30 11:32:00)\n"
     ]
    }
   ],
   "source": [
    "iso = Isotope('Na-23')\n",
    "sample = IsotopeQuantity(iso, g=1.4, creation_date=False)\n",
    "iso2 = Isotope('Na-24')\n",
    "barns = 23   # making this up for now\n",
    "\n",
    "na24_qty = ni.activate(barns, initial_iso_q=sample, activated_iso=iso2)\n",
    "print(na24_qty)"
   ]
  },
  {
   "cell_type": "markdown",
   "metadata": {},
   "source": [
    "We can also back-calculate how much was in the original sample:"
   ]
  },
  {
   "cell_type": "code",
   "execution_count": 16,
   "metadata": {
    "collapsed": false
   },
   "outputs": [
    {
     "name": "stdout",
     "output_type": "stream",
     "text": [
      "2693.23197921 g of Na-23\n"
     ]
    }
   ],
   "source": [
    "activated_qty = IsotopeQuantity(iso2, bq=103.2, creation_date=False)\n",
    "na23_qty = ni.activate(barns, initial_iso=iso, activated_iso_q=activated_qty)\n",
    "print(na23_qty)"
   ]
  },
  {
   "cell_type": "code",
   "execution_count": null,
   "metadata": {
    "collapsed": true
   },
   "outputs": [],
   "source": []
  }
 ],
 "metadata": {
  "anaconda-cloud": {},
  "kernelspec": {
   "display_name": "Python [conda root]",
   "language": "python",
   "name": "conda-root-py"
  },
  "language_info": {
   "codemirror_mode": {
    "name": "ipython",
    "version": 2
   },
   "file_extension": ".py",
   "mimetype": "text/x-python",
   "name": "python",
   "nbconvert_exporter": "python",
   "pygments_lexer": "ipython2",
   "version": "2.7.12"
  }
 },
 "nbformat": 4,
 "nbformat_minor": 1
}
