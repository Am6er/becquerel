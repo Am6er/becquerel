{
 "cells": [
  {
   "cell_type": "code",
   "execution_count": 1,
   "metadata": {
    "collapsed": true
   },
   "outputs": [],
   "source": [
    "import numpy as np\n",
    "from becquerel import rebin"
   ]
  },
  {
   "cell_type": "markdown",
   "metadata": {},
   "source": [
    "Rebin can take in numpy arrays (both 1D and 2D, with the shape (number of spectra, number of bins) directly:"
   ]
  },
  {
   "cell_type": "code",
   "execution_count": 2,
   "metadata": {
    "collapsed": false
   },
   "outputs": [],
   "source": [
    "in_spectrum_1D = np.array([1,2,2,3,1,0])\n",
    "in_edges = np.array([0,2,4,6,8,10,12])\n",
    "out_edges = np.array([0,1,3,6,7,9])  # The edges does not have to be equally spaced"
   ]
  },
  {
   "cell_type": "markdown",
   "metadata": {},
   "source": [
    "TODO: rebinning spectrum objects"
   ]
  },
  {
   "cell_type": "markdown",
   "metadata": {},
   "source": [
    "## Rebinning methods\n",
    "\n",
    "there are two rebinning methods, `interpolation` and `listmode`  \n",
    "- `interpolation`: assuming that the distribution within each bin is flat (or as specified in the `slopes` argument), put the proportion of counts into each of the corresponding new bins. Counts may become fractional after the rebinning, and this does not preserve Poisson statistics. (TODO: add how the `slopes` argument works)\n",
    "- `listmode`: carries out a stochastic rebinning, by randomly sampling energies within each bin and binning all these energies into the new bin structure"
   ]
  },
  {
   "cell_type": "code",
   "execution_count": 3,
   "metadata": {
    "collapsed": false
   },
   "outputs": [
    {
     "data": {
      "text/plain": [
       "array([ 0.5,  1.5,  3. ,  1.5,  2.5])"
      ]
     },
     "execution_count": 3,
     "metadata": {},
     "output_type": "execute_result"
    }
   ],
   "source": [
    "rebin(in_spectrum_1D, in_edges, out_edges, method='interpolation', slopes=None)"
   ]
  },
  {
   "cell_type": "code",
   "execution_count": 4,
   "metadata": {
    "collapsed": false
   },
   "outputs": [
    {
     "data": {
      "text/plain": [
       "array([1, 0, 4, 2, 2])"
      ]
     },
     "execution_count": 4,
     "metadata": {},
     "output_type": "execute_result"
    }
   ],
   "source": [
    "rebin(in_spectrum_1D, in_edges, out_edges, method='listmode', slopes=None)"
   ]
  },
  {
   "cell_type": "markdown",
   "metadata": {},
   "source": [
    "### 2D Rebinning\n",
    "You can rebin multiple spectra at the same time, too. The example uses the same input bin edges as the 1D example."
   ]
  },
  {
   "cell_type": "code",
   "execution_count": 5,
   "metadata": {
    "collapsed": true
   },
   "outputs": [],
   "source": [
    "in_spectrum_2D = np.array([[1,2,2,3,1,0], [1,1,5,2,6,3], [5,7,1,3,2,8]])\n",
    "out_edges = np.arange(15)"
   ]
  },
  {
   "cell_type": "code",
   "execution_count": 6,
   "metadata": {
    "collapsed": false
   },
   "outputs": [
    {
     "data": {
      "text/plain": [
       "array([[ 0.5,  0.5,  1. ,  1. ,  1. ,  1. ,  1.5,  1.5,  0.5,  0.5,  0. ,\n",
       "         0. ,  0. ,  0. ],\n",
       "       [ 0.5,  0.5,  0.5,  0.5,  2.5,  2.5,  1. ,  1. ,  3. ,  3. ,  1.5,\n",
       "         1.5,  0. ,  0. ],\n",
       "       [ 2.5,  2.5,  3.5,  3.5,  0.5,  0.5,  1.5,  1.5,  1. ,  1. ,  4. ,\n",
       "         4. ,  0. ,  0. ]])"
      ]
     },
     "execution_count": 6,
     "metadata": {},
     "output_type": "execute_result"
    }
   ],
   "source": [
    "rebin(in_spectrum_2D, in_edges, out_edges, method='interpolation', slopes=None)"
   ]
  },
  {
   "cell_type": "code",
   "execution_count": 7,
   "metadata": {
    "collapsed": false
   },
   "outputs": [
    {
     "data": {
      "text/plain": [
       "array([[1, 0, 1, 1, 1, 1, 1, 2, 0, 1, 0, 0, 0, 0],\n",
       "       [0, 1, 0, 1, 4, 1, 2, 0, 5, 1, 0, 3, 0, 0],\n",
       "       [1, 4, 4, 3, 1, 0, 1, 2, 1, 1, 5, 3, 0, 0]])"
      ]
     },
     "execution_count": 7,
     "metadata": {},
     "output_type": "execute_result"
    }
   ],
   "source": [
    "rebin(in_spectrum_2D, in_edges, out_edges, method='listmode', slopes=None)"
   ]
  },
  {
   "cell_type": "markdown",
   "metadata": {},
   "source": [
    "TODO: add graphs"
   ]
  }
 ],
 "metadata": {
  "kernelspec": {
   "display_name": "Python 3",
   "language": "python",
   "name": "python3"
  },
  "language_info": {
   "codemirror_mode": {
    "name": "ipython",
    "version": 3
   },
   "file_extension": ".py",
   "mimetype": "text/x-python",
   "name": "python",
   "nbconvert_exporter": "python",
   "pygments_lexer": "ipython3",
   "version": "3.6.5"
  }
 },
 "nbformat": 4,
 "nbformat_minor": 2
}
